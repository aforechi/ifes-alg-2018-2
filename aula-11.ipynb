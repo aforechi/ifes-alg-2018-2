{
 "cells": [
  {
   "cell_type": "markdown",
   "metadata": {},
   "source": [
    "# Aula 11: Vetores, Strings e Matrizes\n",
    "\n",
    "## Revisão\n",
    "\n",
    "- Variáveis\n",
    "    - Declaração, definição, escopo\n",
    "- Constantes\n",
    "- Tipos de Dados\n",
    "    - Tipos simples\n",
    "        - Inteiro, Real e Caracter\n",
    "    - Tipo Composto Heterogêneo \n",
    "        - Tipo Abstrato de Dados\n",
    "- Funções\n",
    "    - Declaração, definição, parâmetros, tipo/retorno, chamada\n",
    "\n",
    "## Nesta aula\n",
    "\n",
    "- Vetores\n",
    "- Strings\n",
    "- Matrizes\n",
    "\n",
    "## Vetores\n",
    "\n",
    "Um vetor (ou matriz unidimensional) é uma variável que armazena seqüencialmente várias informações do mesmo tipo. \n",
    "\n",
    "Assim como uma variável, deve ter identificador e tipo. \n",
    "\n",
    "Como armazena vários valores, um vetor deve ter tamanho, isto é, o número de posições.\n",
    "\n",
    "![](img/Picture18.png)\n",
    "\n",
    "Sintaxe para declarar vetores:\n",
    "\n",
    "tipo nomevetor[tamanho]\n",
    "\n",
    "Exemplos:\n",
    "\n",
    "int numeros[5];\n",
    "![](img/Picture19.png)\n",
    "\n",
    "char palavra[5];\n",
    "![](img/Picture20.png)\n",
    "\n",
    "O tamanho de um vetor deve sempre ser maior ou igual à quantidade de valores que ele armazena. Caso contrário, haverá erro de **falha de segmentação**.\n",
    "\n",
    "### Acesso/Atribuição estática e dinâmica\n",
    "\n",
    "Como armazenar valores em vetores \n",
    "\n",
    "nomevetor[posicao] = valor;\n",
    "\n",
    "Exemplo:"
   ]
  },
  {
   "cell_type": "code",
   "execution_count": 1,
   "metadata": {},
   "outputs": [],
   "source": [
    "float notas[3] = {4.6, 7.8, 9.3};"
   ]
  },
  {
   "cell_type": "code",
   "execution_count": 6,
   "metadata": {},
   "outputs": [
    {
     "data": {
      "text/plain": [
       "{ 4.60000f, 7.80000f, 9.30000f }"
      ]
     },
     "execution_count": 6,
     "metadata": {},
     "output_type": "execute_result"
    }
   ],
   "source": [
    "notas"
   ]
  },
  {
   "cell_type": "code",
   "execution_count": 7,
   "metadata": {},
   "outputs": [],
   "source": [
    "int vet[99];\n",
    "\n",
    "for (int i=0; i<99; i++)\n",
    "    vet[i] = i+1;"
   ]
  },
  {
   "cell_type": "code",
   "execution_count": 9,
   "metadata": {},
   "outputs": [
    {
     "name": "stdout",
     "output_type": "stream",
     "text": [
      "vet[0]=1\n",
      "vet[1]=2\n",
      "vet[2]=3\n",
      "vet[3]=4\n",
      "vet[4]=5\n",
      "vet[5]=6\n",
      "vet[6]=7\n",
      "vet[7]=8\n",
      "vet[8]=9\n",
      "vet[9]=10\n",
      "vet[10]=11\n",
      "vet[11]=12\n",
      "vet[12]=13\n",
      "vet[13]=14\n",
      "vet[14]=15\n",
      "vet[15]=16\n",
      "vet[16]=17\n",
      "vet[17]=18\n",
      "vet[18]=19\n",
      "vet[19]=20\n",
      "vet[20]=21\n",
      "vet[21]=22\n",
      "vet[22]=23\n",
      "vet[23]=24\n",
      "vet[24]=25\n",
      "vet[25]=26\n",
      "vet[26]=27\n",
      "vet[27]=28\n",
      "vet[28]=29\n",
      "vet[29]=30\n",
      "vet[30]=31\n",
      "vet[31]=32\n",
      "vet[32]=33\n",
      "vet[33]=34\n",
      "vet[34]=35\n",
      "vet[35]=36\n",
      "vet[36]=37\n",
      "vet[37]=38\n",
      "vet[38]=39\n",
      "vet[39]=40\n",
      "vet[40]=41\n",
      "vet[41]=42\n",
      "vet[42]=43\n",
      "vet[43]=44\n",
      "vet[44]=45\n",
      "vet[45]=46\n",
      "vet[46]=47\n",
      "vet[47]=48\n",
      "vet[48]=49\n",
      "vet[49]=50\n",
      "vet[50]=51\n",
      "vet[51]=52\n",
      "vet[52]=53\n",
      "vet[53]=54\n",
      "vet[54]=55\n",
      "vet[55]=56\n",
      "vet[56]=57\n",
      "vet[57]=58\n",
      "vet[58]=59\n",
      "vet[59]=60\n",
      "vet[60]=61\n",
      "vet[61]=62\n",
      "vet[62]=63\n",
      "vet[63]=64\n",
      "vet[64]=65\n",
      "vet[65]=66\n",
      "vet[66]=67\n",
      "vet[67]=68\n",
      "vet[68]=69\n",
      "vet[69]=70\n",
      "vet[70]=71\n",
      "vet[71]=72\n",
      "vet[72]=73\n",
      "vet[73]=74\n",
      "vet[74]=75\n",
      "vet[75]=76\n",
      "vet[76]=77\n",
      "vet[77]=78\n",
      "vet[78]=79\n",
      "vet[79]=80\n",
      "vet[80]=81\n",
      "vet[81]=82\n",
      "vet[82]=83\n",
      "vet[83]=84\n",
      "vet[84]=85\n",
      "vet[85]=86\n",
      "vet[86]=87\n",
      "vet[87]=88\n",
      "vet[88]=89\n",
      "vet[89]=90\n",
      "vet[90]=91\n",
      "vet[91]=92\n",
      "vet[92]=93\n",
      "vet[93]=94\n",
      "vet[94]=95\n",
      "vet[95]=96\n",
      "vet[96]=97\n",
      "vet[97]=98\n",
      "vet[98]=99\n"
     ]
    }
   ],
   "source": [
    "#include<iostream>\n",
    "for (int i=0; i<99; i++)\n",
    "    std::cout << \"vet[\" << i << \"]=\" << vet[i] << std::endl;"
   ]
  },
  {
   "cell_type": "markdown",
   "metadata": {},
   "source": [
    "Exemplo: Armazene o valor 0 na posição 0 e qualquer valor nas demais posições de um vetor. Ao final, escolha uma posição e mostre o que está nessa posição no vetor. Se a posição não existir, mostre “Posição inválida”."
   ]
  },
  {
   "cell_type": "code",
   "execution_count": 10,
   "metadata": {},
   "outputs": [],
   "source": [
    "#include<iostream>\n",
    "#include<cstdlib>\n",
    "#include<time.h>\n",
    "\n",
    "srand( (unsigned) time(NULL) );\n",
    "\n",
    "int posicao;\n",
    "int vetint[5];\n",
    "\n",
    "vetint[0] = 0;\n",
    "\n",
    "for (int i=1;i<5;i++)\n",
    "{\n",
    "    vetint[i] = rand() % 1000;\n",
    "}"
   ]
  },
  {
   "cell_type": "code",
   "execution_count": 11,
   "metadata": {},
   "outputs": [
    {
     "name": "stdout",
     "output_type": "stream",
     "text": [
      "Sorteie uma posição de 0 a 4: O indice 2 contém o valor 683"
     ]
    }
   ],
   "source": [
    "std::cout << \"Sorteie uma posição de 0 a 4: \";\n",
    "posicao = rand() % 5;\n",
    "\n",
    "if (posicao>=0 && posicao<5)\n",
    "{\n",
    "    std::cout << \"O indice \" << posicao << \" contém o valor \" << vetint[posicao];\n",
    "}"
   ]
  },
  {
   "cell_type": "code",
   "execution_count": 13,
   "metadata": {},
   "outputs": [
    {
     "data": {
      "text/plain": [
       "{ 0, 682, 683, 73, 293 }"
      ]
     },
     "execution_count": 13,
     "metadata": {},
     "output_type": "execute_result"
    }
   ],
   "source": [
    "vetint"
   ]
  },
  {
   "cell_type": "markdown",
   "metadata": {},
   "source": [
    "### Usado como parâmetro de função:\n"
   ]
  },
  {
   "cell_type": "code",
   "execution_count": 14,
   "metadata": {},
   "outputs": [],
   "source": [
    "float calcMedia(float vetNotas[3]) {\n",
    "    float soma = 0;\n",
    "    for (int i=0; i < 3; i++)\n",
    "        soma += vetNotas[i];\n",
    "    return soma/3.0;\n",
    "}"
   ]
  },
  {
   "cell_type": "code",
   "execution_count": 15,
   "metadata": {},
   "outputs": [
    {
     "data": {
      "text/plain": [
       "7.23333f"
      ]
     },
     "execution_count": 15,
     "metadata": {},
     "output_type": "execute_result"
    }
   ],
   "source": [
    "calcMedia(notas)"
   ]
  },
  {
   "cell_type": "markdown",
   "metadata": {},
   "source": [
    "## Exercício\n",
    "\n",
    "- Faça um programa que sorteie 10 números inteiros e guarde-os em um vetor. Depois percorra o vetor para descobrir qual o maior número sorteado."
   ]
  },
  {
   "cell_type": "code",
   "execution_count": null,
   "metadata": {},
   "outputs": [],
   "source": []
  },
  {
   "cell_type": "markdown",
   "metadata": {},
   "source": [
    "## Strings\n",
    "\n",
    "Strings são vetores de chars. É um vetor de caracteres encerrado por um caracter especial nulo => ‘\\0’.\n",
    "\n",
    "São declaradas da seguinte forma:\n",
    "\n",
    "**char** nomestring [tamanho];\n",
    "\n",
    "Exemplo:"
   ]
  },
  {
   "cell_type": "code",
   "execution_count": 16,
   "metadata": {},
   "outputs": [],
   "source": [
    "char nulo = '\\0';"
   ]
  },
  {
   "cell_type": "code",
   "execution_count": 21,
   "metadata": {},
   "outputs": [
    {
     "data": {
      "text/plain": [
       "{ 4.60000f, 7.80000f, 9.30000f }"
      ]
     },
     "execution_count": 21,
     "metadata": {},
     "output_type": "execute_result"
    }
   ],
   "source": [
    "std::cout << nulo;"
   ]
  },
  {
   "cell_type": "code",
   "execution_count": 19,
   "metadata": {},
   "outputs": [
    {
     "name": "stdout",
     "output_type": "stream",
     "text": [
      "vetor"
     ]
    }
   ],
   "source": [
    "#include<iostream>\n",
    "char nome_alternativo[6] = {'v','e','t','o','r'};\n",
    "char nome[6] = \"vetor\";\n",
    "std::cout << nome;"
   ]
  },
  {
   "cell_type": "code",
   "execution_count": 25,
   "metadata": {},
   "outputs": [
    {
     "data": {
      "text/plain": [
       "5"
      ]
     },
     "execution_count": 25,
     "metadata": {},
     "output_type": "execute_result"
    }
   ],
   "source": [
    "strlen(nome)"
   ]
  },
  {
   "cell_type": "markdown",
   "metadata": {},
   "source": [
    "![figura](img/Picture21.png)\n",
    "\n",
    "## Principais funções para manipular strings\n",
    "\n",
    "strcpy(s1,s2) – copia s2 em s1\n",
    "\n",
    "strcat(s1,s2) – concatena s2 no final de s1\n",
    "\n",
    "strlen(s1) – retorna o tamanho de s1\n",
    "\n",
    "strcmp(s1,s2) – retorna :\n",
    "- 0 se s1 e s2 são iguais; \n",
    "- menor que 0 se s1<s2 e \n",
    "- maior que zero, se s1>s2.\n",
    "\n",
    "Para manipular strings (armazenar, copiar, concatenar, etc.) utilizamos as funções da biblioteca padrão < string >."
   ]
  },
  {
   "cell_type": "code",
   "execution_count": 26,
   "metadata": {},
   "outputs": [
    {
     "name": "stdout",
     "output_type": "stream",
     "text": [
      "Comprimentos 14 21\n",
      "string pequenastring um pouco maior\n",
      "CASA está em MINHA CASA\n",
      "\n",
      "As strings são diferentes\n"
     ]
    }
   ],
   "source": [
    "#include<iostream>\n",
    "#include<string>\n",
    "\n",
    "/* Inicializar strings */\n",
    "char s1[80] = \"string pequena\";\n",
    "char s2[80] = \"string um pouco maior\";    \n",
    "\n",
    "/* Calcula comprimentos das strings */\n",
    "std::cout << \"Comprimentos \" << strlen(s1) << \" \" << strlen(s2) << std::endl;\n",
    "\n",
    "/* concatenar s2 em s1 */\n",
    "strcat(s1,s2);\n",
    "std::cout << s1;\n",
    "\n",
    "/* Procurar se a string “casa” ocorre em “minha casa”*/\n",
    "if(strstr(\"Minha casa\", \"casa\"))\n",
    "    std::cout << \"\\nCASA está em MINHA CASA\\n\";\n",
    "\n",
    "if (strcmp(\"casa\", \"CASA\") != 0) \n",
    "    std::cout << \"\\nAs strings são diferentes\\n\";\n"
   ]
  },
  {
   "cell_type": "code",
   "execution_count": 27,
   "metadata": {},
   "outputs": [
    {
     "data": {
      "text/plain": [
       "1"
      ]
     },
     "execution_count": 27,
     "metadata": {},
     "output_type": "execute_result"
    }
   ],
   "source": [
    "strcmp(\"casa\", \"CASA\")"
   ]
  },
  {
   "cell_type": "markdown",
   "metadata": {},
   "source": [
    "## Matrizes\n",
    "\n",
    "Uma matriz é um vetor de vetores\n",
    "\n",
    "A forma mais simples de matriz multidimensional é a matriz bidimensional.\n",
    "\n",
    "Exemplo de matriz bidimensional (ou tabela):\n",
    "\n",
    "![](img/Picture22.png)\n",
    "\n",
    "### Sintaxe para declarar matrizes\n",
    "\n",
    "tipo nome [dim1][dim2][dim3]...[dimN];\n",
    "\n",
    "Exemplo:"
   ]
  },
  {
   "cell_type": "code",
   "execution_count": 28,
   "metadata": {},
   "outputs": [],
   "source": [
    "int A[10][10];"
   ]
  },
  {
   "cell_type": "code",
   "execution_count": 29,
   "metadata": {},
   "outputs": [
    {
     "name": "stdout",
     "output_type": "stream",
     "text": [
      "0"
     ]
    }
   ],
   "source": [
    "//Acessando elementos\n",
    "std::cout << A[1][0];"
   ]
  },
  {
   "cell_type": "code",
   "execution_count": 30,
   "metadata": {},
   "outputs": [],
   "source": [
    "//Atribuindo elementos\n",
    "A[0][2] = 25;"
   ]
  },
  {
   "cell_type": "code",
   "execution_count": 31,
   "metadata": {},
   "outputs": [
    {
     "data": {
      "text/plain": [
       "{ { 0, 0, 25, 0, 0, 0, 0, 0, 0, 0 }, { 0, 0, 0, 0, 0, 0, 0, 0, 0, 0 }, { 0, 0, 0, 0, 0, 0, 0, 0, 0, 0 }, { 0, 0, 0, 0, 0, 0, 0, 0, 0, 0 }, { 0, 0, 0, 0, 0, 0, 0, 0, 0, 0 }, { 0, 0, 0, 0, 0, 0, 0, 0, 0, 0 }, { 0, 0, 0, 0, 0, 0, 0, 0, 0, 0 }, { 0, 0, 0, 0, 0, 0, 0, 0, 0, 0 }, { 0, 0, 0, 0, 0, 0, 0, 0, 0, 0 }, { 0, 0, 0, 0, 0, 0, 0, 0, 0, 0 } }"
      ]
     },
     "execution_count": 31,
     "metadata": {},
     "output_type": "execute_result"
    }
   ],
   "source": [
    "A"
   ]
  },
  {
   "cell_type": "markdown",
   "metadata": {},
   "source": [
    "### Inicialização de vetores x strings x matrizes\n",
    "\n",
    "Exemplos:"
   ]
  },
  {
   "cell_type": "code",
   "execution_count": 32,
   "metadata": {},
   "outputs": [],
   "source": [
    "int De1a10[10] =  {1, 2, 3, 4, 5, 6, 7, 8, 9, 10};\n",
    "char str[21] = \"Engenharia Mecânica\";\n",
    "int tabela[4][2] = {\n",
    "1,1,\n",
    "2,4,\n",
    "3,9,\n",
    "4,16\n",
    "}; \n",
    "\n",
    "//Pode-se alternativamente adicionar várias linhas à tabela, preservando-se fixo o número de colunas.\n",
    "int tabela2[][2] = {\n",
    "1,1,\n",
    "2,4,\n",
    "3,9,\n",
    "4,16\n",
    "}; "
   ]
  },
  {
   "cell_type": "code",
   "execution_count": 33,
   "metadata": {},
   "outputs": [
    {
     "data": {
      "text/plain": [
       "{ 1, 2, 3, 4, 5, 6, 7, 8, 9, 10 }"
      ]
     },
     "execution_count": 33,
     "metadata": {},
     "output_type": "execute_result"
    }
   ],
   "source": [
    "De1a10"
   ]
  },
  {
   "cell_type": "markdown",
   "metadata": {},
   "source": [
    "### Inicialização de matrizes não-dimensionadas\n"
   ]
  },
  {
   "cell_type": "code",
   "execution_count": 34,
   "metadata": {},
   "outputs": [
    {
     "name": "stdout",
     "output_type": "stream",
     "text": [
      "Olá, Mundo! \n",
      "tem 14 caracteres\n"
     ]
    }
   ],
   "source": [
    "char e1[]=\"Olá, Mundo! \\n\";\n",
    "char e2[]=\"Bom dia, Aracruz! \\n\";\n",
    "\n",
    "//Os tamanhos de e1 e e2 são definidos pelo compilador C++\n",
    "\n",
    "std::cout << e1 <<  \"tem \" << strlen(e1) << \" caracteres\\n\";"
   ]
  },
  {
   "cell_type": "code",
   "execution_count": 35,
   "metadata": {},
   "outputs": [
    {
     "name": "stdout",
     "output_type": "stream",
     "text": [
      "83 69 41 \n",
      "25 88 29 \n",
      "94 21 70 \n"
     ]
    }
   ],
   "source": [
    "// Exemplo: Preencha uma matriz 3x3 com números inteiros aleatórios e mostre sua diagonal.\n",
    "#include<iostream>\n",
    "#include<cstdlib>\n",
    "#include<time.h>\n",
    "\n",
    "srand( (unsigned) time(NULL) );\n",
    "\n",
    "int numeros[3][3];\n",
    "\n",
    "for(int i=0;i<3;i++) {\n",
    "    for(int j=0;j<3;j++) {\n",
    "        numeros[i][j] = rand()%100;\n",
    "        std::cout << numeros[i][j] << \" \";\n",
    "    }\n",
    "    std::cout << std::endl;\n",
    "}\n",
    "  "
   ]
  },
  {
   "cell_type": "code",
   "execution_count": 36,
   "metadata": {},
   "outputs": [
    {
     "name": "stdout",
     "output_type": "stream",
     "text": [
      "83\n",
      "88\n",
      "70\n"
     ]
    }
   ],
   "source": [
    "for(int i=0;i<3;i++) \n",
    "    std::cout << numeros[i][i] << std::endl;"
   ]
  },
  {
   "cell_type": "code",
   "execution_count": null,
   "metadata": {},
   "outputs": [],
   "source": []
  },
  {
   "cell_type": "markdown",
   "metadata": {},
   "source": [
    "### Exercícios:\n",
    "- Preencha uma matriz 5x5 e passe como parâmetro para as seguintes funções exibirem:\n",
    "    - a matriz triangular inferior, \n",
    "    - a diagonal principal e \n",
    "    - a matriz triangular superior.\n",
    "- Você saberia fazer um jogo da velha em C/C++?\n"
   ]
  },
  {
   "cell_type": "code",
   "execution_count": 1,
   "metadata": {},
   "outputs": [],
   "source": [
    "int vencedor(int matriz[3][3]){\n",
    "    // testa se há vencedor nas linhas\n",
    "    for(int i=0; i < 3; i++){\n",
    "        if (matriz[i][0] == matriz[i][1] && \n",
    "            matriz[i][1] == matriz[i][2] && \n",
    "            matriz[i][1] != -1)\n",
    "                return matriz[i][1];\n",
    "    }\n",
    "    // testa se há vencedor nas colunas\n",
    "    for(int j=0; j < 3; j++){\n",
    "        if (matriz[0][j] == matriz[1][j] && \n",
    "            matriz[1][j] == matriz[2][j] && \n",
    "            matriz[1][j] != -1)\n",
    "                return matriz[1][j];\n",
    "    }\n",
    "    // testa se há vencedor na diagonal principal\n",
    "    if (matriz[0][0] == matriz[1][1] && \n",
    "        matriz[1][1] == matriz[2][2] && \n",
    "        matriz[1][1] != -1)\n",
    "        return matriz[1][1];\n",
    "    // testa se há vencedor na diagonal secundária\n",
    "    if (matriz[0][2] == matriz[1][1] && \n",
    "        matriz[1][1] == matriz[2][0] && \n",
    "        matriz[1][1] != -1)\n",
    "        return matriz[1][1];\n",
    "    return -1;\n",
    "}"
   ]
  },
  {
   "cell_type": "code",
   "execution_count": 2,
   "metadata": {},
   "outputs": [],
   "source": [
    "#include<iostream>\n",
    "#include<cstdlib>\n",
    "#include<time.h>\n",
    "\n",
    "srand( (unsigned) time(NULL) );\n",
    "\n",
    "int matriz[3][3];\n",
    "\n",
    "for(int i=0; i<3; i++)\n",
    "    for(int j=0; j<3; j++)\n",
    "        matriz[i][j] = -1;"
   ]
  },
  {
   "cell_type": "code",
   "execution_count": 3,
   "metadata": {},
   "outputs": [
    {
     "data": {
      "text/plain": [
       "{ { -1, -1, -1 }, { -1, -1, -1 }, { -1, -1, -1 } }"
      ]
     },
     "execution_count": 3,
     "metadata": {},
     "output_type": "execute_result"
    }
   ],
   "source": [
    "matriz"
   ]
  },
  {
   "cell_type": "code",
   "execution_count": 4,
   "metadata": {},
   "outputs": [],
   "source": [
    "int i, j;\n",
    "while(vencedor(matriz) == -1)\n",
    "{\n",
    "    // primeiro jogador O\n",
    "    do {\n",
    "        i = rand()%3;\n",
    "        j = rand()%3;\n",
    "    } while(matriz[i][j] != -1);\n",
    "    matriz[i][j] = 0;\n",
    "\n",
    "    // segundo jogador X\n",
    "    do {\n",
    "        i = rand()%3;\n",
    "        j = rand()%3;\n",
    "    } while(matriz[i][j] != -1);\n",
    "    matriz[i][j] = 1;\n",
    "}"
   ]
  },
  {
   "cell_type": "code",
   "execution_count": 5,
   "metadata": {},
   "outputs": [
    {
     "data": {
      "text/plain": [
       "0"
      ]
     },
     "execution_count": 5,
     "metadata": {},
     "output_type": "execute_result"
    }
   ],
   "source": [
    "vencedor(matriz)"
   ]
  },
  {
   "cell_type": "code",
   "execution_count": 6,
   "metadata": {},
   "outputs": [
    {
     "name": "stdout",
     "output_type": "stream",
     "text": [
      "0 1 1 \n",
      "1 -1 1 \n",
      "0 0 0 \n",
      "vencedor: 0"
     ]
    }
   ],
   "source": [
    "for(int i=0;i<3;i++) {\n",
    "    for(int j=0;j<3;j++) {\n",
    "        std::cout << matriz[i][j] << \" \";\n",
    "    }\n",
    "    std::cout << std::endl;\n",
    "}\n",
    "\n",
    "std::cout << \"vencedor: \" << vencedor(matriz);"
   ]
  },
  {
   "cell_type": "markdown",
   "metadata": {},
   "source": [
    "## Boas práticas de programação\n",
    "\n",
    "- Entenda claramente como os dados estão sendo armazenados em vetores e matrizes. Dica: Faça simulações em desenhos.\n",
    "- Observe como os índices percorrem vetores e matrizes. Certifique-se de que variam a partir da posição zero e não ultrapassam a posição (n-1), onde n é o número de itens (em linhas e/ou colunas).\n",
    "- Tenha certeza de que reservou espaço de sobra para armazenar vetores e matrizes.\n",
    "- Ao realizar testes de matrizes e vetores, primeiro faça para um número pequeno de dimensões e depois para um número maior.\n"
   ]
  },
  {
   "cell_type": "code",
   "execution_count": null,
   "metadata": {},
   "outputs": [],
   "source": []
  }
 ],
 "metadata": {
  "kernelspec": {
   "display_name": "C++14",
   "language": "C++14",
   "name": "xcpp14"
  },
  "language_info": {
   "codemirror_mode": "text/x-c++src",
   "file_extension": ".cpp",
   "mimetype": "text/x-c++src",
   "name": "c++",
   "version": "14"
  }
 },
 "nbformat": 4,
 "nbformat_minor": 4
}
