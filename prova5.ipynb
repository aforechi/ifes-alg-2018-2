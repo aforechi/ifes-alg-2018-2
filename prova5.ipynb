{
 "cells": [
  {
   "cell_type": "markdown",
   "metadata": {},
   "source": [
    "# Notebook para avaliação\n",
    "\n",
    "1. Implemente cada questão numa caixa de código separado utilizando dentro de um escopo local delimitado por {}.\n",
    "2. Ao finalizar a implementação das questões, execute todas e verifique se há erros. \n",
    "3. Após executar todas as questões, exporte o notebook como HTML utilizando a opção disponivel no menu FILE.\n",
    "4. Finalmente, envie o arquivo exportado (prova.html) pelo AVA."
   ]
  },
  {
   "cell_type": "code",
   "execution_count": 1,
   "metadata": {},
   "outputs": [
    {
     "name": "stdout",
     "output_type": "stream",
     "text": [
      "Escolha uma revista:\n"
     ]
    },
    {
     "name": "stdin",
     "output_type": "stream",
     "text": [
      " a\n"
     ]
    },
    {
     "name": "stdout",
     "output_type": "stream",
     "text": [
      "Revista escolhida: Atualidades\n",
      "Escolha a forma de pagamento:\n"
     ]
    },
    {
     "name": "stdin",
     "output_type": "stream",
     "text": [
      " 3\n"
     ]
    },
    {
     "name": "stdout",
     "output_type": "stream",
     "text": [
      "Valor atualizado: R$ 75.9\n"
     ]
    }
   ],
   "source": [
    "// Questão 1\n",
    "#include <iostream>\n",
    "\n",
    "//LETRA A\n",
    "typedef struct {\n",
    "    char codigo;\n",
    "    char nome[20];\n",
    "    float valor;\n",
    "\n",
    "    //LETRA B\n",
    "    void assinar(char codigo){\n",
    "        switch(codigo) {\n",
    "            case 'I': case 'i': \n",
    "                (*this) = {'I', \"Internet\", 70.5};\n",
    "                break;\n",
    "            case 'A': case 'a': \n",
    "                (*this) = {'A', \"Atualidades\", 69.0};\n",
    "                break;\n",
    "            case 'C': case 'c': \n",
    "                (*this) = {'I', \"Cozinhas\", 75.0};\n",
    "                break;\n",
    "            case 'M': case 'm': \n",
    "                (*this) = {'M', \"Moda e Moldes\", 50.0};\n",
    "                break;\n",
    "            default:\n",
    "                (*this) = {' ', \"\", 0.0};\n",
    "        }\n",
    "    }\n",
    "\n",
    "    //LETRA C\n",
    "    void pagar(int parcelas){\n",
    "        if (parcelas == 0)\n",
    "            valor *= 0.7;\n",
    "        else if (parcelas > 1 && parcelas <= 6)\n",
    "            valor *= 1.1;\n",
    "    }\n",
    "} tAssinatura;\n",
    "\n",
    "{\n",
    "    int parcelas = 0;\n",
    "    char codigo = 'I';\n",
    "    std::cout << \"Escolha uma revista:\\n\";\n",
    "    std::cin >> codigo;\n",
    "\n",
    "    tAssinatura revista;\n",
    "    revista.assinar(codigo);\n",
    "    std::cout << \"Revista escolhida: \" << revista.nome << std::endl;\n",
    "\n",
    "    std::cout << \"Escolha a forma de pagamento:\\n\";\n",
    "    std::cin >> parcelas;\n",
    "\n",
    "    revista.pagar(parcelas);\n",
    "    std::cout << \"Valor atualizado: R$ \" << revista.valor << std::endl;\n",
    "}"
   ]
  },
  {
   "cell_type": "code",
   "execution_count": 1,
   "metadata": {},
   "outputs": [],
   "source": [
    "#include <iostream>\n",
    "#include <fstream>\n",
    "#include <stdlib.h>\n",
    "\n",
    "srand(5);\n",
    "\n",
    "typedef struct{\n",
    "    std::string nome;\n",
    "    float nota;    \n",
    "}tAluno;\n",
    "\n",
    "const int TAM = 70;\n",
    "tAluno alunos[TAM];\n",
    "\n",
    "std::ofstream novo;\n",
    "std::ifstream leitura;\n",
    "std::ofstream aprovados;\n",
    "\n",
    "novo.open(\"alunos_matriculados.txt\");\n",
    "for(int i=0; i < TAM; i++) {\n",
    "    novo << \"Aluno\" << i << \" \" << (rand()%100)+1;\n",
    "    if (i < TAM-1)\n",
    "        novo << std::endl;\n",
    "}\n",
    "novo.close();"
   ]
  },
  {
   "cell_type": "code",
   "execution_count": 2,
   "metadata": {},
   "outputs": [],
   "source": [
    "//LETRA A\n",
    "std::ifstream alunos_matriculados;\n",
    "alunos_matriculados.open(\"alunos_matriculados.txt\");\n",
    "for(int i = 0; i < TAM; i++) {\n",
    "    alunos_matriculados >> alunos[i].nome;\n",
    "    alunos_matriculados >> alunos[i].nota;\n",
    "}\n",
    "alunos_matriculados.close();"
   ]
  },
  {
   "cell_type": "code",
   "execution_count": 3,
   "metadata": {},
   "outputs": [
    {
     "name": "stdout",
     "output_type": "stream",
     "text": [
      "media: 51.9\n",
      "sigma: 28.2596\n"
     ]
    }
   ],
   "source": [
    "//LETRA B\n",
    "float media = 0.0;\n",
    "for(int i = 0; i < TAM; i++)\n",
    "    media += alunos[i].nota;\n",
    "media /= (float)TAM;\n",
    "std::cout << \"media: \" << media << std::endl;\n",
    "\n",
    "float sigma = 0;\n",
    "for(int i = 0; i < TAM; i++)\n",
    "    sigma += pow(alunos[i].nota - media, 2.0);\n",
    "sigma /= (float)TAM;\n",
    "sigma = sqrt(sigma);\n",
    "std::cout << \"sigma: \" << sigma << std::endl;"
   ]
  },
  {
   "cell_type": "code",
   "execution_count": 5,
   "metadata": {},
   "outputs": [],
   "source": [
    "//LETRA C\n",
    "std::ofstream alunos_aprovados;\n",
    "alunos_aprovados.open(\"alunos_aprovados.txt\");\n",
    "for(int i = 0; i < TAM; i++) {\n",
    "    if (alunos[i].nota >= (media+sigma)) {\n",
    "        alunos_aprovados << alunos[i].nome << \" \";\n",
    "        alunos_aprovados << alunos[i].nota << std::endl;\n",
    "    }\n",
    "}\n",
    "alunos_aprovados.close();"
   ]
  },
  {
   "cell_type": "code",
   "execution_count": null,
   "metadata": {},
   "outputs": [],
   "source": []
  }
 ],
 "metadata": {
  "kernelspec": {
   "display_name": "C++14",
   "language": "C++14",
   "name": "xcpp14"
  },
  "language_info": {
   "codemirror_mode": "text/x-c++src",
   "file_extension": ".cpp",
   "mimetype": "text/x-c++src",
   "name": "c++",
   "version": "14"
  }
 },
 "nbformat": 4,
 "nbformat_minor": 4
}
