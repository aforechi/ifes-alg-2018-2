{
 "cells": [
  {
   "cell_type": "markdown",
   "metadata": {},
   "source": [
    "# A Linguagem de Programação C++\n",
    "\n",
    "## Introdução a linguagem C\n",
    "A linguagem C foi criada por Dennis Ritchie (1941-2011) em 1972 nos EUA a partir da linguagem B em um DEC PDP-11 com sistema operacional UNIX. \n",
    "C é uma linguagem de programação compilada, estruturada, imperativa, padronizada pela ISO.\n",
    "https://www.bell-labs.com/usr/dmr/www/chistPT.html\n",
    "\n",
    "## Características da linguagem\n",
    "<br> Durante o final da década de 1970, a linguagem C começou a ficar mais popular que a linguagem BASIC.\n",
    "Durante a década de 1980, foi adaptada para uso no PC IBM.\n",
    "Após um processo longo e árduo, o padrão foi completo em 1989 e ratificado como ANSI X3.159-1989 \"Programming Language C\". Esta versão da linguagem é frequentemente referida como ANSI C.\n",
    "\n",
    "<br> As linguagens de programação são classificadas basicamente em linguagens de baixo nível e de alto nível. \n",
    "Uma linguagem de alto nível é uma linguagem mais próxima da linguagem humana. Exemplos: Pascal, PHP, Java, ADA\n",
    "A linguagem de baixo nível é uma linguagem mais próxima da linguagem de máquina. Exemplo: Assembly \n",
    "![title](img/Picture1.png)\n",
    "\n",
    "<br>As principais características da linguagem C são as seguintes:\n",
    "- A linguagem C, sendo de médio nível, permite a manipulação de dados nas suas formas mais básicas: bits, bytes e endereços de memória.\n",
    "- É portável: pode ser compilada para sistemas operacionais distintos\n",
    "- É flexível: poucas  palavras reservadas (32, no padrão ANSI C)\n",
    "- Não é uma linguagem rica em tipos de dados. \n",
    "- C é uma linguagem estruturada. Por isso tem como vantagens: facilidade e rapidez de debugging. \n",
    "\n",
    "Usando C, um programador pode conseguir aproximadamente a eficiência de um código Assembly, combinada com a estrutura de linguagens de alto nível como ALGOL e Módula 2.\n",
    "\n",
    "É a linguagem mais popular entre os programadores profissionais pela sua portabilidade, flexibilidade e extensibilidade.\n",
    "Possui extensibilidade, isto é, o software pode ser estendido adicionando-se mais características.\n",
    "\n",
    "## Estrutura de um programa \n",
    "\n",
    "- Cabeçalho: contém informações sobre o programa, como o seu nome. \n",
    "    - Equivalente ao nome de uma receita;\n",
    "\n",
    "- Dicionário de dados: define quais são os dados manipulados pelo programa. \n",
    "    - Equivalente aos ingredientes de uma receita: descreve todo o material necessário para o preparo da receita;\n",
    "\n",
    "- Corpo: define os procedimentos que o programa deve executar;\n",
    "    - Equivalente ao modo de preparo: descreve a forma de trabalhar com os ingredientes para que se obtenha o resultado esperado;\n",
    "    \n",
    "- Documentação: explica certos aspectos não muito claros do programa, tanto no corpo do programa quanto no cabeçalho ou no dicionário de dados.\n",
    "    - Equivalente aos comentários sobre procedimentos ou ingredientes: adicionados com o objetivo de detalhar alguma peculiaridade que o cozinheiro poderia não conhecer previamente.\n"
   ]
  },
  {
   "cell_type": "markdown",
   "metadata": {},
   "source": [
    "## Estrutura de um programa C/C++\n",
    "\n",
    "Exemplo: Cálculo das raízes reais de uma equação do segundo grau \n",
    "- Descrição: programa que calcula as raízes reais de uma equação do segundo grau.\n",
    "- Dados de entrada: os coeficientes a, b e c de uma equação da forma $ax^2 + bx + c = 0$\n",
    "- Saída do programa: raízes reais da equação"
   ]
  },
  {
   "cell_type": "code",
   "execution_count": null,
   "metadata": {},
   "outputs": [],
   "source": [
    "/* \n",
    " Cálculo das raízes reais de uma equação do segundo grau \n",
    " Descrição: programa que calcula as raízes reais de uma equação do segundo grau.\n",
    " Dados de entrada: os coeficientes a, b e c de uma equação da forma ax^2 + bx + c = 0\n",
    " Saída do programa: raízes reais da equação\n",
    "*/"
   ]
  },
  {
   "cell_type": "code",
   "execution_count": null,
   "metadata": {},
   "outputs": [],
   "source": [
    "double a; // Coeficiente angular\n",
    "double b; // Coeficiente linear\n",
    "double c; // Termo independente\n",
    "\n",
    "double delta; // Discriminante\n",
    "double x1; // Primeira raiz\n",
    "double x2; // Segunda raiz"
   ]
  },
  {
   "cell_type": "code",
   "execution_count": null,
   "metadata": {},
   "outputs": [],
   "source": [
    "// Leitura dos coeficientes\n",
    "a = 10.0; b = 5.0; c = 0.0;"
   ]
  },
  {
   "cell_type": "code",
   "execution_count": null,
   "metadata": {},
   "outputs": [],
   "source": [
    "// Cálculo do discriminante (delta)\n",
    "delta = b * b - 4 * a * c"
   ]
  },
  {
   "cell_type": "code",
   "execution_count": null,
   "metadata": {},
   "outputs": [],
   "source": [
    "// Cálculo da primeira raiz\n",
    "x1 = (-b + sqrt(delta)) / (2.0*a)"
   ]
  },
  {
   "cell_type": "code",
   "execution_count": null,
   "metadata": {},
   "outputs": [],
   "source": [
    "// Cálculo da segunda raiz\n",
    "x2 = (-b - sqrt(delta)) / (2.0*a)"
   ]
  },
  {
   "cell_type": "markdown",
   "metadata": {},
   "source": [
    "## Instruções de entrada de dados\n",
    "\n",
    "Exercício 1: Escreva um programa C para o usuário informar os valores para os coeficientes \"a\", \"b\" e \"c\" sem precisar modificar o programa."
   ]
  },
  {
   "cell_type": "code",
   "execution_count": null,
   "metadata": {},
   "outputs": [],
   "source": [
    "#include <iostream>\n",
    "using namespace std;"
   ]
  },
  {
   "cell_type": "code",
   "execution_count": null,
   "metadata": {},
   "outputs": [],
   "source": [
    "cin >> a;"
   ]
  },
  {
   "cell_type": "code",
   "execution_count": null,
   "metadata": {},
   "outputs": [],
   "source": [
    "cin >> b;"
   ]
  },
  {
   "cell_type": "code",
   "execution_count": null,
   "metadata": {},
   "outputs": [],
   "source": [
    "cin >> c;"
   ]
  },
  {
   "cell_type": "markdown",
   "metadata": {},
   "source": [
    "\n",
    "## Tipos de dados\n",
    "Os tipos de dados são utilizados para assinalar qual será a forma de tratamento dispensada aos dados em memória em termos, por exemplo, de tamanho.\n",
    "Os dados podem assumir seis tipos básicos em C que são: \n",
    "- bool: Lógico. O valor armazenado é um caractere (1 byte)\n",
    "- char: Caracter. O valor armazenado é um caractere (1 byte)\n",
    "- int: Número inteiro é o tipo padrão (2 bytes)\n",
    "- float: Número em ponto flutuante de precisão simples. São conhecidos normalmente como números reais (4 bytes)\n",
    "- double: Número em ponto flutuante de precisão dupla (8 bytes)\n",
    "- void: Este tipo serve para indicar que um resultado não tem um tipo definido. Uma das aplicações deste tipo em C é criar um tipo vazio que pode posteriormente ser modificado para um dos tipos anteriores.\n",
    "\n",
    "**Modificadores de tipos de dados**: signed, unsigned, long, short.\n",
    "\n",
    "Um modificador de tipo de dado é aplicado para alterar o significado dos tipos de dados. Os modificadores de tipos de dados são os seguintes:\n",
    "\n",
    "- signed – indica que um tipo de dados terá um sinal. Por definição, o tipo inteiro assume que um número possui sinal. Esse modificador é mais significativo para o tipo char, pois não trata o sinal.\n",
    "\n",
    "- unsigned – indica que um tipo de dado não possui sinal. Para os tipos de ponto flutuante como double e float, esse modificador só é suportado em algumas implementações de C.\n",
    "\n",
    "- long pode ser aplicado a double, mas não a float, pois long float é equivalente double.\n",
    "\n",
    "Em tipos inteiros, os modificadores signed e unsigned indicam se o tipo permite números negativos ou não, respectivamente.\n",
    "\n",
    "![title](img/Picture2.png)\n",
    "\n",
    "## Operadores aritméticos\n",
    "\n",
    "![title](img/Picture3.png)\n",
    "\n",
    "**Ordem de precedência:**\n",
    "<br>Mais alta\n",
    "<br>++ --\n",
    "<br>\\- (menos unário)\n",
    "<br>* / %\n",
    "<br>Mais baixa\n",
    "<br>\\+ -\n",
    "\n"
   ]
  },
  {
   "cell_type": "markdown",
   "metadata": {},
   "source": [
    "### Os parênteses alteram a ordem de avaliação\n",
    "\n",
    "    Exemplo: 4/2*5+1"
   ]
  },
  {
   "cell_type": "code",
   "execution_count": null,
   "metadata": {},
   "outputs": [],
   "source": [
    "4/2*5+1"
   ]
  },
  {
   "cell_type": "markdown",
   "metadata": {},
   "source": [
    "    Exemplo: 4/2*(5+1)"
   ]
  },
  {
   "cell_type": "code",
   "execution_count": null,
   "metadata": {},
   "outputs": [],
   "source": [
    "4/2*(5+1)"
   ]
  },
  {
   "cell_type": "markdown",
   "metadata": {},
   "source": [
    "## Instruções de saída de dados\n",
    "\n",
    "Exercício 1: Escreva um programa C para exibir na tela a mensagem \"Olá, mundo!\"."
   ]
  },
  {
   "cell_type": "code",
   "execution_count": null,
   "metadata": {},
   "outputs": [],
   "source": [
    "#include <iostream>\n",
    "using namespace std;\n",
    "/* Exibir uma mensagem */\n",
    "\n",
    "cout << \"Olá, mundo!\" << endl;"
   ]
  },
  {
   "cell_type": "markdown",
   "metadata": {},
   "source": [
    "**Constantes de caracteres de barra invertida:**\n",
    "<br>\\\\n       Nova linha\n",
    "<br>\\\\t        Tabulação.\n",
    "<br>\\\\”       Aspas duplas\n",
    "<br>\\\\’        Aspas simples\n",
    "<br>\\\\n\\n    Linha em branco.\n",
    "\n",
    "Exemplo 2: Escreva um programa para exibir a seguinte tela:\n",
    "<br>Instituto Federal do Espírito Santo\n",
    "<br>Curso de Engenharia Mecânica\n",
    "<br>Alunos   Notas\n",
    "<br>A &nbsp;&nbsp;&nbsp;&nbsp;&nbsp;&nbsp;&nbsp;&nbsp; 8.0\n",
    "<br>B &nbsp;&nbsp;&nbsp;&nbsp;&nbsp;&nbsp;&nbsp;&nbsp; 5.5 \n"
   ]
  },
  {
   "cell_type": "code",
   "execution_count": null,
   "metadata": {},
   "outputs": [],
   "source": [
    "cout << \"Instituto Federal do Espirito Santo\\n\";\n",
    "cout << \"Curso de Engenharia Mecanica\\n\";\n",
    "cout << \" Alunos \\t \\t Notas \\n\";\n",
    "cout << \" A \\t \\t \\t 8 \\n\";\n",
    "cout << \" B \\t \\t \\t 5.5 \\n\";"
   ]
  },
  {
   "cell_type": "markdown",
   "metadata": {},
   "source": [
    "## Boas práticas de programação\n",
    "\n",
    "- Comente seus códigos para que possam ser reutilizados por outros programadores.\n",
    "- Use identação para isolar conteúdos de blocos\n",
    "- Use o menor número de instruções\n",
    "- Seja claro e objetivo\n"
   ]
  },
  {
   "cell_type": "code",
   "execution_count": null,
   "metadata": {},
   "outputs": [],
   "source": []
  }
 ],
 "metadata": {
  "kernelspec": {
   "display_name": "C++14",
   "language": "C++14",
   "name": "xcpp14"
  },
  "language_info": {
   "codemirror_mode": "text/x-c++src",
   "file_extension": ".cpp",
   "mimetype": "text/x-c++src",
   "name": "c++",
   "version": "14"
  }
 },
 "nbformat": 4,
 "nbformat_minor": 4
}
