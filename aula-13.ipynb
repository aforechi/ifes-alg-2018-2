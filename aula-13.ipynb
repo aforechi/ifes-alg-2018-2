{
 "cells": [
  {
   "cell_type": "markdown",
   "metadata": {},
   "source": [
    "# Aula 13: Manipulação de arquivos\n",
    "\n",
    "Por que arquivar?\n",
    "- Para armazenamento permanente em disco.\n",
    "- Estando em disco, arquivos podem ser lidos, gravados e alterados.\n",
    "- Acesso a arquivos é mais lento do que acesso a memória principal.\n",
    "\n",
    "**Arquivo** – representação de um arquivo em disco, terminal ou impressora.\n",
    "\n",
    "**Stream** é uma abstração lógica de arquivos e dispositivos de E/S.\n",
    "- Um arquivo é associado a uma stream por uma operação de abertura (open).\n",
    "- Um arquivo é desassociado de uma stream por uma operação de fechamento (close).\n",
    "\n",
    "Tipos de arquivo:\n",
    "- Arquivo texto: representa os dados das variáveis como uma sequência de caracteres – legível ao usuário.\n",
    "- Arquivo binário:  armazena os valores das variáveis em forma de bits. É um “espelho” da memória principal, salvo em memória secundária – legível para a máquina.\n",
    "\n",
    "\n",
    "## Arquivos em C\n",
    "\n",
    "**Um ponteiro de arquivo** é um ponteiro para informações que definem várias coisas sobre o arquivo, incluindo nome, status e posição atual do arquivo.\n",
    "- Um ponteiro identifica um arquivo\n",
    "- Um ponteiro é usado por uma stream para direcionar as operações de E/S\n",
    "\n",
    "Uma variável ponteiro de arquivo é definida em C pelo seguinte comando:\n",
    "\n",
    "FILE *nomeponteiro\n",
    "\n",
    "### Funções para manipulação de arquivo\n",
    "\n",
    "![](img/Picture33.png)\n",
    "\n",
    "**Abrir arquivo**\n",
    "\n",
    "Para abrir arquivo, utilizamos a função fopen(), que tem o seguinte formato.\n",
    "\n",
    "FILE *fopen(const char* nomearquivo, const* char* modo)\n",
    "\n",
    "Os modos de abertura de um arquivo são os seguintes:\n",
    "\n",
    "![](img/Picture34.png)\n",
    "\n"
   ]
  },
  {
   "cell_type": "code",
   "execution_count": 1,
   "metadata": {},
   "outputs": [],
   "source": [
    "#include<iostream>\n",
    "\n",
    "/* Abrir um arquivo para gravação */\n",
    "FILE *fp;\n",
    " \n",
    "fp = fopen(\"teste.txt\", \"w\");\n",
    "\n",
    "/* Mas, a forma mais correta é: */\n",
    "\n",
    "if (fp==NULL)\n",
    "   std::cerr << \"Arquivo não pode ser aberto!\";\n",
    "\n",
    "/* Dessa última forma, pode-se detectar se houve algum erro na abertura do arquivo.*/\n",
    "\n",
    "fprintf(fp, \"Olá Mundo!\");"
   ]
  },
  {
   "cell_type": "markdown",
   "metadata": {},
   "source": [
    "**Fechar arquivo**\n",
    "\n",
    "Para fechar um arquivo, utilizamos a função fclose no seguinte formato:\n",
    "\n",
    "int fclose(FILE *fp)\n",
    "\n",
    "Exemplo: fecha o arquivo apontado por fp."
   ]
  },
  {
   "cell_type": "code",
   "execution_count": 2,
   "metadata": {},
   "outputs": [],
   "source": [
    "fclose(fp);"
   ]
  },
  {
   "cell_type": "markdown",
   "metadata": {},
   "source": [
    "\n",
    "## Arquivos em C++\n",
    "\n",
    "Os objetos **cin** e **cout**, são criados quando < iostream > é incluído. O fluxo desses objetos criam um canal de comunicação do programa com dispositivos de entrada e saída, como o monitor e o teclado. Com a inserção de <fstream>, podemos criar objetos que possibilitam a comunicação do programa com arquivos.\n",
    "    \n",
    "Os objetos de < fstream > podem ser manipulados assim como os de < iostream >. Os objetos dos tipos < ofstream > ou < ifstream > funcionam de maneira similar aos objetos cout e cin: o operador de inserção (<<) insere dados no arquivo; o operador de extração (>>) lê os dados do arquivo.\n"
   ]
  },
  {
   "cell_type": "code",
   "execution_count": 3,
   "metadata": {},
   "outputs": [],
   "source": [
    "#include<fstream>\n",
    "#include<iostream>\n",
    "\n",
    "std::ifstream pontos;"
   ]
  },
  {
   "cell_type": "code",
   "execution_count": 5,
   "metadata": {},
   "outputs": [
    {
     "data": {
      "text/html": [
       "<style>\n",
       "            #pager-container {\n",
       "                padding: 0;\n",
       "                margin: 0;\n",
       "                width: 100%;\n",
       "                height: 100%;\n",
       "            }\n",
       "            .xcpp-iframe-pager {\n",
       "                padding: 0;\n",
       "                margin: 0;\n",
       "                width: 100%;\n",
       "                height: 100%;\n",
       "                border: none;\n",
       "            }\n",
       "            </style>\n",
       "            <iframe class=\"xcpp-iframe-pager\" src=\"https://en.cppreference.com/w/cpp/io/basic_ifstream?action=purge\"></iframe>"
      ],
      "text/plain": [
       "https://en.cppreference.com/w/cpp/io/basic_ifstream"
      ]
     },
     "metadata": {},
     "output_type": "display_data"
    }
   ],
   "source": [
    "?std::ifstream"
   ]
  },
  {
   "cell_type": "code",
   "execution_count": 6,
   "metadata": {},
   "outputs": [],
   "source": [
    "pontos.open(\"teste.txt\");"
   ]
  },
  {
   "cell_type": "code",
   "execution_count": 7,
   "metadata": {},
   "outputs": [
    {
     "name": "stdout",
     "output_type": "stream",
     "text": [
      "Abriu"
     ]
    }
   ],
   "source": [
    "if (pontos.is_open())\n",
    "    std::cout << \"Abriu\";\n",
    "else\n",
    "    std::cout << \"Erro\";"
   ]
  },
  {
   "cell_type": "code",
   "execution_count": 8,
   "metadata": {},
   "outputs": [],
   "source": [
    "char ola[10];\n",
    "pontos >> ola;"
   ]
  },
  {
   "cell_type": "code",
   "execution_count": 9,
   "metadata": {},
   "outputs": [
    {
     "name": "stdout",
     "output_type": "stream",
     "text": [
      "Olá"
     ]
    }
   ],
   "source": [
    "std::cout << ola;"
   ]
  },
  {
   "cell_type": "code",
   "execution_count": 10,
   "metadata": {},
   "outputs": [],
   "source": [
    "char mundo[10];\n",
    "pontos >> mundo;"
   ]
  },
  {
   "cell_type": "code",
   "execution_count": 11,
   "metadata": {},
   "outputs": [
    {
     "name": "stdout",
     "output_type": "stream",
     "text": [
      "Mundo!"
     ]
    }
   ],
   "source": [
    "std::cout << mundo;"
   ]
  },
  {
   "cell_type": "markdown",
   "metadata": {},
   "source": [
    "Neste exemplo, faremos um programa que guarda dados de pessoas em um arquivo:"
   ]
  },
  {
   "cell_type": "code",
   "execution_count": 12,
   "metadata": {},
   "outputs": [
    {
     "name": "stdout",
     "output_type": "stream",
     "text": [
      "Criou"
     ]
    }
   ],
   "source": [
    "std::ofstream pessoas;\n",
    "\n",
    "pessoas.open(\"pessoas.txt\");\n",
    "\n",
    "if (pessoas.is_open())\n",
    "    std::cout << \"Criou\";\n",
    "else\n",
    "    std::cout << \"Erro\";"
   ]
  },
  {
   "cell_type": "code",
   "execution_count": 13,
   "metadata": {},
   "outputs": [],
   "source": [
    "pessoas << \"João \" << 22 << std::endl;\n",
    "pessoas << \"Maria \" << 20 << std::endl;"
   ]
  },
  {
   "cell_type": "code",
   "execution_count": 14,
   "metadata": {},
   "outputs": [],
   "source": [
    "pessoas.close();"
   ]
  },
  {
   "cell_type": "markdown",
   "metadata": {},
   "source": [
    "**Ler arquivo**\n",
    "\n",
    "Exemplo: Ler caracteres do arquivo até o fim do arquivo (EOF)"
   ]
  },
  {
   "cell_type": "markdown",
   "metadata": {},
   "source": [
    "Agora faremos um programa para ler os dados dessas pessoas:"
   ]
  },
  {
   "cell_type": "code",
   "execution_count": 15,
   "metadata": {},
   "outputs": [
    {
     "name": "stdout",
     "output_type": "stream",
     "text": [
      "João 22\n",
      "Maria 20\n"
     ]
    }
   ],
   "source": [
    "std::ifstream leitura;\n",
    "std::string nome;\n",
    "int idade;\n",
    "\n",
    "leitura.open(\"pessoas.txt\");\n",
    "\n",
    "while (!leitura.eof()){\n",
    "    leitura >> nome;\n",
    "    leitura >> idade;\n",
    "    std::cout << nome << \" \" << idade << std::endl;\n",
    "}\n",
    "leitura.close();"
   ]
  },
  {
   "cell_type": "markdown",
   "metadata": {},
   "source": [
    "**Lendo uma string**\n",
    "\n",
    "A função fgets é semelhante à função gets(), porém, além dela poder fazer a leitura a partir de um arquivo de dados  e incluir o caracter de nova linha na string, ela ainda especifica o tamanho máximo da string de entrada.\n",
    "\n",
    "Exemplo:"
   ]
  },
  {
   "cell_type": "code",
   "execution_count": 19,
   "metadata": {},
   "outputs": [
    {
     "name": "stdout",
     "output_type": "stream",
     "text": [
      "João Roberto\n",
      "Maria Antonieta\n"
     ]
    }
   ],
   "source": [
    "std::ifstream leitura2;\n",
    "std::string nomeCompleto;\n",
    "\n",
    "leitura2.open(\"pessoas.txt\");\n",
    "\n",
    "while (!leitura2.eof()){\n",
    "    std::getline(leitura2, nomeCompleto);\n",
    "    std::cout << nomeCompleto << std::endl;\n",
    "}\n",
    "leitura2.close();"
   ]
  },
  {
   "cell_type": "markdown",
   "metadata": {},
   "source": [
    "## Exercício: O Tipo Abstrato de Dados Tfuncionario \n",
    "\n",
    "No exemplo 8.8 (pág. 247), existe um arquivo previamente criado, binario, que armazena muitas variaveis struct do tipo TFuncionario. O programa abre esse arquivo, lê todas as variaveis presentes (uma quantia inicialmente desconhecida), e as grava num arquivo texto.\n",
    "\n",
    "- TFuncionario inicializa_func ( void );\n",
    "- TFuncionario le_func ( FILE * arqbin );\n",
    "- TFuncionario invalida_func ( void );\n",
    "- int func_valido ( TFuncionario f);\n",
    "- void grava_func ( TFuncionario f, FILE * arqtex );\n",
    "\n",
    "\n"
   ]
  },
  {
   "cell_type": "code",
   "execution_count": 1,
   "metadata": {},
   "outputs": [],
   "source": [
    "#include <stdio.h>\n",
    "#include <iostream>\n",
    "#include <fstream>\n",
    "\n",
    "typedef struct {\n",
    "    std::string nome;\n",
    "    char sexo ;\n",
    "    int idade ;\n",
    "    int matricula ;\n",
    "    float salario ;\n",
    "} TFuncionario ;\n"
   ]
  },
  {
   "cell_type": "code",
   "execution_count": 2,
   "metadata": {},
   "outputs": [],
   "source": [
    "TFuncionario invalida_func ( void )\n",
    "{\n",
    "    TFuncionario f;\n",
    "    f.matricula = -1;\n",
    "    return (f);\n",
    "}"
   ]
  },
  {
   "cell_type": "code",
   "execution_count": 3,
   "metadata": {},
   "outputs": [],
   "source": [
    "TFuncionario inicializa_func ( void )\n",
    "{\n",
    "    TFuncionario f;\n",
    "    f.matricula = 0;\n",
    "    return (f);\n",
    "}"
   ]
  },
  {
   "cell_type": "code",
   "execution_count": 4,
   "metadata": {},
   "outputs": [],
   "source": [
    "TFuncionario le_func ( std::ifstream & arq )\n",
    "{\n",
    "    TFuncionario f = invalida_func ();\n",
    "\n",
    "    if ( arq.is_open() ) {\n",
    "        arq >> f.sexo >> f.idade >> f.matricula >> f.salario;\n",
    "        std::getline(arq, f.nome);\n",
    "    }\n",
    "    \n",
    "    return (f);\n",
    "}"
   ]
  },
  {
   "cell_type": "code",
   "execution_count": 5,
   "metadata": {},
   "outputs": [],
   "source": [
    "bool func_valido ( TFuncionario f)\n",
    "{\n",
    "    return (f.matricula >= 0);\n",
    "}"
   ]
  },
  {
   "cell_type": "code",
   "execution_count": 6,
   "metadata": {},
   "outputs": [],
   "source": [
    "void grava_func ( TFuncionario f, std::ofstream & arq )\n",
    "{\n",
    "    arq << f.sexo << \" \" \n",
    "        << f.idade << \" \" \n",
    "        << f.matricula << \" \" \n",
    "        << f.salario << \" \" \n",
    "        << f.nome;\n",
    "    arq << std::endl;\n",
    "}"
   ]
  },
  {
   "cell_type": "code",
   "execution_count": 7,
   "metadata": {},
   "outputs": [
    {
     "name": "stdout",
     "output_type": "stream",
     "text": [
      "abriu!\n"
     ]
    }
   ],
   "source": [
    "std::ofstream arquivo;\n",
    "\n",
    "arquivo.open(\"func.txt\");\n",
    "\n",
    "if (arquivo.is_open())\n",
    "    std::cout << \"abriu!\" << std::endl;\n",
    "else\n",
    "    std::cout << \"erro!\" << std::endl;\n",
    "\n",
    "for(int matricula = 0; matricula < 100; matricula++)\n",
    "{\n",
    "    TFuncionario f = inicializa_func ();\n",
    "    f.matricula = matricula;\n",
    "    f.idade = 20 + rand()%3;\n",
    "    f.salario = 1000 + rand()%4000;\n",
    "    f.sexo = (rand()%2 ? 'M' : 'F');\n",
    "    f.nome = \"Nome \" + std::to_string(matricula+1);\n",
    "    \n",
    "    if (func_valido(f))\n",
    "    {\n",
    "        grava_func(f, arquivo);\n",
    "    }\n",
    "}\n",
    "\n",
    "arquivo.close();\n"
   ]
  },
  {
   "cell_type": "code",
   "execution_count": 8,
   "metadata": {},
   "outputs": [
    {
     "name": "stdout",
     "output_type": "stream",
     "text": [
      "abriu!\n"
     ]
    }
   ],
   "source": [
    "std::ifstream leitura;"
   ]
  },
  {
   "cell_type": "code",
   "execution_count": 11,
   "metadata": {},
   "outputs": [
    {
     "name": "stdout",
     "output_type": "stream",
     "text": [
      "abriu!\n"
     ]
    }
   ],
   "source": [
    "leitura.open(\"func.txt\");\n",
    "\n",
    "if (leitura.is_open())\n",
    "    std::cout << \"abriu!\" << std::endl;\n",
    "else\n",
    "    std::cout << \"erro!\" << std::endl;\n",
    "\n",
    "arquivo.open(\"func1.txt\");\n",
    "\n",
    "while (!leitura.eof()) {\n",
    "    TFuncionario f = le_func(leitura);\n",
    "    if (func_valido(f))\n",
    "    {\n",
    "        f.salario += 1000;\n",
    "        grava_func(f, arquivo);\n",
    "    }\n",
    "}\n",
    "\n",
    "arquivo.close();\n",
    "leitura.close();"
   ]
  },
  {
   "cell_type": "code",
   "execution_count": null,
   "metadata": {},
   "outputs": [],
   "source": []
  }
 ],
 "metadata": {
  "kernelspec": {
   "display_name": "C++14",
   "language": "C++14",
   "name": "xeus-cling-cpp14"
  },
  "language_info": {
   "codemirror_mode": "text/x-c++src",
   "file_extension": ".cpp",
   "mimetype": "text/x-c++src",
   "name": "c++",
   "version": "14"
  }
 },
 "nbformat": 4,
 "nbformat_minor": 2
}
