{
 "cells": [
  {
   "cell_type": "markdown",
   "metadata": {},
   "source": [
    "# Notebook para avaliação\n",
    "\n",
    "1. Implemente cada questão numa caixa de código separado utilizando dentro de um escopo local delimitado por {}.\n",
    "2. Ao finalizar a implementação das questões, execute todas e verifique se há erros. \n",
    "3. Após executar todas as questões, exporte o notebook como HTML utilizando a opção disponivel no menu FILE.\n",
    "4. Finalmente, envie o arquivo exportado (prova.html) pelo AVA."
   ]
  },
  {
   "cell_type": "code",
   "execution_count": null,
   "metadata": {},
   "outputs": [],
   "source": [
    "// Questão 1\n",
    "#include<iostream>\n",
    "{\n",
    "    for(int i=1; i<=20; i++)\n",
    "        if (i == 10)\n",
    "            continue;\n",
    "        else\n",
    "            std::cout << i << std::endl;\n",
    "}"
   ]
  },
  {
   "cell_type": "code",
   "execution_count": null,
   "metadata": {},
   "outputs": [],
   "source": [
    "{\n",
    "    int i(0);\n",
    "    while (++i <= 20){\n",
    "        if (i == 10)\n",
    "            continue;\n",
    "        else\n",
    "            std::cout << i << std::endl;\n",
    "    }\n",
    "}"
   ]
  },
  {
   "cell_type": "code",
   "execution_count": null,
   "metadata": {},
   "outputs": [],
   "source": [
    "{\n",
    "    int i(1);\n",
    "    do{\n",
    "        if (i == 10)\n",
    "            continue;\n",
    "        else\n",
    "            std::cout << i << std::endl;\n",
    "    }while (++i <= 20);\n",
    "}"
   ]
  },
  {
   "cell_type": "code",
   "execution_count": null,
   "metadata": {},
   "outputs": [],
   "source": [
    "// Questão 2\n",
    "{\n",
    "    for(char i = 33; i <= 126; i++){\n",
    "        std::cout << (int)i << \" = \" << i << std::endl;\n",
    "        if ( (i-32) % 20 == 0) {\n",
    "            char c;\n",
    "            std::cin >> c;\n",
    "            if (c == 's')\n",
    "                break;\n",
    "        }\n",
    "    }\n",
    "}"
   ]
  },
  {
   "cell_type": "code",
   "execution_count": 1,
   "metadata": {},
   "outputs": [
    {
     "name": "stdin",
     "output_type": "stream",
     "text": [
      " 1 1 7\n"
     ]
    },
    {
     "name": "stdout",
     "output_type": "stream",
     "text": [
      "1,2,3,4,5,6,7\n"
     ]
    }
   ],
   "source": [
    "// Questão 3\n",
    "#include<iostream>\n",
    "{\n",
    "    int a1(0);\n",
    "    int r(1);\n",
    "    int n(0);\n",
    "\n",
    "    //a1 = 1; r = 1; n = 7;\n",
    "    //a1 = 3; r = 5; n = 5;\n",
    "    //a1 = 20; r = -6; n = 6;\n",
    "    //a1 = 19; r = 8; n = 5;\n",
    "    std::cin >> a1 >> r >> n; \n",
    "\n",
    "    for(int i=1, an=a1; i<=n; i++, an+=r) \n",
    "        std::cout << an << (i < n ? \",\" : \"\\n\");\n",
    "}"
   ]
  },
  {
   "cell_type": "code",
   "execution_count": 5,
   "metadata": {},
   "outputs": [
    {
     "name": "stdout",
     "output_type": "stream",
     "text": [
      "1765"
     ]
    }
   ],
   "source": [
    "// Questão 4\n",
    "{\n",
    "    int triangulos=0;\n",
    "    for(int a=0; a<500; a++)\n",
    "        for(int b=0; b<500; b++)\n",
    "            for(int c=0; c<500; c++)\n",
    "                if (a*a + b*b == c*c) {\n",
    "                    std::cout << a << \",\" << b << \",\" << c << std::endl;\n",
    "                    triangulos++;\n",
    "                }\n",
    "    std::cout << triangulos;\n",
    "}"
   ]
  },
  {
   "cell_type": "code",
   "execution_count": null,
   "metadata": {},
   "outputs": [],
   "source": []
  }
 ],
 "metadata": {
  "kernelspec": {
   "display_name": "C++14",
   "language": "C++14",
   "name": "xcpp14"
  },
  "language_info": {
   "codemirror_mode": "text/x-c++src",
   "file_extension": ".cpp",
   "mimetype": "text/x-c++src",
   "name": "c++",
   "version": "14"
  }
 },
 "nbformat": 4,
 "nbformat_minor": 4
}
