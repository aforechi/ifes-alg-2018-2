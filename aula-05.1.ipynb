{
 "cells": [
  {
   "cell_type": "markdown",
   "metadata": {
    "slideshow": {
     "slide_type": "slide"
    }
   },
   "source": [
    "# Aula 5: Introdução a Lógica\n",
    "\n",
    "## Lógica\n",
    "- A lógica é a ciência do pensamento correto. (Raymond McCall)\n",
    "\n",
    "## Breve História da Lógica\n",
    "\n",
    "### Aristóteles (384-322 AC)\n",
    "      Criador da Lógica formal como uma ciência que estuda e classifica as formas de raciocínio (válidas ou não):\n",
    "      - Aristóteles organizou o conhecimento, elevando-a a categoria de ciência, na obra Organum (“ferramenta”).\n",
    "      - A parte referente a lógica se encontra no capítulo Analytica Priora. \n",
    "      - Sofrendo ação do tempo, durante 2300 anos de história o trabalho ainda é considerado válido.\n",
    "      - Para Aristóteles, o raciocínio (dedutivo) reduz-se essencialmente ao tipo determinado denominado de silogismo.\n",
    "      "
   ]
  },
  {
   "cell_type": "markdown",
   "metadata": {
    "slideshow": {
     "slide_type": "slide"
    }
   },
   "source": [
    "      As componentes do silogismo aristotélico são sentenças universais ou particulares, afirmativas ou negativas, dos seguintes tipos:\n",
    "      - A: Todos os animais são mortais – universal afirmativa \n",
    "      - E: Nenhum animal é imortal – universal negativa\n",
    "      - I: Alguns homens são sábios – particular afirmativa\n",
    "      - O: Alguns homens não sao sábios – particular negativa\n",
    "      \n",
    "Em linguagem de conjuntos, temos:\n",
    "- A: Todo X é Y, isto é, $X \\subset Y$ \n",
    "- E: Nenhum X é Y, isto é, $X \\cap Y = \\varnothing$  \n",
    "- I:Algum X é Y, isto é, $X \\cap Y \\neq \\varnothing$ \n",
    "- O:Algum X não é Y, isto é, $X - Y \\neq \\varnothing$"
   ]
  },
  {
   "cell_type": "markdown",
   "metadata": {
    "slideshow": {
     "slide_type": "slide"
    }
   },
   "source": [
    "<img src=\"img/Picture36.png\" alt=\"\" title=\"\" />\n",
    "      \n",
    "      Relações entre as sentenças:\n",
    "      - A e O, I e E são contraditórias; se uma é falsa a outra é verdadeira. \n",
    "      - A e E são contrárias: não são ambas verdadeiras.\n",
    "      - I e O são subcontrárias: não são ambas falsas.\n",
    "      - I e O são respectivamente subalternas de A e de E.\n",
    "      "
   ]
  },
  {
   "cell_type": "markdown",
   "metadata": {
    "slideshow": {
     "slide_type": "slide"
    }
   },
   "source": [
    "<img style=\"float: center;\" src=\"https://upload.wikimedia.org/wikipedia/commons/5/51/Square_of_opposition%2C_set_diagrams.svg\">"
   ]
  },
  {
   "cell_type": "markdown",
   "metadata": {
    "slideshow": {
     "slide_type": "slide"
    }
   },
   "source": [
    "<div class=\"alert alert-block alert-success\">\n",
    "    <b>Exemplo: modus ponens de $A \\Rightarrow B$ ou melhor de A implicar B</b> \n",
    "    <p>1. Todos os homens são mortais \n",
    "    <p>2. Sócrates é homem\n",
    "    <p>3. Logo Sócrates é mortal\n",
    "</div>\n",
    "\n",
    "**Forma lógica válida: TODO x é y. z é x. Logo, z é y!**\n",
    "\n",
    "    A primeira premissa afirma que todos os elementos pertencentes ao conjunto \"homens\" têm o atributo \"mortal\". \n",
    "\n",
    "    A segunda premissa afirma que \"Sócrates\" é classificado como um \"homem\" - um membro do conjunto de \"homens\". \n",
    "\n",
    "    A conclusão afirma então que \"Sócrates\" tem que ser \"mortal\" porque ele herda esse atributo de sua classificação como um \"homem\"."
   ]
  },
  {
   "cell_type": "markdown",
   "metadata": {
    "slideshow": {
     "slide_type": "slide"
    }
   },
   "source": [
    "### Resumo das suas contribuições:\n",
    "\n",
    "    - noção de proposição (verdadeiras ou falsas) \n",
    "    - conjunção, disjunção, implicação e negação \n",
    "    - quantificadores\n",
    "    - silogismos\n",
    "    "
   ]
  },
  {
   "cell_type": "markdown",
   "metadata": {
    "slideshow": {
     "slide_type": "slide"
    }
   },
   "source": [
    "### Gottfried Leibniz (1646-1716)\n",
    "    Ideia:\n",
    "    ...Um alfabeto cujos elementos representam não sons, mas conceitos. Uma linguagem baseada nesse alfabeto permitiria determinar por calculos simbólicos quais as frases da linguagem que são verdadeiras e quais as relações lógicas que existem entre elas.\n",
    "\n",
    "    Iniciou a sistematização do calculus ratiocinator...\"um algoritmo, que quando aplicado a símbolos de qualquer fórmula da characteristica universalis, determinaria se a fórmula seria ou não verdadeira como uma afirmação da ciência\" (Hartley Rogers, Jr. 1963; p. 934)."
   ]
  },
  {
   "cell_type": "markdown",
   "metadata": {
    "slideshow": {
     "slide_type": "slide"
    }
   },
   "source": [
    "### George Boole (1815-1846)\n",
    "    Fundador da lógica matemática. Sistematizou a lógica proposicional como uma álgebra.\n",
    "    - ({0, 1} ∪ S , ∨ , ∧ ) é uma álgebra com os axiomas: comutatividade de ∨ e ∧ ; 0 e 1 identidades; distributividade ; inversos\n",
    "    - Outras propriedades são teoremas (i.e podem ser demonstradas a partir dos axiomas): associatividade, elementos absorventes, idempotência, leis de De Morgan, etc...\n",
    "    "
   ]
  },
  {
   "cell_type": "markdown",
   "metadata": {
    "slideshow": {
     "slide_type": "slide"
    }
   },
   "source": [
    "### Gottlob Frege (1880)\n",
    "    Criador da lógica de predicados (de primeira ordem): notação simbólica para formalizar as demonstrações da matemática\n",
    "    Axiomas lógicos e um sistema formal (p.e conjuntos, números naturais, reais, etc).\n",
    "    Pretendia reduzir a matemática à lógica: Logicismo."
   ]
  },
  {
   "cell_type": "markdown",
   "metadata": {
    "slideshow": {
     "slide_type": "slide"
    }
   },
   "source": [
    "###  Bertrand  Russell (1901)\n",
    "    Russell encontra um paradoxo (contradição) nos axiomas de Frege para a teoria dos conjuntos:\n",
    "    - Seja Z o conjunto de todos os conjuntos que não pertencem a si próprios. Será que Z ∈ Z ?\n",
    "    - O barbeiro é um homem da cidade que faz a barba de todos os homens da cidade que não barbeiam a si mesmos. \n",
    "    \n",
    "    Solução:\n",
    "    - Considerar hierarquia de tipos de conjuntos. Juntamente com Whitehead escreve os Principia Matemática, onde se pretende que todos os teoremas da matemática podem se deduzir de princípios puramente lógicos."
   ]
  },
  {
   "cell_type": "markdown",
   "metadata": {
    "slideshow": {
     "slide_type": "slide"
    }
   },
   "source": [
    "###  David Hilbert (1900)\n",
    "    Pretende que todas as demonstrações matemáticas podem ser mecanizadas (automatizadas) usando sistemas dedutivos lógicos (de primeira ordem).\n",
    "    \n",
    "### Church (1936)\n",
    "    Tese de Church-Turing: todas as funções computáveis são por uma máquina de Turing (=λ definíveis)\n",
    "    \n",
    "### Turing (1936)\n",
    "    Limites da computação: existem funções que não são computáveis por uma máquina de Turing (Problema da parada).\n",
    "    \n",
    "### Church e Turing (1936)\n",
    "    A lógica de predicados não é decidível.\n",
    "    "
   ]
  },
  {
   "cell_type": "markdown",
   "metadata": {
    "slideshow": {
     "slide_type": "slide"
    }
   },
   "source": [
    "## Conceitos de Lógica: Argumento\n",
    "\n",
    "Aritóteles se preocupava com com as formas de raciocínio que, a partir de conhecimentos considerados verdadeiros, permitiam obter novos conhecimentos.\n",
    "    \n",
    "Cabe a lógica a formulação de leis gerais de encadeamentos de conceitos e juízos que levam a descoberta de novas verdades\n",
    "\n",
    "Essa forma de encadeamento é chamada em lógica, de **argumento**, enquanto as afirmações envolvidas são chamadas de preposições;\n",
    "    "
   ]
  },
  {
   "cell_type": "markdown",
   "metadata": {
    "slideshow": {
     "slide_type": "slide"
    }
   },
   "source": [
    "### Introdução\n",
    "\n",
    "Um argumento é um conjunto de preposições tal que se afirme que uma delas é derivada das demais; usualmente a proposição derivada é chamada de conclusão, e as demais premissas.\n",
    "    \n",
    "Em um argumento válido, as premissas são consideradas provas evidentes da verdade da conclusão.\n",
    "    \n",
    "<div class=\"alert alert-block alert-success\">\n",
    "    <b>Um exemplo de argumento:</b> \n",
    "    <p>Se eu ganhar na Loteria, serei rico. \n",
    "    <p>Eu ganhei na Loteria. \n",
    "    <p>Logo, sou rico\n",
    "</div>\n",
    "\n",
    "Como a conclusão “sou rico” é uma decorrência lógica das duas premissas, esse argumento é considerado válido.\n",
    "    "
   ]
  },
  {
   "cell_type": "markdown",
   "metadata": {
    "slideshow": {
     "slide_type": "slide"
    }
   },
   "source": [
    "É preciso deixar claro que a lógica se preocupa com o relacionamento entre as premissas e a conclusão, com a estrutura e a forma de raciocínio e não com seu conteúdo.\n",
    "\n",
    "Não é objeto da lógica saber se quem ganha na Loteria fica rico ou não, ou se eu ganhei na Loteria ou não.\n",
    "\n",
    "O objeto da lógica é determinar se a conclusão é ou não uma consequência lógica das premissas.\n",
    "\n",
    "Por esse motivo, a Lógica constuma receber o nome de Lógica Formal.\n",
    "    \n",
    "A validade do argumento está diretamente ligado à forma pela qual ele se apresenta:\n",
    "    \n",
    "<div class=\"alert alert-block alert-success\">\n",
    "    <b>Outro exemplo de argumento:</b> \n",
    "    <p>Se eu ganhar na Loteria, serei rico \n",
    "    <p>Não ganhei na Loteria\n",
    "    <p>Logo, não sou rico\n",
    "</div>\n",
    "\n",
    "    \n",
    "__[Slides de Introdução a Lógica Prof. Dr. Tiago Semprebom](http://www.sj.ifsc.edu.br/~tisemp/LOG/aulas/intro_logica.pdf)__"
   ]
  },
  {
   "cell_type": "markdown",
   "metadata": {
    "slideshow": {
     "slide_type": "slide"
    }
   },
   "source": [
    "## Conceitos de Lógica: Proposições\n",
    "\n",
    "Em lógica, proposições são sentenças declarativas com valores comprovadamente e indiscutivelmente: verdadeiro ou falso;\n",
    "– Nenhum outro possível valor!\n",
    "\n",
    "As seguintes sentenças são proposições:\n",
    "1. Dez é menor do que sete.\n",
    "\n",
    "        Matematicamente comprovado ser Falso.\n",
    "        \n",
    "\n",
    "2. Existe vida em outros planetas do universo.\n",
    "\n",
    "        Por enquanto, não sabemos a resposta, mas conhecemos meios viáveis a longo prazo que nos darão está resposta.\n",
    "        \n",
    "\n",
    "3. Um triângulo tem três lados.\n",
    "    \n",
    "        Verdadeiro.\n",
    "        \n",
    "\n",
    "4. Madrid é a capital da Espanha.\n",
    "\n",
    "        Verdadeiro."
   ]
  },
  {
   "cell_type": "markdown",
   "metadata": {
    "slideshow": {
     "slide_type": "slide"
    }
   },
   "source": [
    "As seguintes sentenças não são proposições:\n",
    "1. Como está você?\n",
    "\n",
    "        Isto não contém uma declaração com significado V ou F.\n",
    "\n",
    "\n",
    "2. Ela é muito talentosa.\n",
    "    \n",
    "        Apesar de ser uma frase declarativa, faltam informações sobre quem é “ela” para constatar V ou F.\n",
    "\n",
    "\n",
    "3. Brócolis é saboroso.\n",
    "\n",
    "        Isto não é nem verdade e nem falso absoluto, é uma questão de opinião, por tanto, não é uma proposição válida."
   ]
  },
  {
   "cell_type": "markdown",
   "metadata": {
    "slideshow": {
     "slide_type": "slide"
    }
   },
   "source": [
    "### Negação de uma Proposição\n",
    "\n",
    "Qualquer proposição existente pode ser negada;\n",
    "- Em escrita ou fala, utilizamos a partícula negativa “não”;\n",
    "- Ex. de Proposição:\n",
    "    - 𝑃 : “Está chovendo agora”.\n",
    "- Ex. de Proposição Negada:\n",
    "    - ¬𝑃: “Não está chovendo agora”.\n",
    "- Ao aplicar a negação, o valor lógico da proposição será invertido como vimos na tabela verdade do **NOT**."
   ]
  },
  {
   "cell_type": "markdown",
   "metadata": {
    "slideshow": {
     "slide_type": "slide"
    }
   },
   "source": [
    "### Conectivos Lógicos\n",
    "\n",
    "Ao falar ou escrever, combinamos frases simples por meio de conectivos lógicos;\n",
    "- Estas combinações formam sentenças compostas que enriquecem as informações trocadas;\n",
    "- As informações como um todo, dependem de uma combinação dos valores lógicos das proposições e seus conectivos;\n",
    "- Na Lógica Formal, chamaremos estas sentenças compostas de: Sistema Formal. Outros nomes utilizados são:\n",
    "    - Fórmulas Proposicionais;\n",
    "    - Fórmulas Bem Formuladas: FBFs."
   ]
  },
  {
   "cell_type": "markdown",
   "metadata": {
    "slideshow": {
     "slide_type": "slide"
    }
   },
   "source": [
    "Exemplos:\n",
    "1. Fulano foi até a loja de esportes e foi até a casa de sua avó.\n",
    "2. Fulano foi até a loja de esportes ou foi até a casa de sua avó.\n",
    "3. Fulano ou foi até a loja de esportes, ou foi até a casa de sua avó.\n",
    "- Há duas proposições:\n",
    "\n",
    "    A. Fulano foi até a loja de esportes;\n",
    "    \n",
    "    B. Fulano foi até a casa de sua avó."
   ]
  },
  {
   "cell_type": "markdown",
   "metadata": {
    "slideshow": {
     "slide_type": "slide"
    }
   },
   "source": [
    "#### Conectivo lógico E:\n",
    "- Também conhecido como conjunção;\n",
    "- Representado na lógica proposicional pelo símbolo ˄ ou .\n",
    "- Presume que ambas as proposições conectadas devem ser verdadeiras.\n",
    "- Exemplo:A^B\n",
    "    - Lê-se “A e B”\n",
    "    - Lê-se “Fulano foi até a loja de esportes e foi até a casa de sua avó.”\n",
    "\n",
    "Para determinar se o Sistema Formal é verdadeiro, é necessária a construção da tabela-verdade;\n",
    "- A tabela-verdade é um arranjo dos possíveis valores lógicos de cada proposição do sistema;\n",
    "- Vide Tabela-verdade do **AND**:"
   ]
  },
  {
   "cell_type": "markdown",
   "metadata": {
    "slideshow": {
     "slide_type": "slide"
    }
   },
   "source": [
    "#### Conectivo lógico OU:\n",
    "- Também conhecido como disjunção;\n",
    "- Representado na lógica proposicional pelo símbolo $\\lor$ ou +\n",
    "- Presume que ao menos uma proposição conectada deve ser verdadeira.\n",
    "- Exemplo: $A \\lor B$\n",
    "    - Lê-se“A ou B”\n",
    "    - Lê-se “Fulano foi até a loja de esportes ou foi até a casa de sua avó.”\n",
    "\n",
    "Para determinar se o Sistema Formal é verdadeiro, é necessária a construção da tabela-verdade;\n",
    "- A tabela-verdade é um arranjo dos possíveis valores lógicos de cada proposição do sistema;\n",
    "- Vide Tabela-verdade do **OR**:"
   ]
  },
  {
   "cell_type": "markdown",
   "metadata": {
    "slideshow": {
     "slide_type": "slide"
    }
   },
   "source": [
    "#### Conectivo lógico OU Exclusivo:\n",
    "- Também conhecido como disjunção exclusiva;\n",
    "- Representado na lógica proposicional pelo símbolo $\\oplus$\n",
    "- Presume que somente uma proposição conectada deve ser verdadeira.\n",
    "- Exemplo: $A \\oplus B$\n",
    "    - Lê-se “A ou exclusivo B”\n",
    "    - Lê-se “Ou Fulano foi até a loja de esportes ou foi até a casa de sua avó.”\n",
    "\n",
    "Para determinar se o Sistema Formal é verdadeiro, é necessária a construção da tabela-verdade;\n",
    "- A tabela-verdade é um arranjo dos possíveis valores lógicos de cada proposição do sistema;\n",
    "- Vide Tabela-verdade do **XOR**:"
   ]
  },
  {
   "cell_type": "markdown",
   "metadata": {
    "slideshow": {
     "slide_type": "slide"
    }
   },
   "source": [
    "<div class=\"alert alert-block alert-success\">\n",
    "    <b>Exemplo de Tabelas-Verdade</b> \n",
    "    <p>“Hoje irá chover ou nevar e não iremos caminhar”.\n",
    "    <p>A. Hoje irá chover;\n",
    "    <p>B. Hoje irá nevar;\n",
    "    <p>C. Hoje iremos caminhar;\n",
    "    <p>– (𝑨˅B)^¬C\n",
    "</div>\n",
    "\n",
    "\\begin{array}{cccccc} \\hline\n",
    "A & B & C & (A \\lor B) & \\neg C & (𝐴 \\lor B)\\land \\neg C \\\\ \\hline\n",
    "V & V & V & V & F & F \\\\\n",
    "F & V & V & V & F & F \\\\\n",
    "V & F & V & V & F & F \\\\\n",
    "F & F & V & F & F & F \\\\\n",
    "V & V & F & V & V & V \\\\\n",
    "F & V & F & V & V & V \\\\\n",
    "V & F & F & V & V & V \\\\\n",
    "F & F & F & F & V & F \\\\\n",
    "\\end{array}"
   ]
  },
  {
   "cell_type": "markdown",
   "metadata": {
    "slideshow": {
     "slide_type": "slide"
    }
   },
   "source": [
    "Exemplos:\n",
    "1. Se Fulano foi até a loja de esportes então foi até a casa de sua avó.\n",
    "2. Fulano foi até a loja de esportes se e somente se foi até a casa de sua avó.\n",
    "- Há duas proposições:\n",
    "    \n",
    "    A. Fulano foi até a loja de esportes;\n",
    "    \n",
    "    B. Fulano foi até a casa de sua avó."
   ]
  },
  {
   "cell_type": "markdown",
   "metadata": {
    "slideshow": {
     "slide_type": "slide"
    }
   },
   "source": [
    "#### Conectivos Lógico SE-ENTÃO:\n",
    "\n",
    "- Também conhecido como implicação ou condicional;\n",
    "- Representado na lógica proposicional pelosímbolo →\n",
    "- Assume a existência de uma proposição antecedente e uma consequente;\n",
    "- Sempre que a proposição antecedente for verdadeira, há a implicação da consequente também ser verdadeira\n",
    "- Exemplo:A→B\n",
    "    - Lê-se “A implica em B”\n",
    "    - Lê-se “Se Fulano foi até a loja de esportes, então Fulano foi até a casa de sua avó.”\n",
    "\n",
    "Para determinar se o Sistema Formal é verdadeiro, é necessária a construção da tabela-verdade;\n",
    "- A tabela-verdade é um arranjo dos possíveis valores lógicos de cada proposição do sistema;\n",
    "- Vide Tabela-verdade do Condicional:\n",
    "\n",
    "\\begin{array}{cccccc} \\hline\n",
    "A & B & A→B \\\\ \\hline\n",
    "V & V & V \\\\\n",
    "V & F & F \\\\\n",
    "F & V & V \\\\\n",
    "F & F & V \\\\\n",
    "\\end{array}"
   ]
  },
  {
   "cell_type": "markdown",
   "metadata": {
    "slideshow": {
     "slide_type": "slide"
    }
   },
   "source": [
    "A declaração condicional está dizendo que se A for verdadeiro, então B seguirá imediatamente e, portanto, será verdadeiro. Então, a primeira linha segue naturalmente essa definição. \n",
    "\n",
    "Da mesma forma, a segunda linha segue este mesmo raciocínio porque dizemos “A implica B”, e então A é verdadeiro mas B é falso, então a afirmação “A implica B” deve ser falsa, como B não seguiu imediatamente A.\n",
    "\n",
    "Para ficar mais claro pense na seguinte declaração. \n",
    "\n",
    "    Se estiver ensolarado, eu uso óculos de sol. \n",
    "    \n",
    "A única situação que você questionaria a validade da minha afirmação é se você me viu em um dia ensolarado sem meus óculos escuros (A verdadeiro, B falso). \n",
    "\n",
    "Portanto, você pode simplesmente lembrar que a declaração condicional é verdadeira em todos os casos, exceto um: quando a primeira declaração for verdadeira, mas a segunda for falsa."
   ]
  },
  {
   "cell_type": "markdown",
   "metadata": {
    "slideshow": {
     "slide_type": "slide"
    }
   },
   "source": [
    "As duas últimas linhas são as mais difíceis de compreender. Então, vamos olhar para elas individualmente:\n",
    "\n",
    "- Linha 3: A é falso, B é verdadeiro.\n",
    "        \n",
    "        Continuando com o exemplo dos óculos escuros. Se A é falso, e B é verdade, então isso está dizendo que não está ensolarado, mas eu usei meus óculos de sol mesmo assim. Isso certamente não invalida minha declaração original, pois poderia significar apenas que eu gosto de usar óculos de sol. Então, se A é falso, mas B é verdadeiro, é razoável pensar que \"A implica B\" ainda é verdade.\n",
    "\n",
    "\n",
    "- Linha 4: A é falso, B é falso.\n",
    "\n",
    "        Usando o exemplo dos óculos de sol novamente, mas considerando que não está ensolarado e eu não estou usando meus óculos de sol. Novamente, isso não invalidaria minha afirmação de que “se estiver ensolarado, eu uso meus óculos de sol”. Portanto, se A é falso e B é falso, “A implica B” ainda é verdadeiro."
   ]
  },
  {
   "cell_type": "markdown",
   "metadata": {
    "slideshow": {
     "slide_type": "slide"
    }
   },
   "source": [
    "<div class=\"alert alert-block alert-danger\">\n",
    "<b>Exercícios:</b> Escreva o antecedente e o consequente de cada uma das sentenças a seguir: (sugestão: reescreva as sentenças colocando- as na forma se/então):\n",
    "<p>1. Se a chuva continuar, então o rio vai transbordar.\n",
    "<p>2. Uma condição suficiente para a falha de uma rede elétrica é que a chave central desligue.\n",
    "<p>3. Os abacates só estão maduros quando estão escuros e macios.\n",
    "<p>4. Uma boa dieta é uma condição necessária para uma saúde saudável.\n",
    "</div>"
   ]
  },
  {
   "cell_type": "markdown",
   "metadata": {
    "slideshow": {
     "slide_type": "slide"
    }
   },
   "source": [
    "<div class=\"alert alert-block alert-danger\">\n",
    "<b>Exercícios:</b>  Agora imagine um cenário onde há uma “implicação dupla”.\n",
    "<p>- Neste caso, ambas proposições dependeriam uma da outra mutuamente;\n",
    "<p>- Construa a tabela-verdade para: $(𝐴 \\Rightarrow 𝐵) \\land (𝐵 \\Rightarrow 𝐴)$\n",
    "\n",
    "\\begin{array}{cccccc} \\hline\n",
    "A & B & 𝐴 \\Rightarrow 𝐵 & 𝐵 \\Rightarrow 𝐴 & (𝐴 \\Rightarrow 𝐵) \\land (𝐵 \\Rightarrow 𝐴) \\\\ \\hline\n",
    "V & V & & &  \\\\\n",
    "F & V & & &  \\\\\n",
    "V & F & & &  \\\\\n",
    "F & F & & &  \\\\\n",
    "\\end{array}\n",
    "</div>"
   ]
  },
  {
   "cell_type": "markdown",
   "metadata": {
    "slideshow": {
     "slide_type": "slide"
    }
   },
   "source": [
    "#### Conectivo lógico SE-E-SOMENTE-SE:\n",
    "- Também conhecido como bi-implicação (bicondicional ou equivalência);\n",
    "- Representado na lógica proposicional pelo símbolo ↔\n",
    "- Assume que ambas proposições devem ter valores iguais; \n",
    "- Exemplo: $A \\iff B$\n",
    "    - Lê-se “A se e somente se B”\n",
    "    - Lê-se “Fulano foi até a loja de esportes se e somente se foi até a casa de sua avó.”\n",
    "\n",
    "Para determinar se o Sistema Formal é verdadeiro, é necessária a construção da tabela-verdade;\n",
    "- A tabela-verdade é um arranjo dos possíveis valores lógicos de cada proposição do sistema;\n",
    "- Vide tabela-verdade da bi-implicação:\n",
    "\n",
    "\\begin{array}{cccccc} \\hline\n",
    "A & B & A \\iff B \\\\ \\hline\n",
    "V & V & V \\\\\n",
    "F & V & F \\\\\n",
    "V & F & F \\\\\n",
    "F & F & V \\\\\n",
    "\\end{array}"
   ]
  },
  {
   "cell_type": "markdown",
   "metadata": {
    "slideshow": {
     "slide_type": "slide"
    }
   },
   "source": [
    "<div class=\"alert alert-block alert-danger\">\n",
    "<b>Exercícios:</b> Utilizando apenas os operadores/conectivos lógicos E,OU,Não;\n",
    "<p>Construa sistemas lógicos equivalentes aos seguintes conectivos:\n",
    "<p>1. Ou exclusivo;\n",
    "<p>2. Se ... Então ...\n",
    "<p>3. Se e somente se\n",
    "</div>"
   ]
  },
  {
   "cell_type": "markdown",
   "metadata": {
    "slideshow": {
     "slide_type": "slide"
    }
   },
   "source": [
    "Precedência dos Operadores\n",
    "- Para construir uma tabela-verdade, será necessário resolver todas as possíveis combinações de valores lógicos das proposições existentes;\n",
    "- A resolução de um sistema formal deve seguir uma ordem, assim como acontece nas equações matemáticas:\n",
    "<p>1. (), {}\n",
    "<p>2. $\\neg$\n",
    "<p>3. $\\lor$,$\\land$\n",
    "<p>4. $\\Rightarrow$\n",
    "<p>5. $\\iff$"
   ]
  },
  {
   "cell_type": "markdown",
   "metadata": {
    "slideshow": {
     "slide_type": "slide"
    }
   },
   "source": [
    "### Resumo:\n",
    "Para ajudá-lo a lembrar as tabelas verdade para essas declarações, você pode pensar no seguinte:\n",
    "\n",
    "- O condicional, A implica B, é falsa apenas quando o antecedente é verdadeiro, mas o consequente é falso. Caso contrário, é verdade.\n",
    "- O biconditional, A se e somente se B, é verdadeiro sempre que as duas instruções tiverem o mesmo valor. Caso contrário, é falso."
   ]
  },
  {
   "cell_type": "markdown",
   "metadata": {
    "slideshow": {
     "slide_type": "slide"
    }
   },
   "source": [
    "### Tautologia\n",
    "\n",
    "É dito tautológico todo sistema lógico cuja tabela-verdade resulta apenas em valores Verdadeiros:\n",
    "- $A \\land B \\iff B \\land A$: (comutatividade)\n",
    "- $(A \\land B) \\land C \\iff A \\land (B \\land C)$:(associatividade)\n",
    "- $A \\land (B \\lor C) \\iff (A \\land B) \\lor (A \\land C)$:(distributividade)"
   ]
  },
  {
   "cell_type": "markdown",
   "metadata": {
    "slideshow": {
     "slide_type": "slide"
    }
   },
   "source": [
    "### Contradição\n",
    "É dita contradição todo sistema lógico cuja tabela-verdade resulta apenas em valores Falsos:\n",
    "- $A \\land \\neg A$\n",
    "- $(A \\Rightarrow B) \\land (A \\land \\neg B)$"
   ]
  },
  {
   "cell_type": "markdown",
   "metadata": {
    "slideshow": {
     "slide_type": "slide"
    }
   },
   "source": [
    "### Contingências\n",
    "Todo e qualquer sistema lógico que não seja Tautologia e Contradição, será considerado contingência.\n",
    "\n",
    "__[Fonte: Slides de Introdução a Lógica Prof. Vilson Heck Junior](http://docente.ifsc.edu.br/vilson.junior/md/02_LogicaFormal.pdf)__"
   ]
  },
  {
   "cell_type": "markdown",
   "metadata": {
    "slideshow": {
     "slide_type": "slide"
    }
   },
   "source": [
    "## Exemplos de aplicação usando a linguagem Prolog\n",
    "\n",
    "Também é possível criar argumentos:\n",
    "- Português:\t\n",
    "\n",
    "        “se, X é homem ou X é mulher, então X é pessoa.”\n",
    "\n",
    "- Linguagem Simbólica: (A v B) -> C\n",
    "\n",
    "        A - “X é homem”. B - “X é mulher”. C - “X é pessoa”.\n",
    "\n",
    "- Prolog: (X é variável, por tanto, MAIÚSCULO!)\n",
    "\n",
    "        pessoa(X) :-\n",
    "            homem(X);\n",
    "            mulher(X)."
   ]
  },
  {
   "cell_type": "markdown",
   "metadata": {
    "slideshow": {
     "slide_type": "slide"
    }
   },
   "source": [
    "Em Prolog, as condições que levam ao paradoxo do barbeiro podem ser expressas pela cláusula auto-referente:\n",
    "\n",
    "    barbeia(barbeiro,X) :- homem(X), not(barbeia(X,X)).\n",
    "    homem(adao).\n",
    "\n",
    "onde a negação por falha é pressuposta. Assim, a clausula\n",
    "\n",
    "    barbeia(barbeiro,adao).\n",
    "\n",
    "será provada como verdadeira, já que barbeia(adao,adao). não pode ser provado. No entanto, com:\n",
    "\n",
    "    homem(barbeiro).\n",
    "cria-se um loop infinito."
   ]
  },
  {
   "cell_type": "markdown",
   "metadata": {
    "slideshow": {
     "slide_type": "slide"
    }
   },
   "source": [
    "### Símbolos do Prolog:\n",
    "<p>:-\tse\n",
    "<p>;\tou\n",
    "<p>,\te\n",
    "<p>.\tFim da declaração."
   ]
  },
  {
   "cell_type": "markdown",
   "metadata": {
    "slideshow": {
     "slide_type": "slide"
    }
   },
   "source": [
    "### Árvore Genealógica\n",
    "\n",
    "Leia a árvore genealógica de baixo para cima!\n",
    "\n",
    "<img src=\"img/Picture37.png\" alt=\"\" title=\"\" />"
   ]
  },
  {
   "cell_type": "markdown",
   "metadata": {
    "slideshow": {
     "slide_type": "slide"
    }
   },
   "source": [
    "### Prolog Online\n",
    "\n",
    "1. Copie os fatos e regras abaixo para o site https://swish.swi-prolog.org/"
   ]
  },
  {
   "cell_type": "code",
   "execution_count": null,
   "metadata": {
    "slideshow": {
     "slide_type": "subslide"
    }
   },
   "outputs": [],
   "source": [
    "% FATOS \n",
    "pai(joão, antônio).\n",
    "pai(joão, bruno).\n",
    "pai(alberto, maria).\n",
    "pai(antônio, paulo).\n",
    "pai(bruno, carlos).\n",
    "% FATOS \n",
    "mãe(ana, antônio).\n",
    "mãe(ana, bruno).\n",
    "mãe(roberta, maria).\n",
    "mãe(joana, paulo).\n",
    "mãe(maria, carlos).\n",
    "mãe(maria, josé)."
   ]
  },
  {
   "cell_type": "code",
   "execution_count": null,
   "metadata": {
    "slideshow": {
     "slide_type": "slide"
    }
   },
   "outputs": [],
   "source": [
    "% REGRAS\n",
    "progenitor(X, Y) :-\n",
    "    pai(X, Y);\n",
    "    mãe(X, Y)."
   ]
  },
  {
   "cell_type": "code",
   "execution_count": null,
   "metadata": {
    "slideshow": {
     "slide_type": "subslide"
    }
   },
   "outputs": [],
   "source": [
    "% REGRAS\n",
    "avô(X, Y) :- \n",
    "    progenitor(Z, Y),\n",
    "    pai(X, Z)."
   ]
  },
  {
   "cell_type": "code",
   "execution_count": null,
   "metadata": {
    "slideshow": {
     "slide_type": "subslide"
    }
   },
   "outputs": [],
   "source": [
    "% REGRAS\n",
    "avó(X, Y) :-\n",
    "    progenitor(Z, Y),\n",
    "    mãe(X, Z)."
   ]
  },
  {
   "cell_type": "code",
   "execution_count": null,
   "metadata": {
    "slideshow": {
     "slide_type": "subslide"
    }
   },
   "outputs": [],
   "source": [
    "% REGRAS\n",
    "irmãos(X, Y) :-\n",
    "    progenitor(Z, X),\n",
    "    progenitor(Z, Y),\n",
    "    X \\= Y."
   ]
  },
  {
   "cell_type": "code",
   "execution_count": null,
   "metadata": {
    "slideshow": {
     "slide_type": "subslide"
    }
   },
   "outputs": [],
   "source": [
    "% REGRAS\n",
    "primos(X, Y) :-\n",
    "    progenitor(Z, X),\n",
    "    progenitor(W, Y),\n",
    "    irmãos(Z, W)."
   ]
  },
  {
   "cell_type": "markdown",
   "metadata": {
    "slideshow": {
     "slide_type": "slide"
    }
   },
   "source": [
    "2. Execute o comando abaixo no site do Prolog e veja a dedução automática de consequências lógicas da base de conhecimento."
   ]
  },
  {
   "cell_type": "code",
   "execution_count": null,
   "metadata": {
    "slideshow": {
     "slide_type": "subslide"
    }
   },
   "outputs": [],
   "source": [
    "pai(X, antônio)?"
   ]
  }
 ],
 "metadata": {
  "kernelspec": {
   "display_name": "C++14",
   "language": "C++14",
   "name": "xcpp14"
  },
  "language_info": {
   "codemirror_mode": "text/x-c++src",
   "file_extension": ".cpp",
   "mimetype": "text/x-c++src",
   "name": "c++",
   "version": "14"
  }
 },
 "nbformat": 4,
 "nbformat_minor": 4
}
