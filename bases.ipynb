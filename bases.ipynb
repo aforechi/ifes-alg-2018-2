{
 "cells": [
  {
   "cell_type": "markdown",
   "id": "7be75500-6ebe-407c-bb5d-49347e589f1c",
   "metadata": {},
   "source": [
    "# Exercícios de Representação Numérica em C\n",
    "\n",
    "Crie uma variável que armazene numero inteiro qualquer com três digitos."
   ]
  },
  {
   "cell_type": "code",
   "execution_count": null,
   "id": "62613cf0-1828-4b70-bc4c-e8467da3491e",
   "metadata": {},
   "outputs": [],
   "source": []
  },
  {
   "cell_type": "markdown",
   "id": "48d5eb2c-7597-4da8-a037-97d41a7362d3",
   "metadata": {},
   "source": [
    "Escreva uma expressão matemática para descobrir o algarismo das dezenas usando apenas os operadores divisão (/) e resto (%) "
   ]
  },
  {
   "cell_type": "code",
   "execution_count": null,
   "id": "5174ca25-9c50-468a-85f0-315fc3126cec",
   "metadata": {},
   "outputs": [],
   "source": []
  },
  {
   "cell_type": "markdown",
   "id": "a94e36a9-338f-48e8-b43f-79aced5834f7",
   "metadata": {},
   "source": [
    "Imprima na tela o algarismo das dezenas. "
   ]
  },
  {
   "cell_type": "code",
   "execution_count": null,
   "id": "28e50cbb-b9bf-46b1-b233-860af9d5b0f5",
   "metadata": {},
   "outputs": [],
   "source": []
  },
  {
   "cell_type": "markdown",
   "id": "05bb8fcf-3147-4814-ad52-817fa1e2466b",
   "metadata": {},
   "source": [
    "A seguir converta o algarismo das dezenas da base decimal para binário usando os operadores algebricos da linguagem C/C++."
   ]
  },
  {
   "cell_type": "code",
   "execution_count": null,
   "id": "1dfac062-1921-4968-a2a1-cd29512f35ae",
   "metadata": {},
   "outputs": [],
   "source": []
  }
 ],
 "metadata": {
  "kernelspec": {
   "display_name": "C++14",
   "language": "C++14",
   "name": "xcpp14"
  },
  "language_info": {
   "codemirror_mode": "text/x-c++src",
   "file_extension": ".cpp",
   "mimetype": "text/x-c++src",
   "name": "c++",
   "version": "14"
  }
 },
 "nbformat": 4,
 "nbformat_minor": 5
}
