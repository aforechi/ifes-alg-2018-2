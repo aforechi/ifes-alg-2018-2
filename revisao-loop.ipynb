{
 "cells": [
  {
   "cell_type": "markdown",
   "metadata": {},
   "source": [
    "# Aula de Revisão sobre Loops\n"
   ]
  },
  {
   "cell_type": "markdown",
   "metadata": {},
   "source": [
    "## Programa que imprime os n primeiros numeros impares."
   ]
  },
  {
   "cell_type": "code",
   "execution_count": null,
   "metadata": {},
   "outputs": [],
   "source": [
    "#include<iostream>\n",
    "{\n",
    "    int n;\n",
    "\n",
    "    std::cout << \"Entre com a quantidade de termos: \";\n",
    "    std::cin >> n;\n",
    "\n",
    "    for (int i=1, numero_impar = 1; i <= n;  i = i + 1){ \n",
    "        std::cout << \"\\n \" << numero_impar; \n",
    "        numero_impar = numero_impar + 2; \n",
    "    }\n",
    "}"
   ]
  },
  {
   "cell_type": "markdown",
   "metadata": {},
   "source": [
    "## Programa para exibir os n primeiros termos de uma progressao geometrica utilizando o comando de repetição for"
   ]
  },
  {
   "cell_type": "code",
   "execution_count": null,
   "metadata": {},
   "outputs": [],
   "source": [
    "{\n",
    "    int n;\n",
    "    float a1 , q , an;\n",
    "\n",
    "    std::cout << \"Informe o valor do primeiro termo da PG:\";\n",
    "    std::cin >> a1;\n",
    "    \n",
    "    std::cout << \"Informe o valor da razao da PG:\";\n",
    "    std::cin >> q;\n",
    "    \n",
    "    std::cout << \"Informe quantos termos devem ser impressos:\";\n",
    "    std::cin >> n;\n",
    "\n",
    "    an = a1;\n",
    "    for (int i=1; i<=n; i+=1) {\n",
    "        std::cout << an << \" \";\n",
    "        an *= q;\n",
    "    }\n",
    "}"
   ]
  },
  {
   "cell_type": "markdown",
   "metadata": {},
   "source": [
    "## Programa para realizar a operação de exponenciação utilizando o comando de repetição for."
   ]
  },
  {
   "cell_type": "code",
   "execution_count": 1,
   "metadata": {},
   "outputs": [
    {
     "name": "stdout",
     "output_type": "stream",
     "text": [
      "Informe os valores para base e expoente:"
     ]
    },
    {
     "name": "stdin",
     "output_type": "stream",
     "text": [
      " 2 3\n"
     ]
    }
   ],
   "source": [
    "#include <iostream>\n",
    "\n",
    "double base , expoente , resultado;\n",
    "\n",
    "std::cout << \"Informe os valores para base e expoente:\";\n",
    "std::cin >> base >> expoente;"
   ]
  },
  {
   "cell_type": "code",
   "execution_count": 2,
   "metadata": {},
   "outputs": [],
   "source": [
    "resultado = pow(base, expoente);"
   ]
  },
  {
   "cell_type": "code",
   "execution_count": 4,
   "metadata": {},
   "outputs": [],
   "source": [
    "resultado = 1;\n",
    "for (int i = 0; i < expoente; i = i + 1)\n",
    "    resultado = resultado * base;"
   ]
  },
  {
   "cell_type": "code",
   "execution_count": 5,
   "metadata": {},
   "outputs": [
    {
     "name": "stdout",
     "output_type": "stream",
     "text": [
      "2 elevado a 3 = 8"
     ]
    }
   ],
   "source": [
    "std::cout << base << \" elevado a \" << expoente << \" = \" << resultado;"
   ]
  },
  {
   "cell_type": "markdown",
   "metadata": {},
   "source": [
    "## Resolva a série $\\frac{5}{3}+\\frac{7}{4}+\\frac{9}{5}+\\frac{11}{6}+...+\\frac{99}{50}$\n",
    "\n",
    "Para isto, podemos somar elementos calculador em uma repetição onde o contador i vai de 3 a 50. Nesta série, a cada repetição somamos o elemento: $\\frac{2i−1}{i}$\n",
    "\n",
    "Neste exemplo, vamos utilizar um contador i inicializado em 3 para calcularmos esta série.\n"
   ]
  },
  {
   "cell_type": "code",
   "execution_count": 6,
   "metadata": {},
   "outputs": [
    {
     "name": "stdout",
     "output_type": "stream",
     "text": [
      "Somatório = 93.0008\n"
     ]
    }
   ],
   "source": [
    "#include <iostream> \n",
    "using namespace std; \n",
    "\n",
    "int n (50);\n",
    "double soma (0);\n",
    "double numerador;\n",
    "double denominador;\n",
    "\n",
    "for (int i = 3; i <= n; i++) \n",
    "{\n",
    "    numerador = 2*i-1;\n",
    "    denominador = i;\n",
    "    soma += numerador/denominador;\n",
    "}\n",
    "\n",
    "cout << \"Somatório = \" << soma << endl;"
   ]
  },
  {
   "cell_type": "code",
   "execution_count": null,
   "metadata": {},
   "outputs": [],
   "source": []
  }
 ],
 "metadata": {
  "kernelspec": {
   "display_name": "C++14",
   "language": "C++14",
   "name": "xcpp14"
  },
  "language_info": {
   "codemirror_mode": "text/x-c++src",
   "file_extension": ".cpp",
   "mimetype": "text/x-c++src",
   "name": "c++",
   "version": "14"
  }
 },
 "nbformat": 4,
 "nbformat_minor": 4
}
