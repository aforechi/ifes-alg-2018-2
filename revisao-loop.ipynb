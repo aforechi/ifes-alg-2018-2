{
 "cells": [
  {
   "cell_type": "markdown",
   "metadata": {},
   "source": [
    "# Aula de Revisão sobre Loops\n"
   ]
  },
  {
   "cell_type": "markdown",
   "metadata": {},
   "source": [
    "## Programa que imprime os n primeiros numeros impares."
   ]
  },
  {
   "cell_type": "code",
   "execution_count": null,
   "metadata": {},
   "outputs": [],
   "source": [
    "#include<iostream>\n",
    "\n",
    "int iterador, valor;\n",
    "\n",
    "//Entre com a quantidade de termos: \n",
    "int n;\n",
    "\n",
    "iterador = 1; valor = 1;\n",
    "while(iterador <= n){ \n",
    "    std::cout << \"\\n \" << valor; \n",
    "    valor = valor + 2; \n",
    "    iterador = iterador + 1;\n",
    "}"
   ]
  },
  {
   "cell_type": "markdown",
   "metadata": {},
   "source": [
    "## Programa para exibir os n primeiros termos de uma progressao geometrica utilizando o comando de repetição for"
   ]
  },
  {
   "cell_type": "code",
   "execution_count": null,
   "metadata": {},
   "outputs": [],
   "source": [
    "float primeiroTermo , razao , n, i, termo;\n",
    "\n",
    "//Informe o valor do primeiro termo da PG:\n",
    "primeiroTermo=0;\n",
    "//Informe o valor da razao da PG:\n",
    "razao=0;\n",
    "//Informe quantos termos devem ser impressos:;\n",
    "n=0;\n",
    "\n",
    "termo = primeiroTermo;\n",
    "for (i=0; i<n; i=i+1) {\n",
    "    std::cout << termo << \" \";\n",
    "    termo = termo*razao;\n",
    "}"
   ]
  },
  {
   "cell_type": "markdown",
   "metadata": {},
   "source": [
    "## Programa para realizar a operação de exponenciação utilizando o comando de repetição for."
   ]
  },
  {
   "cell_type": "code",
   "execution_count": null,
   "metadata": {},
   "outputs": [],
   "source": [
    "int base , expoente , resultado , i;\n",
    "\n",
    "//Informe os valores para base e expoente:\n",
    "base=0;\n",
    "expoente=0;\n",
    "\n",
    "resultado = 1;\n",
    "for (i = 0; i < expoente; i = i + 1)\n",
    "    resultado = resultado * base;\n",
    "std::cout << base << \" elevado a \" << expoente << \" = \" << resultado;"
   ]
  },
  {
   "cell_type": "markdown",
   "metadata": {},
   "source": [
    "## Resolva a série $\\frac{5}{3}+\\frac{7}{4}+\\frac{9}{5}+\\frac{11}{6}+...+\\frac{99}{50}$\n",
    "\n",
    "Para isto, podemos somar elementos calculador em uma repetição onde o contador i vai de 3 a 50. Nesta série, a cada repetição somamos o elemento: $\\frac{2i−1}{i}$\n",
    "\n",
    "Neste exemplo, vamos utilizar um contador i inicializado em 3 para calcularmos esta série.\n"
   ]
  },
  {
   "cell_type": "code",
   "execution_count": null,
   "metadata": {},
   "outputs": [],
   "source": [
    "#include <iostream> \n",
    "using namespace std; \n",
    "int i;\n",
    "int n;\n",
    "double soma;\n",
    "double numerador;\n",
    "double denominador;\n",
    "\n",
    "//Digite o contador final: \n",
    "n=0;\n",
    "soma = 0;\n",
    "\n",
    "for (i = 3; i <= n; i++){\n",
    "    numerador = 2*i-1;\n",
    "    denominador = i;\n",
    "    soma += numerador/denominador;\n",
    "}\n",
    "\n",
    "cout << \"Somatório = \" << soma << endl;"
   ]
  },
  {
   "cell_type": "code",
   "execution_count": null,
   "metadata": {},
   "outputs": [],
   "source": []
  }
 ],
 "metadata": {
  "kernelspec": {
   "display_name": "C++14",
   "language": "C++14",
   "name": "xcpp14"
  },
  "language_info": {
   "codemirror_mode": "text/x-c++src",
   "file_extension": ".cpp",
   "mimetype": "text/x-c++src",
   "name": "c++",
   "version": "14"
  }
 },
 "nbformat": 4,
 "nbformat_minor": 4
}
