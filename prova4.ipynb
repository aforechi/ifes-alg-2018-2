{
 "cells": [
  {
   "cell_type": "markdown",
   "metadata": {},
   "source": [
    "# Notebook para avaliação\n",
    "\n",
    "1. Implemente cada questão numa caixa de código separado utilizando dentro de um escopo local delimitado por {}.\n",
    "2. Ao finalizar a implementação das questões, execute todas e verifique se há erros. \n",
    "3. Após executar todas as questões, exporte o notebook como HTML utilizando a opção disponivel no menu FILE.\n",
    "4. Finalmente, envie o arquivo exportado (prova.html) pelo AVA."
   ]
  },
  {
   "cell_type": "code",
   "execution_count": 1,
   "metadata": {},
   "outputs": [],
   "source": [
    "#include<iostream>"
   ]
  },
  {
   "cell_type": "code",
   "execution_count": 2,
   "metadata": {},
   "outputs": [
    {
     "data": {
      "text/plain": [
       "-7"
      ]
     },
     "execution_count": 2,
     "metadata": {},
     "output_type": "execute_result"
    }
   ],
   "source": [
    "// Questão 1\n",
    "int FindSmaller(int a, int b) {\n",
    "    return (a < b ? a : b);     \n",
    "}\n",
    "\n",
    "FindSmaller(-5,-7)"
   ]
  },
  {
   "cell_type": "code",
   "execution_count": 3,
   "metadata": {},
   "outputs": [
    {
     "name": "stdout",
     "output_type": "stream",
     "text": [
      "1 2 3 4 5 6 7 8 9 10 "
     ]
    }
   ],
   "source": [
    "// Questão 2\n",
    "void degraus(int N){\n",
    "    if (N > 1)\n",
    "        degraus(N-1);\n",
    "    std::cout << N << \" \";\n",
    "}\n",
    "\n",
    "degraus(10)"
   ]
  },
  {
   "cell_type": "code",
   "execution_count": 13,
   "metadata": {},
   "outputs": [
    {
     "data": {
      "text/plain": [
       "21498.4f"
      ]
     },
     "execution_count": 13,
     "metadata": {},
     "output_type": "execute_result"
    }
   ],
   "source": [
    "// Questão 3\n",
    "float VPL(float x, float n, float t){\n",
    "    float vpl = 0.0;\n",
    "\n",
    "    for (int i=1; i<=n; i++)\n",
    "        vpl += x/pow((1+(t/100.0)), i);\n",
    "    \n",
    "    return vpl;\n",
    "}\n",
    "\n",
    "VPL(1000, 24, 0.9)"
   ]
  },
  {
   "cell_type": "code",
   "execution_count": 5,
   "metadata": {},
   "outputs": [],
   "source": [
    "// Questão 4a\n",
    "void solicitarCoeficientes(float &a, float &b, float &c){\n",
    "    std::cout << \"Informe os coefiecientes separados por espaço:\";\n",
    "    std::cin >> a >> b >> c;\n",
    "}"
   ]
  },
  {
   "cell_type": "code",
   "execution_count": 6,
   "metadata": {},
   "outputs": [],
   "source": [
    "// Questão 4b\n",
    "float delta(float a, float b, float c){\n",
    "    return (b*b) - (4.0*a*c);\n",
    "}"
   ]
  },
  {
   "cell_type": "code",
   "execution_count": 7,
   "metadata": {},
   "outputs": [],
   "source": [
    "// Questão 4c\n",
    "bool raizes(float a, float b, float c, float &x1, float &x2){\n",
    "    float d = delta(a, b, c);\n",
    "    if (d>=0){\n",
    "        x1 = (-b + sqrt(d))/2.0;\n",
    "        x2 = (-b - sqrt(d))/2.0;\n",
    "        return true;\n",
    "    }\n",
    "    return false ;\n",
    "}"
   ]
  },
  {
   "cell_type": "code",
   "execution_count": 8,
   "metadata": {},
   "outputs": [],
   "source": [
    "// Questão 4d\n",
    "void imprimirSolucao(int a, int b, int c){\n",
    "    float x1, x2;\n",
    "    if (raizes(a, b, c, x1, x2))\n",
    "        std::cout << \"x1: \" << x1 << \"\\nx2: \" << x2;\n",
    "    else\n",
    "        std::cout << \"não há raizez reais\";\n",
    "}"
   ]
  },
  {
   "cell_type": "code",
   "execution_count": 9,
   "metadata": {},
   "outputs": [],
   "source": [
    "// Questão 4e\n",
    "void principal(){\n",
    "    float a, b, c;\n",
    "    solicitarCoeficientes(a, b, c);\n",
    "    imprimirSolucao(a, b, c);\n",
    "}"
   ]
  },
  {
   "cell_type": "code",
   "execution_count": 10,
   "metadata": {},
   "outputs": [
    {
     "name": "stdout",
     "output_type": "stream",
     "text": [
      "Informe os coefiecientes separados por espaço:"
     ]
    },
    {
     "name": "stdin",
     "output_type": "stream",
     "text": [
      " 1 -2 1\n"
     ]
    },
    {
     "name": "stdout",
     "output_type": "stream",
     "text": [
      "x1: 1\n",
      "x2: 1"
     ]
    }
   ],
   "source": [
    "principal()"
   ]
  },
  {
   "cell_type": "code",
   "execution_count": 11,
   "metadata": {},
   "outputs": [
    {
     "name": "stdout",
     "output_type": "stream",
     "text": [
      "Informe os coefiecientes separados por espaço:"
     ]
    },
    {
     "name": "stdin",
     "output_type": "stream",
     "text": [
      " 1 -1 -2\n"
     ]
    },
    {
     "name": "stdout",
     "output_type": "stream",
     "text": [
      "x1: 2\n",
      "x2: -1"
     ]
    }
   ],
   "source": [
    "principal()"
   ]
  },
  {
   "cell_type": "code",
   "execution_count": 12,
   "metadata": {},
   "outputs": [
    {
     "name": "stdout",
     "output_type": "stream",
     "text": [
      "Informe os coefiecientes separados por espaço:"
     ]
    },
    {
     "name": "stdin",
     "output_type": "stream",
     "text": [
      " 2 3 4\n"
     ]
    },
    {
     "name": "stdout",
     "output_type": "stream",
     "text": [
      "não há raizez reais"
     ]
    }
   ],
   "source": [
    "principal()"
   ]
  },
  {
   "cell_type": "code",
   "execution_count": null,
   "metadata": {},
   "outputs": [],
   "source": []
  }
 ],
 "metadata": {
  "kernelspec": {
   "display_name": "C++14",
   "language": "C++14",
   "name": "xcpp14"
  },
  "language_info": {
   "codemirror_mode": "text/x-c++src",
   "file_extension": ".cpp",
   "mimetype": "text/x-c++src",
   "name": "c++",
   "version": "14"
  }
 },
 "nbformat": 4,
 "nbformat_minor": 4
}
