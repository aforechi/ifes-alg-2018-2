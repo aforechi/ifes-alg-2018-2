{
 "cells": [
  {
   "cell_type": "markdown",
   "metadata": {},
   "source": [
    "# Cronograma de Aulas de Algoritmos e Estrutura de Dados\n",
    "\n",
    "| Data | Conteúdo | Assunto |\n",
    "| ---  | --- | --- |\n",
    "| 18/02| Boas vindas ||\n",
    "| 20/02| Introdução à programação: Apresentação da linguagem c/c++ | Introdução a Computação (slides) |\n",
    "| 20/02| Introdução à programação: Apresentação da linguagem c/c++ | Histórico de Computação (slides) |\n",
    "| 25/02| Feriado de Carnaval ||\n",
    "| 27/02| Introdução à programação: Apresentação da linguagem c/c++ | [Introdução à linguagem C](aula-02.ipynb)\n",
    "| 27/02| Definições: Algoritmo; Dados; Variáveis; Constantes; Tipos e declaração de dados; lógico, inteiro, real e caractere | [Resolução de equações em C](aula-01.ipynb) |\n",
    "| 03/03| Definições: Algoritmo; Dados; Variáveis; Constantes; Tipos e declaração de dados; lógico, inteiro, real e caractere | [Representação numérica em computadores](aula-04.1.ipynb) |\n",
    "| 05/03| Definições: Algoritmo; Dados; Variáveis; Constantes; Tipos e declaração de dados; lógico, inteiro, real e caractere | [Variáveis](aula-03.ipynb) e [Ponteiros](aula-04.ipynb) |\n",
    "| 10/03| Ambiente de programação: Descrição do ambiente e sua particularidades; Aplicação do ambiente | [TinkerCad](https://www.tinkercad.com) |\n",
    "| ~~12/03~~| ~~PROVA 1~~ | ADIADA ATÉ O RETORNO DAS AULAS PRESENCIAIS OU NOVAS ORIENTACÕES |\n",
    "| ~~17/03~~| ~~Definições: Algoritmo; Dados; Variáveis; Constantes; Tipos e declaração de dados; lógico, inteiro, real e caractere~~ | ~~Aula prática: controlando o temporizador de um semáforo com LED e arduino~~ |\n",
    "| 09/06| Introdução a lógica: Operadores e expressões lógicas; Operadores e expressões aritméticas; Descrição e uso do comando: se-então-senão. | [Introdução a Lógica Formal com exemplos em Prolog](aula-05.1.ipynb) |\n",
    "| 11/06| Introdução a lógica: Operadores e expressões lógicas; Operadores e expressões aritméticas; Descrição e uso do comando: se-então-senão. | [Operadores e Expressões relacionais e lógicas](aula-05.ipynb) |\n",
    "| 16/06| Introdução a lógica: Operadores e expressões lógicas; Operadores e expressões aritméticas; Descrição e uso do comando: se-então-senão. | [Estruturas de controle condicional](aula-06.ipynb) |\n",
    "| 18/06| Introdução a lógica: Operadores e expressões lógicas; Operadores e expressões aritméticas; Descrição e uso do comando: se-então-senão. | [Exercícios de fixação e revisão](revisao-if.ipynb) |\n",
    "| 07/07| Estruturas de repetição: Descrição e uso do comando enquanto-faça; Descrição e uso do comando faça-enquanto; Descrição e uso do comando para. | [Estruturas de controle de repetição](aula-07.ipynb) |\n",
    "| 09/07| Estruturas de repetição: Descrição e uso do comando enquanto-faça; Descrição e uso do comando faça-enquanto; Descrição e uso do comando para. | [Exercícios de fixação e revisão](revisao-loop.ipynb) |\n",
    "| 11/08| PROVA 2 | [Estruturas de controle condicional](prova.ipynb) |\n",
    "| 13/08| PROVA 3 | [Estruturas de controle de repetição](prova.ipynb) |\n",
    "| --/--| Ambiente de programação: Descrição do ambiente e sua particularidades; Aplicação do ambiente. | Arduino IDE |\n",
    "| --/--| Estruturas de repetição: Descrição e uso do comando enquanto-faça; Descrição e uso do comando faça-enquanto; Descrição e uso do comando para. | Aula prática: controlando servo motores com arduino |\n",
    "| --/--| Estruturas de repetição: Descrição e uso do comando enquanto-faça; Descrição e uso do comando faça-enquanto; Descrição e uso do comando para. | Aula prática: controlando motores DC com arduino |\n",
    "| --/--| Ambiente de programação: Descrição do ambiente e sua particularidades; Aplicação do ambiente. | Microsoft Visual Studio |\n",
    "| --/--| Modularização: Declaração, estruturação e chamada de funções: Declaração; passagem de parâmetro; Retorno de valores. | Funções e Recursão |\n",
    "| --/--| Modularização: Declaração, estruturação e chamada de funções: Declaração; passagem de parâmetro; Retorno de valores. | Projeto de funções  |\n",
    "| --/--| Modularização: Declaração, estruturação e chamada de funções: Declaração; passagem de parâmetro; Retorno de valores. | Exercícios de revisão |\n",
    "| --/--| PROVA 4 | \n",
    "| --/--| Estruturas de dados homogêneas: Definição, declaração, preenchimento e leitura de vetores; Definição, declaração, preenchimento de matrizes. | Vetores, Strings e Matrizes e Implementação do jogo da velha |\n",
    "| --/--| Estruturas de dados homogêneas: Definição, declaração, preenchimento e leitura de vetores; Definição, declaração, preenchimento de matrizes. | Aula prática 5 - controlando um braço robótico usando Arduino e Potenciometros |\n",
    "| --/--| Estruturas de dados homogêneas: Definição, declaração, preenchimento e leitura de vetores; Definição, declaração, preenchimento de matrizes. | Aula prática 6 - controlando um carro robótico usando Arduino e PID |\n",
    "| --/--| Estruturas de dados homogêneas: Definição, declaração, preenchimento e leitura de vetores; Definição, declaração, preenchimento de matrizes. | Aula prática 7 - controlando um braço robótico usando Arduino e GUI |\n",
    "| --/--| PROVA 5 | |\n",
    "| --/--| Estruturas de dados heterogêneas: Definição, declaração, preenchimento e acesso de registros de dados (structs) | Tipos Abstratos de Dados (TAD) |\n",
    "| --/--| Estruturas de dados heterogêneas: Definição, declaração, preenchimento e acesso de registros de dados (structs) | Aula prática 4 - controlando um carro robótico usando Arduino e Joystick |\n",
    "| --/--| Estruturas de dados heterogêneas: Definição, declaração, preenchimento e acesso de registros de dados (structs) | TAD para Vetores e Matrizes |\n",
    "| --/--| Estruturas de dados heterogêneas: Definição, declaração, preenchimento e acesso de registros de dados (structs) | Manipulação de arquivos: exemplo completo para ler e gravar estrutura de dados de folha de pagamento em arquivos |\n",
    "| --/--| PROVA 6 | |\n",
    "| --/--| Desenvolvimento de programa: Processos de Desenvolvimento de Software; Controle de Versão de Código; | \n",
    "| --/--| Desenvolvimento de programa: Processos de Desenvolvimento de Software; Controle de Versão de Código; | \n",
    "| --/--| Desenvolvimento de programa: Processos de Desenvolvimento de Software; Controle de Versão de Código; | Aula prática 8 - controlando o ARABOT (carro + braço robótico) usando teleoperação com ROS |\n",
    "| --/--| Desenvolvimento de programa: Processos de Desenvolvimento de Software; Controle de Versão de Código; | \n",
    "| --/--| PROVA FINAL ||\n",
    "\n",
    "[//]: # \"Your comment in here.\"\n",
    "\n",
    "## Listas de Exercícios\n",
    "\n",
    "| Listas |\n",
    "| ---    |\n",
    "| [Lista 1](lista-01.ipynb) |\n",
    "| [Lista 2](lista-02.ipynb) |"
   ]
  },
  {
   "cell_type": "code",
   "execution_count": null,
   "metadata": {},
   "outputs": [],
   "source": []
  }
 ],
 "metadata": {
  "kernelspec": {
   "display_name": "Python 3",
   "language": "python",
   "name": "python3"
  },
  "language_info": {
   "codemirror_mode": {
    "name": "ipython",
    "version": 3
   },
   "file_extension": ".py",
   "mimetype": "text/x-python",
   "name": "python",
   "nbconvert_exporter": "python",
   "pygments_lexer": "ipython3",
   "version": "3.8.0"
  }
 },
 "nbformat": 4,
 "nbformat_minor": 4
}
