{
 "cells": [
  {
   "cell_type": "markdown",
   "metadata": {},
   "source": [
    "# Aula 9: Projeto de Funções\n",
    "\n",
    "## Projetar a interface - Especifique o que a função faz e como ela será chamada. \n",
    "- Ele executa alguma E / S? (Faça uma função void.)\n",
    "- seleciona ou calcula um único valor para retornar? (Faça uma função que retorne um valor.)\n",
    "- Selecione um nome que indique o que a função faz.\n",
    "\n",
    "Quantas informações serão enviadas para a função?\n",
    "- Algum dos parâmetros formais requer valores previamente definidos? Seus valores podem ser alterados pela função? \n",
    "    - Rotular cada parâmetro formal como entrada, saída ou entrada / saída. Isso é chamado de documentar o fluxo de dados.\n",
    "- Escreva as asserções (pré-condições e pós-condições). As pré-condições e pós-condições devem ter uma descrição precisa e concisa do que a função faz sem especificar como ela é feita. \n",
    "    - O usuário da função é responsável por atender as pré-condições e seu trabalho é atender às condições posteriores especificadas.\n",
    "- NÃO SE PREOCUPE COM AS INFORMAÇÕES DE COMO A FUNÇÃO SERÁ IMPLEMENTADA. \n",
    "    - PROJETE TODAS AS INTERFACES DE FUNÇÃO E O PROGRAMA PRINCIPAL ANTES DE COMEÇAR A PENSAR EM QUALQUER DETALHES. \n",
    "\n",
    "### Isso ajudará você a criar um algoritmo mais claro e conciso.\n",
    "\n",
    "## Projetar o programa - Defina a interação entre o programa principal e quaisquer outras funções usadas no programa.\n",
    "- Liste todas as variáveis, constantes nomeadas, e seus tipos de dados que serão declarados no programa principal.\n",
    "- Crie o fluxograma da função principal e teste para ver se o fluxo de controle está devidamente ordenado e não está faltando nenhum componente.\n",
    "- Teste as funções e o programa principal, escrevendo cada uma das funções como esqueletos. NÃO CODIFIQUE AS FUNÇÕES AINDA! \n",
    "- Se o programa principal for controlado com um loop, teste se as condições de entrada e saída funcionam antes de continuar.\n",
    "\n",
    "### Quando estiver satisfeito em especificar um conjunto claro e conciso de funções e se a interação delas com a função principal estiver bem definida, você poderá continuar na fase de implementação.\n",
    "\n",
    "## Implemente as funções - Escreva o código de fato para as funções UMA DE CADA VEZ.\n",
    "\n",
    "- Liste quaisquer constantes e variáveis nomeadas que precisem ser declaradas localmente.\n",
    "- Codifique a função. Deu mais de dez linhas? Talvez possa ser quebrada em duas funções.\n",
    "- Verifique se os ÚNICOS identificadores que aparecem no corpo da função são parâmetros ou variáveis localmente declaradas.\n",
    "- Verifique cada parâmetro e seu uso na função (fluxo de dados).\n",
    "    - E: NÃO deve aparecer no lado esquerdo de uma instrução de atribuição ou em um cin.\n",
    "    - S: Deve aparecer no lado esquerdo de uma declaração de atribuição ou em um cin.\n",
    "    - E/S: Deve aparecer no lado esquerdo de uma instrução de atribuição ou em um cin.\n",
    "- Verifique se as funções que retornam valor têm apenas uma instrução de retorno.\n",
    "- Codifique as funções uma de cada vez. Teste seu programa deixando as outras funções como esqueletos e codifique a próxima função somente depois que a anterior tiver sido incorporada com sucesso no programa. \n",
    "- Adicionar funções uma de cada vez e testá-las economizará horas de código de depuração de frustração. Os erros mais comuns são encontrados na função de entrada - encontre esses erros cedo! SEMPRE implemente esta função primeiro e confirme que ela funciona.\n",
    "- Essas definições de função normalmente serão colocadas em um arquivo separado chamado arquivo de implementação. Isso é chamado de ocultação de informações. O usuário só precisa saber o que a função faz, não como."
   ]
  },
  {
   "cell_type": "markdown",
   "metadata": {},
   "source": [
    "# Exercícios (Funções)"
   ]
  },
  {
   "cell_type": "markdown",
   "metadata": {},
   "source": [
    "1- O que há de errado com a seguinte função C?           "
   ]
  },
  {
   "cell_type": "code",
   "execution_count": null,
   "metadata": {},
   "outputs": [],
   "source": [
    "int quadrado (int x);\n",
    "{\n",
    "    return x * x; \n",
    "}"
   ]
  },
  {
   "cell_type": "markdown",
   "metadata": {},
   "source": [
    " 2- Qual é o efeito de chamar show (4)?"
   ]
  },
  {
   "cell_type": "code",
   "execution_count": null,
   "metadata": {},
   "outputs": [],
   "source": [
    "int show (int x) {\n",
    "     std::cout << x << \" \" << x * x;\n",
    "     return x * x;\n",
    "     std::cout << x << \" \" << x * x * x;\n",
    "     return x * x * x;\n",
    "}"
   ]
  },
  {
   "cell_type": "markdown",
   "metadata": {},
   "source": [
    " 3- O que faz a seguinte função C?"
   ]
  },
  {
   "cell_type": "code",
   "execution_count": null,
   "metadata": {},
   "outputs": [],
   "source": [
    "int eq3 (int a, int b, int c) {\n",
    "     if ((a == b) && (a == c))\n",
    "        return 1;\n",
    "     else\n",
    "        return 0;\n",
    "}"
   ]
  },
  {
   "cell_type": "markdown",
   "metadata": {},
   "source": [
    " 4- Escreva uma função C que recebe dois inteiros como argumentos e retorna o valor do maior."
   ]
  },
  {
   "cell_type": "code",
   "execution_count": null,
   "metadata": {},
   "outputs": [],
   "source": []
  },
  {
   "cell_type": "markdown",
   "metadata": {},
   "source": [
    " 5- Escreva uma função C que recbe três inteiros como argumentos e retorna o valor do maior."
   ]
  },
  {
   "cell_type": "code",
   "execution_count": null,
   "metadata": {},
   "outputs": [],
   "source": []
  },
  {
   "cell_type": "markdown",
   "metadata": {},
   "source": [
    " 6- Escreva uma função C que recebe um número real como argumento e retorna o valor absoluto desse número."
   ]
  },
  {
   "cell_type": "code",
   "execution_count": null,
   "metadata": {},
   "outputs": [],
   "source": []
  },
  {
   "cell_type": "markdown",
   "metadata": {},
   "source": [
    " 7- Escreva uma função C que recebe um inteiro positivo n como argumento e retorna a maior potência de dois que seja maior ou igual a n.\n",
    "\n",
    " 8- Escreva uma função C que recebe um inteiro positivo n como argumento e retorna verdadeiro (true) se n é primo e falso (false) caso contrário.\n",
    "\n",
    " 9- Escreva uma função C que recebe um inteiro positivo n como argumento e retorna falso (false) se n for primo e verdadeiro (true) caso contrário.\n",
    "\n",
    "10- Escreva uma função que recebe um inteiro positivo como entrada e retorna o primeiro dígito em sua representação decimal. Por exemplo, o primeiro dígito de 234567 é 2."
   ]
  },
  {
   "cell_type": "markdown",
   "metadata": {},
   "source": [
    "11- Quais valores são impressos pelo seguinte programa em C?"
   ]
  },
  {
   "cell_type": "code",
   "execution_count": null,
   "metadata": {},
   "outputs": [],
   "source": [
    "int f (int x) {\n",
    "     return x + 2;\n",
    "}\n",
    "\n",
    "int x = 5;\n",
    "std::cout << f(x + 2) << \" \" << f(f(x + 2));\n"
   ]
  },
  {
   "cell_type": "markdown",
   "metadata": {},
   "source": [
    "12- Quais valores são impressos pelo seguinte programa em C?"
   ]
  },
  {
   "cell_type": "code",
   "execution_count": null,
   "metadata": {},
   "outputs": [],
   "source": [
    "int confusão (int x, int y) {\n",
    "     x = 2 * x + y;\n",
    "     return x;\n",
    "}\n",
    "\n",
    "{\n",
    "    int x = 2, y = 5;\n",
    "    y = confusão (y, x);\n",
    "    x = confusão (y, x);\n",
    "    std::cout << x << \" \" << y;\n",
    "}"
   ]
  },
  {
   "cell_type": "markdown",
   "metadata": {},
   "source": [
    "13- Execute o seguinte programa através do compilador para ver a mensagem de erro que o gcc (ou g++) produz para erros de ponto-e-vírgula.\n"
   ]
  },
  {
   "cell_type": "code",
   "execution_count": null,
   "metadata": {},
   "outputs": [],
   "source": [
    "int quadrado (int x);\n",
    "{\n",
    "    return x * x; \n",
    "}\n",
    "\n",
    "{\n",
    "    int a, b, c;\n",
    "    c = 0\n",
    "    b = 0;\n",
    "    if (a> b)\n",
    "       c = 0\n",
    "    else\n",
    "       b = 0;\n",
    "}"
   ]
  },
  {
   "cell_type": "markdown",
   "metadata": {},
   "source": [
    "14- Escreva uma função que recebe dois números de ponto flutuante e retorne verdadeiro se o primeiro parâmetro for maior que o segundo."
   ]
  },
  {
   "cell_type": "markdown",
   "metadata": {},
   "source": [
    "## ALGUNS PONTOS PARA RECORDAR\n",
    "- Parâmetros passados para a função usando passagem de parâmetros por valor (ou cópia) são vistos como constantes pela função e nunca devem aparecer no lado esquerdo de um comando de atribuição ou em uma instrução cin. \n",
    "\n",
    "- Parâmetros passados para a função usando passagem de parâmetros por referência são modificados pela função e podem aparecer ou no lado esquerdo de uma instrução de atribuição ou em uma instrução cin. \n",
    "\n",
    "- Parâmetros e argumentos são definidos de acordo com sua ordem no cabeçalho e na chamada da função, respectivamente.\n",
    "\n",
    "- Argumentos aparecem na chamada de função e não incluem seu tipo de dados.\n",
    "\n",
    "- Parâmetros aparecem no cabeçalho da função e incluem seu tipo de dados.\n",
    "\n",
    "- Quando o parâmetro é um parâmetro passado por valor, o argumento pode ser uma variável, constante nomeada ou literal, ou expressão. \n",
    "\n",
    "- Quando o parâmetro é um parâmetro passado por referência, o argumento DEVE ser uma variável com exatamente o mesmo tipo de dados que o parâmetro."
   ]
  },
  {
   "cell_type": "markdown",
   "metadata": {},
   "source": [
    "15- Corrija os erros no seguinte programa:\n"
   ]
  },
  {
   "cell_type": "code",
   "execution_count": null,
   "metadata": {},
   "outputs": [],
   "source": [
    "void GetLoanInfo(float& amt, float& rt, int& term);\n",
    "float CalcPayment(float amt, float rt, int term, float& pmt);\n",
    "void OutputLoanInfo(float& amt, float& rt, int& term, float& pmt);"
   ]
  },
  {
   "cell_type": "code",
   "execution_count": null,
   "metadata": {},
   "outputs": [],
   "source": [
    "void GetLoanInfo(float amt, float rt, int term) {\n",
    "    std::cout << \"Enter loan amt, interest rate, and term: \";\n",
    "    std::cin >> prinAmt >> rt >> termOfLoan;\n",
    "}"
   ]
  },
  {
   "cell_type": "code",
   "execution_count": null,
   "metadata": {},
   "outputs": [],
   "source": [
    "float CalcPayment(float amt, float rt, int term, float& pmt) {\n",
    "pmt = (rt * pow(1 + rt , term)) / (pow(1 + rt, term) – 1) * amt; }"
   ]
  },
  {
   "cell_type": "code",
   "execution_count": null,
   "metadata": {},
   "outputs": [],
   "source": [
    "void OutputLoanInfo(float& amt, float& rt, int& term, float& pmt) {\n",
    "cout << \"\\n\\nThe monthly payment on \" << amt << \" at \" << rt << \"% interest is\\n\" << pmt << endl;\n",
    "}"
   ]
  },
  {
   "cell_type": "code",
   "execution_count": null,
   "metadata": {},
   "outputs": [],
   "source": [
    "void main1(void) {\n",
    "    float prinAmt, intRate, monPmt; \n",
    "    int termOfLoan;\n",
    "    \n",
    "    GetLoanInfo( amt,  rt,  term);\n",
    "    \n",
    "    CalcPayment(prinAmt, intRate/1200, termOfLoan*12, monPmt); \n",
    "    \n",
    "    OutputLoanInfo(prinAmt, monPmt, intRate, termOfLoan);\n",
    "}"
   ]
  },
  {
   "cell_type": "code",
   "execution_count": null,
   "metadata": {},
   "outputs": [],
   "source": [
    "main1();"
   ]
  },
  {
   "cell_type": "markdown",
   "metadata": {},
   "source": [
    "16- Converta a seguinte função void para uma função que retorne valor."
   ]
  },
  {
   "cell_type": "code",
   "execution_count": null,
   "metadata": {},
   "outputs": [],
   "source": [
    "void FindSmaller(int n1, int n2, int& small) {\n",
    "if(n1 < n2) small = n1;\n",
    "else\n",
    "small = n2;\n",
    "}"
   ]
  },
  {
   "cell_type": "markdown",
   "metadata": {},
   "source": [
    "17- Converta a seguinte função para uma função sem valor de retorno (void)."
   ]
  },
  {
   "cell_type": "code",
   "execution_count": null,
   "metadata": {},
   "outputs": [],
   "source": [
    "bool CheckEqual(int n1, int n2) {\n",
    "return (n1 = = n2); }"
   ]
  },
  {
   "cell_type": "markdown",
   "metadata": {},
   "source": [
    "18- Crie uma função void que troque os valores de dois parâmetros passados por referência."
   ]
  }
 ],
 "metadata": {
  "kernelspec": {
   "display_name": "C++14",
   "language": "C++14",
   "name": "xcpp14"
  },
  "language_info": {
   "codemirror_mode": "text/x-c++src",
   "file_extension": ".cpp",
   "mimetype": "text/x-c++src",
   "name": "c++",
   "version": "14"
  }
 },
 "nbformat": 4,
 "nbformat_minor": 4
}
