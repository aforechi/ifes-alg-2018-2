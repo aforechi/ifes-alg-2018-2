{
 "cells": [
  {
   "cell_type": "markdown",
   "metadata": {},
   "source": [
    "# Aula 5: Operadores e expressões relacionais e lógicas\n",
    "\n",
    "## Operadores relacionais e lógicos\n",
    "\n",
    "Uma sentença lógica é toda proposição que pode ser avaliada tendo como valores Falso e Verdadeiro. Em C, \n",
    "- Verdadeiro é qualquer valor diferente de zero. \n",
    "- O valor Falso é representado por zero.\n",
    "\n",
    "Expressão lógica é um conjunto de sentenças lógicas.\n",
    "\n",
    "Uma sentença relacional (comparação) é uma sentença lógica, pois é avaliada pelos valores Falso e Verdadeiro. Da mesma forma, uma expressão relacional é também uma expressão lógica.\n",
    "\n",
    "Os operadores relacionais são operadores utilizados para relacionar valores, sentenças ou expressões (aritméticas e lógicas). \n",
    "\n",
    "Exemplos de sentenças lógicas:\n",
    "- chove\n",
    "- Faz frio\n",
    "- (4*5) = (5*4)\n",
    "\n",
    "Exemplos de expressões lógicas:\n",
    "- Chove e faz frio\n",
    "- (idade>0) e (idade<25)\n",
    "\n",
    "![Operadores relacionais](img/Picture4.png)\n",
    "\n",
    "Os operadores lógicos são elementos que ligam termos ou sentenças de forma a possibilitar a determinação do valor lógico desse conjunto de termos ou de sentenças. \n",
    "\n",
    "Os operadores lógicos têm as ações de AND (e), OR (ou) e NOT (não):\n",
    "\n",
    "- A ação AND torna uma expressão lógica verdadeira se todos os seus termos ou sentenças forem verdadeiros.\n",
    "\n",
    "- A ação OR torna uma expressão lógica verdadeira se pelo menos um de seus termos ou sentenças for verdadeiro.\n",
    "\n",
    "- A ação NOT nega o valor lógico de uma sentença ou expressão lógica.\n",
    "\n",
    "Em C, AND é representado por &&, OR é representado por || e NOT é representado por !\n",
    "\n",
    "A tabela-verdade das ações AND, OR e NOT é apresentada a seguir:\n",
    "![Tabela verdade and or not](img/Picture5.png)\n",
    "\n",
    "As tabelas-verdade dos operadores lógicos bit a bit são as mesmas dos seus equivalentes lógicos, exceto por trabalharem bit a bit.\n",
    "\n",
    "A tabela-verdade do operador XOR é a seguinte\n",
    "![Tabela verdade xor](img/Picture6.png)\n",
    "\n",
    "Exercício de fixação: imprima as tabelas verdade dos operadores lógicos AND, OR, NOT e XOR."
   ]
  },
  {
   "cell_type": "code",
   "execution_count": 1,
   "metadata": {},
   "outputs": [
    {
     "name": "stdout",
     "output_type": "stream",
     "text": [
      "p\tq\t!p\t!q\tp && q\tp || q\tp ^ q\n"
     ]
    }
   ],
   "source": [
    "#include<iostream>\n",
    "\n",
    "bool p, q;\n",
    "\n",
    "std::cout << \"p\\tq\\t!p\\t!q\\tp && q\\tp || q\\tp ^ q\" << std::endl; "
   ]
  },
  {
   "cell_type": "code",
   "execution_count": 2,
   "metadata": {},
   "outputs": [
    {
     "name": "stdout",
     "output_type": "stream",
     "text": [
      "0\t0\t1\t1\t0\t0\t0"
     ]
    }
   ],
   "source": [
    "p = 0; q = 0;\n",
    "\n",
    "std::cout << p << \"\\t\" << q << \"\\t\" << !p << \"\\t\" << !q << \"\\t\" << (p && q) << \"\\t\" << (p || q) << \"\\t\" << (p ^ q);"
   ]
  },
  {
   "cell_type": "code",
   "execution_count": 3,
   "metadata": {},
   "outputs": [
    {
     "name": "stdout",
     "output_type": "stream",
     "text": [
      "0\t1\t1\t0\t0\t1\t1"
     ]
    }
   ],
   "source": [
    "p = 0; q = 1;\n",
    "\n",
    "std::cout << p << \"\\t\" << q << \"\\t\" << !p << \"\\t\" << !q << \"\\t\" << (p && q) << \"\\t\" << (p || q) << \"\\t\" << (p ^ q);"
   ]
  },
  {
   "cell_type": "markdown",
   "metadata": {},
   "source": [
    "## Avaliação de expressões lógicas\n",
    "\n",
    "Avaliar uma expressão lógica é obter o seu valor lógico, isto é, verificar se a expressão é falsa ou verdadeira. \n",
    "\n",
    "Para fazer essa avaliação é necessário seguir a ordem de precedência dos operadores em expressões lógicas.\n",
    "\n",
    "A ordem de precedência dos operadores relacionais e lógicos, da maior para a menor precedência, é a seguinte:\n",
    "1. !\n",
    "2. \\>  \\>=  <   <=\n",
    "3. ==    !=\n",
    "4. &&\n",
    "5. ||\n",
    "\n",
    "Assim como nas expressões aritméticas, é possível mudar a ordem de avaliação de uma expressão lógica com o uso de parênteses.\n",
    "\n",
    "Exemplos: As expressões lógicas abaixo são falsas ou verdadeiras?"
   ]
  },
  {
   "cell_type": "code",
   "execution_count": 4,
   "metadata": {},
   "outputs": [
    {
     "data": {
      "text/plain": [
       "false"
      ]
     },
     "execution_count": 4,
     "metadata": {},
     "output_type": "execute_result"
    }
   ],
   "source": [
    "// Exemplo 1: \n",
    "\n",
    "!0 && 0 || 0"
   ]
  },
  {
   "cell_type": "code",
   "execution_count": 6,
   "metadata": {},
   "outputs": [
    {
     "name": "stderr",
     "output_type": "stream",
     "text": [
      "\u001b[1minput_line_20:6:21: \u001b[0m\u001b[0;1;35mwarning: \u001b[0m\u001b[1m'&&' within '||' [-Wlogical-op-parentheses]\u001b[0m\n",
      "    int R = !A || C && !B || A && A==B;\n",
      "\u001b[0;1;32m               ~~ ~~^~~~~\n",
      "\u001b[0m\u001b[1minput_line_20:6:21: \u001b[0m\u001b[0;1;30mnote: \u001b[0mplace parentheses around the '&&' expression to silence this warning\u001b[0m\n",
      "    int R = !A || C && !B || A && A==B;\n",
      "\u001b[0;1;32m                    ^\n",
      "\u001b[0m\u001b[0;32m                  (      )\n",
      "\u001b[0m\u001b[1minput_line_20:6:32: \u001b[0m\u001b[0;1;35mwarning: \u001b[0m\u001b[1m'&&' within '||' [-Wlogical-op-parentheses]\u001b[0m\n",
      "    int R = !A || C && !B || A && A==B;\n",
      "\u001b[0;1;32m                          ~~ ~~^~~~~~~\n",
      "\u001b[0m\u001b[1minput_line_20:6:32: \u001b[0m\u001b[0;1;30mnote: \u001b[0mplace parentheses around the '&&' expression to silence this warning\u001b[0m\n",
      "    int R = !A || C && !B || A && A==B;\n",
      "\u001b[0;1;32m                               ^\n",
      "\u001b[0m\u001b[0;32m                             (        )\n",
      "\u001b[0m"
     ]
    },
    {
     "name": "stdout",
     "output_type": "stream",
     "text": [
      "1"
     ]
    }
   ],
   "source": [
    "// Exemplo 2: Seja A = 0, B = 1, C = !(A || B)\n",
    "#include<iostream>\n",
    "{\n",
    "    int A = 0;\n",
    "    int B = 1;\n",
    "    int C = !(A||B);\n",
    "    int R = !A || C && !B || A && A==B;\n",
    "    std::cout << R;\n",
    "}"
   ]
  },
  {
   "cell_type": "code",
   "execution_count": 7,
   "metadata": {},
   "outputs": [
    {
     "name": "stderr",
     "output_type": "stream",
     "text": [
      "\u001b[1minput_line_21:3:24: \u001b[0m\u001b[0;1;35mwarning: \u001b[0m\u001b[1m'&&' within '||' [-Wlogical-op-parentheses]\u001b[0m\n",
      "!C || (3 + 4 == 5 + 2) && (30 <= 20 + 10) || ('C'=='c') && ( A==C||C)\n",
      "\u001b[0;1;32m      ~~~~~~~~~~~~~~~~~^~~~~~~~~~~~~~~~~~ ~~\n",
      "\u001b[0m\u001b[1minput_line_21:3:24: \u001b[0m\u001b[0;1;30mnote: \u001b[0mplace parentheses around the '&&' expression to silence this warning\u001b[0m\n",
      "!C || (3 + 4 == 5 + 2) && (30 <= 20 + 10) || ('C'=='c') && ( A==C||C)\n",
      "\u001b[0;1;32m                       ^\n",
      "\u001b[0m\u001b[0;32m      (                                  )\n",
      "\u001b[0m\u001b[1minput_line_21:3:57: \u001b[0m\u001b[0;1;35mwarning: \u001b[0m\u001b[1m'&&' within '||' [-Wlogical-op-parentheses]\u001b[0m\n",
      "!C || (3 + 4 == 5 + 2) && (30 <= 20 + 10) || ('C'=='c') && ( A==C||C)\n",
      "\u001b[0;1;32m                                          ~~ ~~~~~~~~~~~^~~~~~~~~~~~~\n",
      "\u001b[0m\u001b[1minput_line_21:3:57: \u001b[0m\u001b[0;1;30mnote: \u001b[0mplace parentheses around the '&&' expression to silence this warning\u001b[0m\n",
      "!C || (3 + 4 == 5 + 2) && (30 <= 20 + 10) || ('C'=='c') && ( A==C||C)\n",
      "\u001b[0;1;32m                                                        ^\n",
      "\u001b[0m\u001b[0;32m                                             (                       )\n",
      "\u001b[0m"
     ]
    },
    {
     "data": {
      "text/plain": [
       "true"
      ]
     },
     "execution_count": 7,
     "metadata": {},
     "output_type": "execute_result"
    }
   ],
   "source": [
    "// Exemplo 3:\n",
    "\n",
    "!C || (3 + 4 == 5 + 2) && (30 <= 20 + 10) || ('C'=='c') && ( A==C||C)"
   ]
  },
  {
   "cell_type": "markdown",
   "metadata": {},
   "source": [
    "## Construção de expressões lógicas\n",
    "\n",
    "Construir expressões lógicas significa criar condições para execução de instruções. Essas condições envolvem comparações e operações lógicas.\n",
    "\n",
    "Exemplo: Crie uma expressão lógica que avalie se uma pessoa tem idade entre 20 e 40 anos."
   ]
  },
  {
   "cell_type": "code",
   "execution_count": 11,
   "metadata": {},
   "outputs": [
    {
     "name": "stdout",
     "output_type": "stream",
     "text": [
      "Informe sua idade em anos:19\n",
      "0"
     ]
    }
   ],
   "source": [
    "{\n",
    "    int idade;\n",
    "\n",
    "    std::cout << \"Informe sua idade em anos:\";\n",
    "    std::cin >> idade;\n",
    "\n",
    "    std::cout << (idade >= 20) && (idade <= 40);\n",
    "}"
   ]
  },
  {
   "cell_type": "markdown",
   "metadata": {},
   "source": [
    "Exercício: Escreva um algoritmo em C que verifique se a pessoa está isenta de pagar imposto de renda. Obs.: Ela estará isenta se sua faixa salarial estiver entre R\\$ 0,00 e R\\$ 1.903,98. Consulte a tabela de IR em http://idg.receita.fazenda.gov.br/acesso-rapido/tributos/irpf-imposto-de-renda-pessoa-fisica"
   ]
  },
  {
   "cell_type": "code",
   "execution_count": 13,
   "metadata": {},
   "outputs": [
    {
     "name": "stdout",
     "output_type": "stream",
     "text": [
      "Informe seu salário2000\n",
      "0"
     ]
    }
   ],
   "source": [
    "{\n",
    "    float salario;\n",
    "    \n",
    "    std::cout << \"Informe seu salário\";\n",
    "    std::cin >> salario;\n",
    "    \n",
    "    std::cout << (salario <= 1903.98);\n",
    "}"
   ]
  },
  {
   "cell_type": "markdown",
   "metadata": {},
   "source": [
    "O programa a seguir calcula a média de duas temperaturas ((t1 + t2)/2) em um ambiente e verifica se a temperatura está fora das condições de ambiente. A temperatura média está fora da temperatura ambiente se estiver abaixo de 20 ou acima de 27. Aponte os erros no programa e corrija-os para que funcione."
   ]
  },
  {
   "cell_type": "code",
   "execution_count": 15,
   "metadata": {},
   "outputs": [
    {
     "name": "stdout",
     "output_type": "stream",
     "text": [
      "Digite a temperatura 110\n",
      "Digite a temperatura 220\n",
      "média: 15\n",
      "fora das condições normais do ambiente: 1"
     ]
    }
   ],
   "source": [
    "#include <iostream>\n",
    "\n",
    "{\n",
    "    float t1, t2;\n",
    "    float media;\n",
    "\n",
    "    std::cout << \"Digite a temperatura 1\";\n",
    "    std::cin >> t1;\n",
    "    \n",
    "    std::cout << \"Digite a temperatura 2\";\n",
    "    std::cin >> t2;\n",
    "\n",
    "    media = (t1 + t2)/2.0;\n",
    "\n",
    "    bool resultado = (media < 20.0) || (media > 27.0);\n",
    "\n",
    "    std::cout << \"média: \" << media << std::endl;\n",
    "\n",
    "    std::cout << \"fora das condições normais do ambiente: \" << resultado;\n",
    "}"
   ]
  },
  {
   "cell_type": "markdown",
   "metadata": {},
   "source": [
    "## Lista completa de precedência de operadores\n",
    "\n",
    "![Operadores relacionais](img/Picture10.png)\n",
    "\n"
   ]
  },
  {
   "cell_type": "code",
   "execution_count": null,
   "metadata": {},
   "outputs": [],
   "source": []
  }
 ],
 "metadata": {
  "kernelspec": {
   "display_name": "C++14",
   "language": "C++14",
   "name": "xcpp14"
  },
  "language_info": {
   "codemirror_mode": "text/x-c++src",
   "file_extension": ".cpp",
   "mimetype": "text/x-c++src",
   "name": "c++",
   "version": "14"
  }
 },
 "nbformat": 4,
 "nbformat_minor": 4
}
