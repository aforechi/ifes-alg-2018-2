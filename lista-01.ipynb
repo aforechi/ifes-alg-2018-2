{
 "cells": [
  {
   "cell_type": "markdown",
   "metadata": {},
   "source": [
    "# 1a Lista de Exercícios\n",
    "\n",
    "Faça os exercícios abaixo de maneira clara, organizada e usando a linguagem C/C++, conforme orientações abaixo: \n",
    "\n",
    "- Lembre-se de identar o código com TAB, além de seguir as boas práticas de programação vistas em sala de aula e na apostila.\n",
    "\n",
    "\n",
    "1. Implementar as expressões abaixo em linguagem C/C++. Indique no próprio código na forma de comentário a ordem com que são calculadas as expressões e forneça os resultados como saída na tela, considerando a = 1.0, b = 3.0, c = -5.0.\n",
    ">- a\\*(b+c)/(c+2) \\* 3\n",
    ">- a + b/2. \\* 3 - c\n",
    ">- (a+b)/2 \\* (3. - c)\n",
    ">- !(5&gt;3) && 0 <= -1 && (3&gt;4)\n",
    ">- (a &lt;= b) || (b == 3.) && !(a != 3.)"
   ]
  },
  {
   "cell_type": "code",
   "execution_count": 1,
   "metadata": {},
   "outputs": [
    {
     "name": "stdout",
     "output_type": "stream",
     "text": [
      "2\n",
      "10.5\n",
      "16\n",
      "0\n",
      "1\n",
      "1\n"
     ]
    }
   ],
   "source": [
    "// revisão da lista completa de precedência de operadores da aula-05\n",
    "double a = 1.0, b = 3.0, c = -5.0;\n",
    "std::cout << ( a*(b+c)/(c+2) * 3                     ) << std::endl;\n",
    "std::cout << ( a + b/2. * 3 - c                      ) << std::endl;\n",
    "std::cout << ( (a+b)/2 * (3. - c)                    ) << std::endl;\n",
    "std::cout << ( !(5>3) && 0 <= -1 && (3>4)            ) << std::endl;\n",
    "std::cout << ( (a <= b) || ((b == 3.) && !(a != 3.)) ) << std::endl;\n",
    "std::cout << ( true || (true && false)               ) << std::endl;"
   ]
  },
  {
   "cell_type": "markdown",
   "metadata": {},
   "source": [
    "2. Fazer um algoritmo em C/C++ para calcular e mostrar na tela a raiz quadrada do maior entre 2 valores inteiros distintos informados pelo usuário."
   ]
  },
  {
   "cell_type": "code",
   "execution_count": 2,
   "metadata": {},
   "outputs": [
    {
     "name": "stdout",
     "output_type": "stream",
     "text": [
      "8"
     ]
    }
   ],
   "source": [
    "{\n",
    "    int a = 23, b = 64;\n",
    "    if (a > b)\n",
    "        std::cout << sqrt(a);\n",
    "    else\n",
    "        std::cout << sqrt(b);\n",
    "}"
   ]
  },
  {
   "cell_type": "markdown",
   "metadata": {},
   "source": [
    "3. Fazer um algoritmo em C/C++ que leia o consumo mensal (em kw) de energia de um cliente, calcule e mostre na tela o valor da fatura final. A tarifa é calculada da seguinte forma:\n",
    ">- Se o consumo for um valor até 150 kw, a tarifa é de 0.18 reais/kw\n",
    ">- Se for um valor entre 150 e 370 kw, a tarifa é de 0.18*150 mais o excedente a 150 taxados em 0.2 reais/kw\n",
    ">- Se for superior a 370, usam-se 3 taxas: as 2 taxas já referidas mais o excedente a 370 kw taxados em 0.28 reais/kw"
   ]
  },
  {
   "cell_type": "code",
   "execution_count": 13,
   "metadata": {},
   "outputs": [
    {
     "name": "stdout",
     "output_type": "stream",
     "text": [
      "R$ 71"
     ]
    }
   ],
   "source": [
    "{\n",
    "    float kw = 370.0;\n",
    "    if (kw <= 150.0) // primeira faixa\n",
    "        std::cout << \"R$ \" << (kw * 0.18);\n",
    "    else if (kw <= 370.0) // segunda faixa\n",
    "        std::cout << \"R$ \" << 150 * 0.18 + (kw - 150) * 0.2;\n",
    "    else // terceira faixa\n",
    "        std::cout << \"R$ \" << 150 * 0.18 + (370 - 150) * 0.2 + (kw - 370) * 0.28;\n",
    "}\n"
   ]
  },
  {
   "cell_type": "markdown",
   "metadata": {},
   "source": [
    "4.\tFazer um algoritmo em C/C++ que leia três números distintos A, B e C e apresente-os em ordem decrescente na tela. "
   ]
  },
  {
   "cell_type": "code",
   "execution_count": 2,
   "metadata": {},
   "outputs": [
    {
     "name": "stdout",
     "output_type": "stream",
     "text": [
      "2 1 0"
     ]
    }
   ],
   "source": [
    "// A análise combinatorial nos diz que há (3*2*1) possibilidades \n",
    "// de compor três numeros em ordem decrescente\n",
    "{\n",
    "    int a=0, b=1, c=2;\n",
    "    \n",
    "    if (a >= b && b >= c)\n",
    "        std::cout << a << \" \" << b << \" \" << c;\n",
    "    else if (a >= c && c >= b)\n",
    "        std::cout << a << \" \" << c << \" \" << b;\n",
    "    else if (b >= a && a >= c)\n",
    "        std::cout << b << \" \" << a << \" \" << c;\n",
    "    else if (b >= c && c >= a)\n",
    "        std::cout << b << \" \" << c << \" \" << a;\n",
    "    else if (c >= a && a >= b)\n",
    "        std::cout << c << \" \" << a << \" \" << b;\n",
    "    else if (c >= b && b >= a)\n",
    "        std::cout << c << \" \" << b << \" \" << a;\n",
    "}"
   ]
  },
  {
   "cell_type": "markdown",
   "metadata": {},
   "source": [
    "5.\tFaça um algoritmo em C/C++ que leia um ponto (x,y) no plano cartesiano e imprima sua localização: se está sobre os eixos x ou y, sobre a origem do sistema de coordenadas ou em um dos quadrantes e determine qual deles."
   ]
  },
  {
   "cell_type": "code",
   "execution_count": 8,
   "metadata": {},
   "outputs": [
    {
     "name": "stdout",
     "output_type": "stream",
     "text": [
      "Ponto sobre o quarto quadrante."
     ]
    }
   ],
   "source": [
    "{\n",
    "    int x=1, y=-1;\n",
    "    if (x == 0 && y == 0)\n",
    "        std::cout << \"Ponto sobre a origem do sistema de coordenadas.\";\n",
    "    else if (x == 0 || y == 0)\n",
    "        std::cout << \"Ponto sobre os eixos x ou y.\";\n",
    "    else\n",
    "    {\n",
    "        if (x > 0 && y > 0)\n",
    "            std::cout << \"Ponto sobre o primeiro quadrante.\";\n",
    "        else if (x < 0 && y > 0)\n",
    "            std::cout << \"Ponto sobre o segundo quadrante.\";\n",
    "        else if (x < 0 && y < 0)\n",
    "            std::cout << \"Ponto sobre o terceiro quadrante.\";\n",
    "        else if (x > 0 && y < 0)\n",
    "            std::cout << \"Ponto sobre o quarto quadrante.\";\n",
    "    }\n",
    "}"
   ]
  },
  {
   "cell_type": "markdown",
   "metadata": {},
   "source": [
    "6.\tEscreva um algoritmo em C/C++ que leia os coeficientes de duas retas, Ax + By = C e Dx + Ey = F, determine se as retas são paralelas (inclinações iguais, AE – BD = 0), ou se, se interceptam. Se elas se interceptam, determine se as retas são perpendiculares (produto das inclinações é igual a –1, AD + BE = 0)."
   ]
  },
  {
   "cell_type": "code",
   "execution_count": 8,
   "metadata": {},
   "outputs": [
    {
     "name": "stdout",
     "output_type": "stream",
     "text": [
      "retas se interceptam e são perpendiculares."
     ]
    }
   ],
   "source": [
    "// y = (-A/B)x + C \n",
    "// y = (-D/E)x + F\n",
    "{\n",
    "    float A=1, B=1, C=3, D=2, E=2, F=4; //paralelas\n",
    "    D=1; //interceptam\n",
    "    D=-2; //perpendiculares\n",
    "    if ((A*E - B*D) == 0)\n",
    "        std::cout << \"retas paralelas\";\n",
    "    else \n",
    "    {\n",
    "        std::cout << \"retas se interceptam\";\n",
    "        if ((A*D + B*E) == 0)\n",
    "            std::cout << \" e são perpendiculares.\";\n",
    "    }\n",
    "}"
   ]
  },
  {
   "cell_type": "markdown",
   "metadata": {},
   "source": [
    "7.\tFazer um algoritmo em C/C++ que leia 3 valores distintos, calcule a média dos valores extremos e apresente o resultado na tela."
   ]
  },
  {
   "cell_type": "code",
   "execution_count": null,
   "metadata": {},
   "outputs": [],
   "source": []
  },
  {
   "cell_type": "markdown",
   "metadata": {},
   "source": [
    "8.\tFaça um algoritmo em C/C++ que simule o sorteio da Mega-Sena. Ou seja, sorteie 6 números aleatórios entre 1 e 60 conforme visto na aula 6."
   ]
  },
  {
   "cell_type": "code",
   "execution_count": null,
   "metadata": {},
   "outputs": [],
   "source": []
  }
 ],
 "metadata": {
  "kernelspec": {
   "display_name": "C++14",
   "language": "C++14",
   "name": "xeus-cling-cpp14"
  },
  "language_info": {
   "codemirror_mode": "text/x-c++src",
   "file_extension": ".cpp",
   "mimetype": "text/x-c++src",
   "name": "c++",
   "version": "14"
  }
 },
 "nbformat": 4,
 "nbformat_minor": 2
}
