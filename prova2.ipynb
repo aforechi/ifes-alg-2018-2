{
 "cells": [
  {
   "cell_type": "markdown",
   "metadata": {},
   "source": [
    "# Notebook para avaliação\n",
    "\n",
    "1. Implemente cada questão numa caixa de código separado utilizando dentro de um escopo local delimitado por {}.\n",
    "2. Ao finalizar a implementação das questões, execute todas e verifique se há erros. \n",
    "3. Após executar todas as questões, exporte o notebook como HTML utilizando a opção disponivel no menu FILE.\n",
    "4. Finalmente, envie o arquivo exportado (prova.html) pelo AVA."
   ]
  },
  {
   "cell_type": "code",
   "execution_count": 1,
   "metadata": {},
   "outputs": [],
   "source": [
    "#include <iostream>"
   ]
  },
  {
   "cell_type": "code",
   "execution_count": 2,
   "metadata": {},
   "outputs": [
    {
     "name": "stdin",
     "output_type": "stream",
     "text": [
      " 9\n"
     ]
    },
    {
     "name": "stdout",
     "output_type": "stream",
     "text": [
      "Inteiro diferente de zero.\n",
      "Inteiro diferente de zero.\n",
      "Inteiro diferente de zero.\n"
     ]
    }
   ],
   "source": [
    "// Questão 1\n",
    "{\n",
    "    int inteiro(0);\n",
    "    std::cin >> inteiro;\n",
    "    // forma 1\n",
    "    if (inteiro)\n",
    "        std::cout << \"Inteiro diferente de zero.\" << std::endl;\n",
    "    else\n",
    "        std::cout << \"Inteiro igual a zero.\" << std::endl;\n",
    "    // forma 2\n",
    "    bool inteiro_zero = (inteiro == 0? true : false);\n",
    "    if (inteiro_zero)\n",
    "        std::cout << \"Inteiro igual a zero.\" << std::endl;\n",
    "    else\n",
    "        std::cout << \"Inteiro diferente de zero.\" << std::endl;\n",
    "    // forma 3\n",
    "    switch (inteiro) {\n",
    "        case 0:\n",
    "            std::cout << \"Inteiro igual a zero.\" << std::endl;\n",
    "        break;\n",
    "        default:\n",
    "            std::cout << \"Inteiro diferente de zero.\" << std::endl;            \n",
    "    }\n",
    "}"
   ]
  },
  {
   "cell_type": "code",
   "execution_count": 3,
   "metadata": {},
   "outputs": [
    {
     "name": "stdout",
     "output_type": "stream",
     "text": [
      "Informe a data no formado dia mês ano:"
     ]
    },
    {
     "name": "stdin",
     "output_type": "stream",
     "text": [
      " 5 6 45\n"
     ]
    },
    {
     "name": "stdout",
     "output_type": "stream",
     "text": [
      "5/6/45"
     ]
    }
   ],
   "source": [
    "// Questão 2\n",
    "{\n",
    "    bool bissexto(false);\n",
    "    int dia(0), mes(0), ano(0), dias(0);\n",
    "    \n",
    "    std::cout << \"Informe a data no formado dia mês ano:\";\n",
    "    std::cin >> dia >> mes >> ano;\n",
    "    \n",
    "    if(ano%400==0)\n",
    "        bissexto = true;\n",
    "    else if(ano%100==0)\n",
    "        bissexto = false;\n",
    "    else if(ano%4==0)\n",
    "        bissexto = true; \n",
    "    else\n",
    "        bissexto = false; \n",
    "        \n",
    "    if(mes==2)\n",
    "        dias = (bissexto? 29 : 28); \n",
    "    else if(mes==4||mes==6||mes==9||mes==11)\n",
    "        dias = 30; \n",
    "    else\n",
    "        dias = 31;\n",
    "    \n",
    "    if (mes < 1 || mes > 12)\n",
    "        std::cout << \"Mês inválido\";\n",
    "    \n",
    "    else if (dia < 1 || dia > dias)\n",
    "        std::cout << \"Dia inválido\";\n",
    "    \n",
    "    else\n",
    "        std::cout << dia << \"/\" << mes << \"/\" << ano;\n",
    "}"
   ]
  },
  {
   "cell_type": "code",
   "execution_count": 4,
   "metadata": {},
   "outputs": [
    {
     "name": "stdout",
     "output_type": "stream",
     "text": [
      "2 1 02 1 0"
     ]
    }
   ],
   "source": [
    "// Questão 3\n",
    "{\n",
    "\tint a(0), b(1), c(2);\n",
    "\t\n",
    "\tif (a >= b && b >= c)\n",
    "        std::cout << a << \" \" << b << \" \" << c;\n",
    "\telse if (a >= c && c >= b)\n",
    "        std::cout << a << \" \" << c << \" \" << b;\n",
    "\telse if (b >= a && a >= c)\n",
    "        std::cout << b << \" \" << a << \" \" << c;\n",
    "\telse if (b >= c && c >= a)\n",
    "        std::cout << b << \" \" << c << \" \" << a;\n",
    "\telse if (c >= a && a >= b)\n",
    "        std::cout << c << \" \" << a << \" \" << b;\n",
    "\telse if (c >= b && b >= a)\n",
    "        std::cout << c << \" \" << b << \" \" << a;\n",
    "}\t\n",
    "\n",
    "{\n",
    "\tint a(0), b(1), c(2);\n",
    "\n",
    "\tint aux;\n",
    "\tif(a < b)\n",
    "\t{ \n",
    "\t\taux = a;\n",
    "\t\ta = b;\n",
    "\t\tb = aux;\n",
    "\t}\n",
    "\tif(a < c)\n",
    "\t{ \n",
    "\t\taux = a;\n",
    "\t\ta = c;\n",
    "\t\tc = aux; \n",
    "\t}\n",
    "\tif(b < c)\n",
    "\t{ \n",
    "\t\taux = b;\n",
    "\t\tb = c;\n",
    "\t\tc = aux; \n",
    "\t}\n",
    "\tstd::cout << a << \" \" << b << \" \" << c;\n",
    "}"
   ]
  },
  {
   "cell_type": "code",
   "execution_count": 5,
   "metadata": {},
   "outputs": [
    {
     "name": "stdout",
     "output_type": "stream",
     "text": [
      "Entre com as coordenadas de três pontos (um em cada linha) separados por espaço:"
     ]
    },
    {
     "name": "stdin",
     "output_type": "stream",
     "text": [
      " 4 5\n",
      " 0 0\n",
      " 10 0\n"
     ]
    },
    {
     "name": "stdout",
     "output_type": "stream",
     "text": [
      "A área do triângulo é igual a: 25\n"
     ]
    }
   ],
   "source": [
    "// Questão 4\n",
    "#include<math.h>\n",
    "{\n",
    "    float x1, y1, x2, y2, x3, y3, area;\n",
    "    bool trianguloValido = false;\n",
    "    do {\n",
    "        std::cout << \"Entre com as coordenadas de três pontos (um em cada linha) separados por espaço:\";\n",
    "        std::cin >> x1 >> y1;\n",
    "        std::cin >> x2 >> y2;\n",
    "        std::cin >> x3 >> y3;\n",
    "\n",
    "        float a = sqrt(pow(x2-x1,2.0) + pow(y2-y1,2.0));\n",
    "        float b = sqrt(pow(x3-x1,2.0) + pow(y3-y1,2.0));\n",
    "        float c = sqrt(pow(x2-x3,2.0) + pow(y2-y3,2.0));\n",
    "\n",
    "        if((a == b) && (b == c))\n",
    "            trianguloValido = true; //Triangulo equilatero\n",
    "        else if((a + b > c) && (a + c > b) && (b + c > a))\n",
    "            trianguloValido = true; // Triangulo escaleno ou Triangulo isosceles\n",
    "        else\n",
    "            trianguloValido = false; //Os três lados não formam um triângulo     \n",
    "        \n",
    "        if (trianguloValido) {\n",
    "            float p = (a + b + c)/2.0;\n",
    "            area = sqrt(p * (p-a) * (p-b) * (p-c));\n",
    "            std::cout << \"A área do triângulo é igual a: \" << area << std::endl;\n",
    "        }\n",
    "        else \n",
    "            std::cout << \"As três coordenadas não formam um triângulo!\\n\";\n",
    "        \n",
    "    } while (!trianguloValido);\n",
    "}"
   ]
  },
  {
   "cell_type": "code",
   "execution_count": null,
   "metadata": {},
   "outputs": [],
   "source": []
  }
 ],
 "metadata": {
  "kernelspec": {
   "display_name": "C++14",
   "language": "C++14",
   "name": "xcpp14"
  },
  "language_info": {
   "codemirror_mode": "text/x-c++src",
   "file_extension": ".cpp",
   "mimetype": "text/x-c++src",
   "name": "c++",
   "version": "14"
  }
 },
 "nbformat": 4,
 "nbformat_minor": 4
}
