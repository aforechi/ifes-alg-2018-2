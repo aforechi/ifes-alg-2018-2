{
 "cells": [
  {
   "cell_type": "markdown",
   "metadata": {},
   "source": [
    "# Aula de Revisão\n",
    "\n",
    "## O que há de errado no exemplo abaixo? "
   ]
  },
  {
   "cell_type": "code",
   "execution_count": null,
   "metadata": {},
   "outputs": [],
   "source": [
    "int var1, var2;  \n",
    "var1 = 100;  \n",
    "var2 = 200;  \n",
    "var1 = var2; //var1 guarda 200  \n",
    "var2 = var1; //var2 guarda 200 "
   ]
  },
  {
   "cell_type": "markdown",
   "metadata": {},
   "source": [
    "## Veja a forma correta de efetuar a operação de troca de valores. "
   ]
  },
  {
   "cell_type": "code",
   "execution_count": null,
   "metadata": {},
   "outputs": [],
   "source": [
    "int aux;\n",
    "var1 = 100;  \n",
    "var2 = 200; \n",
    "\n",
    "aux = var1;\n",
    "var1 = var2;\n",
    "var2 = aux; "
   ]
  },
  {
   "cell_type": "markdown",
   "metadata": {},
   "source": [
    "## Algoritmo para decidir se um aluno está aprovado ou não, com base na média das notas semestrais."
   ]
  },
  {
   "cell_type": "code",
   "execution_count": null,
   "metadata": {},
   "outputs": [],
   "source": [
    "#include<iostream>\n",
    "\n",
    "{\n",
    "    float n1, n2, n3, mediaParcial;\n",
    "\n",
    "    std::cout << \"Entre com 3 valores\";\n",
    "    std::cin >> n1 >> n2 >> n3;\n",
    "    \n",
    "    mediaParcial = (n1 + n2 + n3) / 3.0;\n",
    "\n",
    "    if(mediaParcial < 6.0)\n",
    "    {\n",
    "        std::cout << \"\\nO aluno deve fazer prova final.\";\n",
    "    } \n",
    "    else \n",
    "    {\n",
    "        std::cout << \"\\nO aluno foi aprovado com media \" << mediaParcial;\n",
    "    }\n",
    "}"
   ]
  },
  {
   "cell_type": "markdown",
   "metadata": {},
   "source": [
    "## Algoritmo para decidir se dois numeros digitados estão em ordem crescente, decrescente ou se são iguais."
   ]
  },
  {
   "cell_type": "code",
   "execution_count": null,
   "metadata": {},
   "outputs": [],
   "source": [
    "#include<iostream>\n",
    "\n",
    "{\n",
    "    int num1, num2;\n",
    "\n",
    "    std::cout << \"Entre com 2 valores\";\n",
    "    std::cin >> num1 >> num2;\n",
    "    \n",
    "    if(num1 > num2){\n",
    "        std::cout << \"\\nOrdem decrescente.\";\n",
    "    }else{\n",
    "        if(num2 > num1){\n",
    "            std::cout << \"\\nOrdem crescente.\";\n",
    "        }else{\n",
    "            std::cout << \"\\nNumeros iguais.\";\n",
    "        } \n",
    "    }\n",
    "}"
   ]
  },
  {
   "cell_type": "markdown",
   "metadata": {},
   "source": [
    "## Programa que identifica o maior de três numeros sem o uso do comando de seleção aninhado"
   ]
  },
  {
   "cell_type": "code",
   "execution_count": null,
   "metadata": {},
   "outputs": [],
   "source": [
    "#include<iostream>\n",
    "\n",
    "{\n",
    "    int n1, n2, n3;\n",
    "    \n",
    "    std::cout << \"Entre com 3 valores\";\n",
    "    std::cin >> n1 >> n2 >> n3;\n",
    "    \n",
    "    if((n1 > n2) && (n1 > n3))\n",
    "    {\n",
    "        std::cout << \"O maior numero digitado foi: \" << n1;\n",
    "    }\n",
    "    if((n2 > n1) && (n2 > n3))\n",
    "    {\n",
    "        std::cout << \"O maior numero digitado foi: \" << n2;\n",
    "    }\n",
    "    if((n3 > n1) && (n3 > n2))\n",
    "    {\n",
    "        std::cout << \"O maior numero digitado foi: \" << n3;\n",
    "    }\n",
    "}"
   ]
  },
  {
   "cell_type": "markdown",
   "metadata": {},
   "source": [
    "## Programa que identifica o maior de três numeros, usando o uso do comando de seleção aninhado."
   ]
  },
  {
   "cell_type": "code",
   "execution_count": null,
   "metadata": {},
   "outputs": [],
   "source": [
    "#include<iostream>\n",
    "\n",
    "{\n",
    "    int n1, n2, n3;\n",
    "    \n",
    "    std::cout << \"Entre com 3 valores\";\n",
    "    std::cin >> n1 >> n2 >> n3;\n",
    "    \n",
    "    if (n1 > n2)\n",
    "    {\n",
    "        if (n1 > n3)\n",
    "        {\n",
    "            std::cout << \"O maior numero digitado foi: \" << n1;\n",
    "        } \n",
    "        else \n",
    "        {\n",
    "            std::cout << \"O maior numero digitado foi: \" << n3;\n",
    "        } \n",
    "    }\n",
    "    else\n",
    "    {\n",
    "        if (n2 > n3) \n",
    "        { \n",
    "            std::cout << \"O maior numero digitado foi: \" << n2;\n",
    "        } \n",
    "        else \n",
    "        { \n",
    "            std::cout << \"O maior numero digitado foi: \" << n3;\n",
    "        } \n",
    "    }\n",
    "}"
   ]
  },
  {
   "cell_type": "markdown",
   "metadata": {},
   "source": [
    "## Informa se três números podem constituir os lados de um triângulo e o tipo do triângulo que pode ser formado."
   ]
  },
  {
   "cell_type": "code",
   "execution_count": null,
   "metadata": {},
   "outputs": [],
   "source": [
    "#include<iostream>\n",
    "\n",
    "{\n",
    "    int lado1 , lado2 , lado3;\n",
    "    int soma1 , soma2 , soma3;\n",
    "\n",
    "    std::cout << \"Entre com tres numeros inteiros\";\n",
    "    std::cin >> lado1 >> lado2 >> lado3;\n",
    "\n",
    "    soma1 = lado1 + lado2;\n",
    "    soma2 = lado1 + lado3;\n",
    "    soma3 = lado2 + lado3;\n",
    "\n",
    "    if((lado1 == lado2) && (lado2 == lado3)) \n",
    "    { \n",
    "        std::cout << \"Triangulo equilatero\\n\" ;\n",
    "    }\n",
    "    else \n",
    "    {\n",
    "        if((soma1 > lado3) && (soma2 > lado2) && (soma3 > lado1))\n",
    "        {\n",
    "            if((lado1 != lado2) && (lado1 != lado3) && (lado2 != lado3))\n",
    "            { \n",
    "                std::cout << \"Triangulo escaleno\\n\";\n",
    "            }\n",
    "            else\n",
    "            {\n",
    "                std::cout << \"Triangulo isosceles\\n\";\n",
    "            } \n",
    "        }\n",
    "        else\n",
    "        {\n",
    "            std::cout << \"Os três lados não formam um triângulo\\n\";     \n",
    "        } \n",
    "    }\n",
    "}"
   ]
  },
  {
   "cell_type": "markdown",
   "metadata": {},
   "source": [
    "## Uso do comando switch para simular uma urna eletronica de eleição."
   ]
  },
  {
   "cell_type": "code",
   "execution_count": null,
   "metadata": {},
   "outputs": [],
   "source": [
    "#include<iostream>\n",
    "\n",
    "{\n",
    "    unsigned int voto;\n",
    "\n",
    "    std::cout << \"URNA ELETRONICA - SEU VOTO PARA PREFEITO:\" ;\n",
    "    std::cin >> voto;\n",
    "\n",
    "    switch(voto){\n",
    "    case 1:\n",
    "        std::cout << \"Candidato escolhido: Hortencia da Silva\";\n",
    "    break;\n",
    "    case 2:\n",
    "        std::cout << \"Candidato escolhido: Jose dos Cravos\";\n",
    "    break;\n",
    "    case 3:\n",
    "        std::cout << \"Candidato escolhido: Margarida S. Pereira\";\n",
    "    break;\n",
    "    default:\n",
    "        std::cout << \"Numero digitado invalido. Voto anulado.\";\n",
    "    }\n",
    "}"
   ]
  },
  {
   "cell_type": "markdown",
   "metadata": {},
   "source": [
    "## Programa que imprime se um numero n é impar."
   ]
  },
  {
   "cell_type": "code",
   "execution_count": null,
   "metadata": {},
   "outputs": [],
   "source": [
    "#include<iostream>\n",
    "{\n",
    "    int n;\n",
    "\n",
    "    std::cout << \"Entre com a quantidade de termos:\" ;\n",
    "    std::cin >> n;\n",
    "\n",
    "    if (n % 2) \n",
    "        std::cout << n << \" é impar!\"; \n",
    "}"
   ]
  },
  {
   "cell_type": "code",
   "execution_count": null,
   "metadata": {},
   "outputs": [],
   "source": []
  }
 ],
 "metadata": {
  "kernelspec": {
   "display_name": "C++14",
   "language": "C++14",
   "name": "xcpp14"
  },
  "language_info": {
   "codemirror_mode": "text/x-c++src",
   "file_extension": ".cpp",
   "mimetype": "text/x-c++src",
   "name": "c++",
   "version": "14"
  }
 },
 "nbformat": 4,
 "nbformat_minor": 4
}
