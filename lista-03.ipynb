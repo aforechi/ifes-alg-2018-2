{
 "cells": [
  {
   "cell_type": "markdown",
   "metadata": {},
   "source": [
    "# 3a Lista de Exercícios \n",
    "\n",
    "Faça os exercícios abaixo de maneira clara, organizada e usando a linguagem C/C++, conforme orientações abaixo: \n",
    "\n",
    "- Lembre-se de identar o código com TAB, além de seguir as boas práticas de programação vistas em sala de aula e na apostila."
   ]
  },
  {
   "cell_type": "code",
   "execution_count": 1,
   "metadata": {},
   "outputs": [],
   "source": [
    "#include<iostream>\n",
    "#include<cstdlib>\n",
    "#include<time.h>\n",
    "\n",
    "srand( (unsigned) time(NULL) );"
   ]
  },
  {
   "cell_type": "markdown",
   "metadata": {},
   "source": [
    "4. Implemente uma função que calcule a distância euclidiana 2D. Essa função recebe como parâmetro as coordenadas de dois ponto no plano cartesiano e retorna a distância entre esses pontos. Para fazer o cálculo dessa distância, primeiramente calcula-se a distância entre as coordenadas x (armazenando esse valor em dx) e a distância entre as coordenadas y (armazenando esse valor em dy). Posteriormente, usa-se o teorema de Pitágoras para calcular a distância entre os pontos dados."
   ]
  },
  {
   "cell_type": "code",
   "execution_count": 2,
   "metadata": {},
   "outputs": [],
   "source": [
    "float calcularDistanciaEntre2Pontos(float x1, float y1, float x2, float y2){\n",
    "    float dx = x2-x1;\n",
    "    float dy = y2-y1;\n",
    "    return sqrt(dx*dx + dy*dy);\n",
    "}"
   ]
  },
  {
   "cell_type": "markdown",
   "metadata": {},
   "source": [
    "1. Escrever uma função que calcule a distância entre dois pontos de um plano, sendo fornecido as suas coordenadas $x_1,y_1$ e $x_2,y_2$. Faça uma outra função que calcula a área do triângulo em função de seus lados, $a,b,c$,\n",
    "$\n",
    "area = \\sqrt{p(p-a)(p-b)(p-c)}\n",
    "$\n",
    "onde $ p = (a + b + c) /2$ é o semiperimetro do triângulo. Utlizando as funções acima, escrever um programa em\n",
    "C/C++ que sorteie aleatoriamente 10 conjuntos de pontos do plano, $x_1,y_1$, $x_2,y_2$ e $x_3,y_3$ e determine as áreas dos triângulos formados por estes pontos. Imprimir, para cada conjunto de pontos, as coordenadas lidas e a sua área. "
   ]
  },
  {
   "cell_type": "code",
   "execution_count": 3,
   "metadata": {},
   "outputs": [],
   "source": [
    "float calcularAreaTriangulo(float a, float b, float c){\n",
    "    float p = (a + b + c)/2.0;\n",
    "    return sqrt(p * (p-a) * (p-b) * (p-c));\n",
    "}"
   ]
  },
  {
   "cell_type": "code",
   "execution_count": 4,
   "metadata": {},
   "outputs": [],
   "source": [
    "bool verificarSeOsLadosFormamUmTrianguloValido(float a, float b, float c){\n",
    "    if((a == b) && (b == c))\n",
    "        return true; //Triangulo equilatero\n",
    "    else if((a + b > c) && (a + c > b) && (b + c > a))\n",
    "        return true; // Triangulo escaleno ou Triangulo isosceles\n",
    "    else\n",
    "        return false; //Os três lados não formam um triângulo \n",
    "}"
   ]
  },
  {
   "cell_type": "code",
   "execution_count": 5,
   "metadata": {},
   "outputs": [
    {
     "name": "stdout",
     "output_type": "stream",
     "text": [
      "\n",
      "\n",
      " Triângulo 1\n",
      "Coordenadas Ponto 1: (93,55)\n",
      "Coordenadas Ponto 2: (2,4)\n",
      "Coordenadas Ponto 3: (97,20)\n",
      "Area do triângulo :1694.5m2\n",
      "\n",
      "\n",
      " Triângulo 2\n",
      "Coordenadas Ponto 1: (93,42)\n",
      "Coordenadas Ponto 2: (84,85)\n",
      "Coordenadas Ponto 3: (50,29)\n",
      "Area do triângulo :983m2\n",
      "\n",
      "\n",
      " Triângulo 3\n",
      "Coordenadas Ponto 1: (64,16)\n",
      "Coordenadas Ponto 2: (43,67)\n",
      "Coordenadas Ponto 3: (66,67)\n",
      "Area do triângulo :586.5m2\n",
      "\n",
      "\n",
      " Triângulo 4\n",
      "Coordenadas Ponto 1: (87,85)\n",
      "Coordenadas Ponto 2: (40,21)\n",
      "Coordenadas Ponto 3: (48,0)\n",
      "Area do triângulo :749.499m2\n",
      "\n",
      "\n",
      " Triângulo 5\n",
      "Coordenadas Ponto 1: (60,49)\n",
      "Coordenadas Ponto 2: (53,89)\n",
      "Coordenadas Ponto 3: (50,74)\n",
      "Area do triângulo :112.5m2\n",
      "\n",
      "\n",
      " Triângulo 6\n",
      "Coordenadas Ponto 1: (50,2)\n",
      "Coordenadas Ponto 2: (63,10)\n",
      "Coordenadas Ponto 3: (59,51)\n",
      "Area do triângulo :282.5m2\n",
      "\n",
      "\n",
      " Triângulo 7\n",
      "Coordenadas Ponto 1: (2,15)\n",
      "Coordenadas Ponto 2: (26,38)\n",
      "Coordenadas Ponto 3: (99,11)\n",
      "Area do triângulo :1163.5m2\n",
      "\n",
      "\n",
      " Triângulo 8\n",
      "Coordenadas Ponto 1: (24,54)\n",
      "Coordenadas Ponto 2: (11,91)\n",
      "Coordenadas Ponto 3: (51,37)\n",
      "Area do triângulo :389m2\n",
      "\n",
      "\n",
      " Triângulo 9\n",
      "Coordenadas Ponto 1: (72,74)\n",
      "Coordenadas Ponto 2: (28,70)\n",
      "Coordenadas Ponto 3: (8,37)\n",
      "Area do triângulo :686m2\n",
      "\n",
      "\n",
      " Triângulo 10\n",
      "Coordenadas Ponto 1: (75,40)\n",
      "Coordenadas Ponto 2: (26,73)\n",
      "Coordenadas Ponto 3: (56,69)\n",
      "Area do triângulo :397m2\n"
     ]
    }
   ],
   "source": [
    "for(int i = 0; i < 10; i++) {\n",
    "    float x1 = rand()%100;\n",
    "    float x2 = rand()%100;\n",
    "    float x3 = rand()%100;\n",
    "    float y1 = rand()%100;\n",
    "    float y2 = rand()%100;\n",
    "    float y3 = rand()%100;\n",
    "    \n",
    "    float a = calcularDistanciaEntre2Pontos(x1, y1, x2, y2);\n",
    "    float b = calcularDistanciaEntre2Pontos(x1, y1, x3, y3);\n",
    "    float c = calcularDistanciaEntre2Pontos(x3, y3, x2, y2);\n",
    "    \n",
    "    if (verificarSeOsLadosFormamUmTrianguloValido(a, b, c)){\n",
    "        float area = calcularAreaTriangulo(a, b, c);\n",
    "        std::cout << \"\\n\\n Triângulo \" << i+1 << std::endl;\n",
    "        std::cout << \"Coordenadas Ponto 1: (\" << x1 << \",\" << y1 << \")\" << std::endl;\n",
    "        std::cout << \"Coordenadas Ponto 2: (\" << x2 << \",\" << y2 << \")\" << std::endl;\n",
    "        std::cout << \"Coordenadas Ponto 3: (\" << x3 << \",\" << y3 << \")\" << std::endl;\n",
    "        std::cout << \"Area do triângulo :\" << area << \"m2\" << std::endl;\n",
    "    }\n",
    "}"
   ]
  },
  {
   "cell_type": "markdown",
   "metadata": {},
   "source": [
    "2. Faça um programa em C/C++ para dividir sucessivamente, $k$ vezes, um segmento $AB$ do plano ao meio até que fique menor que 0.00001. Para isto, construa os seguintes subalgoritmos:  \n",
    "    - uma função que calcule a distância entre dois pontos no plano, fornecendo as suas coordenadas $dist =\\sqrt{(x_2-x_1)^2+(y_2-y_1)^2}$. \n",
    "    - um procedimento que entre com as coordenadas de dois pontos no plano e saia com as coordenadas do ponto médio e com a distância entre um dos pontos ao ponto médio. Utilize a função distância implementada.\n",
    "\n",
    "    O seu programa deve sortear aleatoriamente as coordenadas de dois pontos do plano e sair com o número de vezes que intervalo foi dividido, $k$, as coordenadas do ponto médio final e o tamanho final do intervalo.  "
   ]
  },
  {
   "cell_type": "code",
   "execution_count": 6,
   "metadata": {},
   "outputs": [],
   "source": [
    "void calcularPontoMedio(float xa, float ya, float xb, float yb, float & xm, float & ym, float & dm){\n",
    "    xm = (xa+xb)/2.0;\n",
    "    ym = (ya+yb)/2.0;\n",
    "    dm = calcularDistanciaEntre2Pontos(xa, ya, xm, ym);\n",
    "}"
   ]
  },
  {
   "cell_type": "code",
   "execution_count": 7,
   "metadata": {},
   "outputs": [
    {
     "name": "stdout",
     "output_type": "stream",
     "text": [
      "Número de segmentos:22\n",
      "Ponto médio final :(34 ; 59)\n",
      "Tamanho final do segmento:7.62939e-06"
     ]
    }
   ],
   "source": [
    "float xa = rand()%100;\n",
    "float ya = rand()%100;\n",
    "float xb = rand()%100;\n",
    "float yb = rand()%100;\n",
    "float xm, ym, dm;\n",
    "int k = 0;\n",
    "\n",
    "do {\n",
    "    calcularPontoMedio(xa, ya, xb, yb, xm, ym, dm);\n",
    "    xb = xm;\n",
    "    yb = ym;\n",
    "    k++;\n",
    "} while(dm >= 0.00001);\n",
    "\n",
    "std::cout << \"Número de segmentos:\" << k << std::endl;\n",
    "std::cout << \"Ponto médio final :(\" << xm << \" ; \" << ym << \")\" << std::endl;\n",
    "std::cout << \"Tamanho final do segmento:\" << dm;"
   ]
  },
  {
   "cell_type": "markdown",
   "metadata": {},
   "source": [
    "3. Considere uma função potencia que recebe como argumentos dois inteiros para base e expoente e retorne o resultado inteiro da operação $base^{expoente}$. Implemente uma versão da funcão usando o comando for e outra versão usando recursão."
   ]
  },
  {
   "cell_type": "code",
   "execution_count": 8,
   "metadata": {},
   "outputs": [],
   "source": [
    "int potencia(int base, int expoente){\n",
    "    int produto(1);\n",
    "    for(int i=1; i<=expoente; i++)\n",
    "        produto *= base;\n",
    "    return produto;\n",
    "}"
   ]
  },
  {
   "cell_type": "code",
   "execution_count": 9,
   "metadata": {},
   "outputs": [
    {
     "data": {
      "text/plain": [
       "256"
      ]
     },
     "execution_count": 9,
     "metadata": {},
     "output_type": "execute_result"
    }
   ],
   "source": [
    "potencia(2, 8)"
   ]
  },
  {
   "cell_type": "code",
   "execution_count": 10,
   "metadata": {},
   "outputs": [],
   "source": [
    "int potencia2(int base, int expoente){\n",
    "    if (expoente == 0)\n",
    "        return 1;\n",
    "    return base * potencia2(base, expoente-1);\n",
    "}"
   ]
  },
  {
   "cell_type": "code",
   "execution_count": 11,
   "metadata": {},
   "outputs": [
    {
     "data": {
      "text/plain": [
       "256"
      ]
     },
     "execution_count": 11,
     "metadata": {},
     "output_type": "execute_result"
    }
   ],
   "source": [
    "potencia2(2, 8)"
   ]
  },
  {
   "cell_type": "markdown",
   "metadata": {},
   "source": [
    "5. Faça uma função que receba um número inteiro positivo n, calcule a soma dos n primeiros numeros naturais e retorne esse valor. Considere os numeros naturais começando do 1. Não use a formula de P.A. (Progessão aritmetica)."
   ]
  },
  {
   "cell_type": "code",
   "execution_count": 12,
   "metadata": {},
   "outputs": [],
   "source": [
    "int somaPrimeirosNumerosNaturais(int n){\n",
    "    int soma(0);\n",
    "    for(int i = 1; i<=n; i++)\n",
    "        soma += i;\n",
    "    return soma;\n",
    "}"
   ]
  },
  {
   "cell_type": "code",
   "execution_count": 13,
   "metadata": {},
   "outputs": [
    {
     "data": {
      "text/plain": [
       "0"
      ]
     },
     "execution_count": 13,
     "metadata": {},
     "output_type": "execute_result"
    }
   ],
   "source": [
    "somaPrimeirosNumerosNaturais(0)"
   ]
  },
  {
   "cell_type": "markdown",
   "metadata": {},
   "source": [
    "6. Faça um programa que leia um numero natural n e dois numeros naturais i e j diferentes de 0 e imprima em ordem crescente os n primeiros naturais que são multiplos de i ou de j. Resolva o problema utilizando uma função que verifique se um numero é multiplo do outro. Exemplo: Para n=6,i=2 e j=3 a saida deverá ser: 0,2,3,4,6,8."
   ]
  },
  {
   "cell_type": "code",
   "execution_count": 14,
   "metadata": {},
   "outputs": [],
   "source": [
    "bool multiplo(int a, int b){\n",
    "    return (a % b) == 0;\n",
    "}"
   ]
  },
  {
   "cell_type": "code",
   "execution_count": 16,
   "metadata": {},
   "outputs": [
    {
     "name": "stdout",
     "output_type": "stream",
     "text": [
      "\n",
      "Informe um numero n:"
     ]
    },
    {
     "name": "stdin",
     "output_type": "stream",
     "text": [
      " 6\n"
     ]
    },
    {
     "name": "stdout",
     "output_type": "stream",
     "text": [
      "\n",
      "Informe um numero i:"
     ]
    },
    {
     "name": "stdin",
     "output_type": "stream",
     "text": [
      " 2\n"
     ]
    },
    {
     "name": "stdout",
     "output_type": "stream",
     "text": [
      "\n",
      "Informe um numero j:"
     ]
    },
    {
     "name": "stdin",
     "output_type": "stream",
     "text": [
      " 3\n"
     ]
    },
    {
     "name": "stdout",
     "output_type": "stream",
     "text": [
      "0\n",
      "2\n",
      "3\n",
      "4\n",
      "6\n",
      "8\n"
     ]
    }
   ],
   "source": [
    "{\n",
    "    unsigned int i,j,n;\n",
    "\n",
    "    std::cout << \"\\nInforme um numero n:\";\n",
    "    std::cin >> n;\n",
    "    std::cout << \"\\nInforme um numero i:\";\n",
    "    std::cin >> i;\n",
    "    std::cout << \"\\nInforme um numero j:\";\n",
    "    std::cin >> j;\n",
    "\n",
    "    int c(0), k(0);\n",
    "    while(c<n) {\n",
    "        if (multiplo(k,i) || multiplo(k,j)){\n",
    "            std::cout << k << std::endl;\n",
    "            c++;\n",
    "        }\n",
    "        k++;\n",
    "    }\n",
    "}"
   ]
  },
  {
   "cell_type": "markdown",
   "metadata": {},
   "source": [
    "7. Seja n inteiro positivo diferente de zero. Faça um programa para exibir os n primeiros numeros primos. Para exibir os n primeiros numeros primos é necessario fazer primeiro uma função que verifique se um dado numero x é primo ou não. Por definição: “Numero primo é um numero natural que pode ser dividido (o resto da sua divisão é zero) apenas por dois numeros naturais, o 1 (um) e ele mesmo, com excessão do numero 1, que não é tido como primo”."
   ]
  },
  {
   "cell_type": "code",
   "execution_count": 17,
   "metadata": {},
   "outputs": [],
   "source": [
    "bool primo(int n){\n",
    "    for(int i=2; i < n; i++)\n",
    "        if ( (n % i)==0 )\n",
    "            return false;\n",
    "    return true;\n",
    "}"
   ]
  },
  {
   "cell_type": "code",
   "execution_count": 18,
   "metadata": {},
   "outputs": [
    {
     "name": "stdout",
     "output_type": "stream",
     "text": [
      "Informe a quantidade de números primos que deseja exibir:"
     ]
    },
    {
     "name": "stdin",
     "output_type": "stream",
     "text": [
      " 5\n"
     ]
    },
    {
     "name": "stdout",
     "output_type": "stream",
     "text": [
      "2\n",
      "3\n",
      "5\n",
      "7\n",
      "11\n"
     ]
    }
   ],
   "source": [
    "{\n",
    "    unsigned int n;\n",
    "\n",
    "    std::cout << \"Informe a quantidade de números primos que deseja exibir:\";\n",
    "    std::cin >> n;\n",
    "\n",
    "    int k(2),c(0);\n",
    "    while(c < n) {\n",
    "        if (primo(k)){\n",
    "            std::cout << k << std::endl;\n",
    "            c++;\n",
    "        }\n",
    "        k++;\n",
    "    }\n",
    "}"
   ]
  },
  {
   "cell_type": "markdown",
   "metadata": {},
   "source": [
    "8. Uma editora possui um código para fornecer o valor da assinatura anual das seguintes revistas:\n",
    "\n",
    "| Cod. | Revista     | Valor     |\n",
    "|------|-------------|-----------|\n",
    "| I | Internet       | R\\$ 70,50 |\n",
    "| A | Atualidades    | R\\$ 69,00 |\n",
    "| C | Cozinhas       | R\\$ 75,00 |\n",
    "| M | Moda e Moldes  | R\\$ 50,00 | \n",
    "\n",
    "    - Faça uma função que, fornecido o código da revista, retorne um Tipo Abstrato de Dados contendo o nome da revista e o valor da anuidade. \n",
    "    - Faça também uma função para calcular o valor da assinatura, sabendo que: a  editora dá um desconto de 32% ao cliente que pagar a vista a anuidade,  não altera o valor se o  cliente optar por pagamento em 3 vezes e cobra juros de 12% para a opção de pagamento em 6 vezes. Crie um código alfanumérico para a opção de pagamento e forneça este código para a função. \n",
    "    - Faça um programa em C/C++ que, fornecido o código da revista, imprima o nome da revista e o valor da anuidade. Depois disso, o programa  deve ler a opção de pagamento desejada e imprimir o valor da assinatura."
   ]
  },
  {
   "cell_type": "code",
   "execution_count": null,
   "metadata": {},
   "outputs": [],
   "source": []
  }
 ],
 "metadata": {
  "kernelspec": {
   "display_name": "C++14",
   "language": "C++14",
   "name": "xcpp14"
  },
  "language_info": {
   "codemirror_mode": "text/x-c++src",
   "file_extension": ".cpp",
   "mimetype": "text/x-c++src",
   "name": "c++",
   "version": "14"
  }
 },
 "nbformat": 4,
 "nbformat_minor": 4
}
