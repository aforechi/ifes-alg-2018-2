{
 "cells": [
  {
   "cell_type": "markdown",
   "metadata": {},
   "source": [
    "# Aula 10 – Tipo Abstrato de Dados \n",
    "\n",
    "## Tipos Compostos Heterogêneos\n",
    "\n",
    "As Estruturas são entidades que representam tipos de dados e que permitem o agrupamento de variáveis de diversos tipos.\n",
    "\n",
    "É uma alternativa aos tipos de dados simples, fornecidos pela linguagem:\n",
    "- Definição fica a cargo do programador, de acordo com o problema;\n",
    "- Permite que uma função retorne mais de um valor.\n",
    "\n",
    "Exemplo:\n",
    "idade, matrícula, coeficiente de rendimento e período\n",
    "\n",
    "Sintaxe:\n",
    "<br>struct nome_do_tipo{\n",
    "<br>tipo_do_atributo_1 nome_do_atributo_1;\n",
    "<br>tipo_do_atributo_2 nome_do_atributo_2;\n",
    "<br>...\n",
    "<br>tipo_do_atributo_n nome_do_atributo_n;\n",
    "<br>};"
   ]
  },
  {
   "cell_type": "code",
   "execution_count": 1,
   "metadata": {},
   "outputs": [],
   "source": [
    "struct tEstudante{\n",
    "    int idade;\n",
    "    int matricula;\n",
    "    float coeficiente;\n",
    "    int periodo;\n",
    "};"
   ]
  },
  {
   "cell_type": "markdown",
   "metadata": {},
   "source": [
    "![figura](img/Picture17.png)\n",
    "\n",
    "## Acesso seletivo aos elementos da estrutura\n",
    "\n",
    "nome_da_variavel.nome_do_atributo"
   ]
  },
  {
   "cell_type": "code",
   "execution_count": 2,
   "metadata": {},
   "outputs": [],
   "source": [
    "#include<iostream>\n",
    "\n",
    "struct tEstudante aluno;"
   ]
  },
  {
   "cell_type": "code",
   "execution_count": 3,
   "metadata": {},
   "outputs": [],
   "source": [
    "aluno.idade = 21;\n",
    "aluno.matricula = 20181;\n",
    "aluno.coeficiente = 8.9;\n",
    "aluno.periodo = 3;"
   ]
  },
  {
   "cell_type": "code",
   "execution_count": 4,
   "metadata": {},
   "outputs": [
    {
     "name": "stdout",
     "output_type": "stream",
     "text": [
      "aluno\n",
      "21\n",
      "20181\n",
      "8.9\n",
      "3\n"
     ]
    }
   ],
   "source": [
    "std::cout << \"aluno\\n\"\n",
    "<< aluno.idade << std::endl\n",
    "<< aluno.matricula << std::endl\n",
    "<< aluno.coeficiente << std::endl\n",
    "<< aluno.periodo << std::endl;"
   ]
  },
  {
   "cell_type": "markdown",
   "metadata": {},
   "source": [
    "\n",
    "## Acesso integral à estrutura\n",
    "\n",
    "nome_da_variavel_1 = nome_da_variavel_2"
   ]
  },
  {
   "cell_type": "code",
   "execution_count": 5,
   "metadata": {},
   "outputs": [],
   "source": [
    "struct tEstudante outro;"
   ]
  },
  {
   "cell_type": "code",
   "execution_count": 9,
   "metadata": {},
   "outputs": [],
   "source": [
    "outro = aluno;"
   ]
  },
  {
   "cell_type": "code",
   "execution_count": 10,
   "metadata": {},
   "outputs": [
    {
     "data": {
      "text/plain": [
       "20181"
      ]
     },
     "execution_count": 10,
     "metadata": {},
     "output_type": "execute_result"
    }
   ],
   "source": [
    "outro.matricula"
   ]
  },
  {
   "cell_type": "code",
   "execution_count": 11,
   "metadata": {},
   "outputs": [
    {
     "name": "stdout",
     "output_type": "stream",
     "text": [
      "outro aluno\n",
      "21\n",
      "20181\n",
      "8.9\n",
      "3\n"
     ]
    }
   ],
   "source": [
    "std::cout << \"outro aluno\\n\"\n",
    "<< outro.idade << std::endl\n",
    "<< outro.matricula << std::endl\n",
    "<< outro.coeficiente << std::endl\n",
    "<< outro.periodo << std::endl;"
   ]
  },
  {
   "cell_type": "markdown",
   "metadata": {},
   "source": [
    "## Redefinição de tipos\n",
    "\n",
    "**typedef** tipo nome; "
   ]
  },
  {
   "cell_type": "code",
   "execution_count": 12,
   "metadata": {},
   "outputs": [],
   "source": [
    "typedef struct tEstudante tEstudante;\n",
    "\n",
    "typedef float real;"
   ]
  },
  {
   "cell_type": "code",
   "execution_count": 13,
   "metadata": {},
   "outputs": [],
   "source": [
    "real pi = 3.14;"
   ]
  },
  {
   "cell_type": "code",
   "execution_count": 14,
   "metadata": {},
   "outputs": [
    {
     "data": {
      "text/plain": [
       "3.14000f"
      ]
     },
     "execution_count": 14,
     "metadata": {},
     "output_type": "execute_result"
    }
   ],
   "source": [
    "pi"
   ]
  },
  {
   "cell_type": "code",
   "execution_count": 15,
   "metadata": {},
   "outputs": [
    {
     "name": "stdout",
     "output_type": "stream",
     "text": [
      "novo aluno\n",
      "21\n",
      "20181\n",
      "8.9\n",
      "3\n"
     ]
    }
   ],
   "source": [
    "tEstudante novo;\n",
    "\n",
    "novo = aluno;\n",
    "\n",
    "std::cout << \"novo aluno\\n\"\n",
    "<< novo.idade << std::endl\n",
    "<< novo.matricula << std::endl\n",
    "<< novo.coeficiente << std::endl\n",
    "<< novo.periodo << std::endl;"
   ]
  },
  {
   "cell_type": "markdown",
   "metadata": {},
   "source": [
    "Exercício: Faça um programa que leia dois pontos do plano cartesiano, calcule a distancia entre eles e imprima o resultado na tela.\n",
    "- Defina uma estrutura para o ponto\n",
    "- Defina um tipo para renomear a estrutura\n",
    "- Use uma função para cálculo da distancia"
   ]
  },
  {
   "cell_type": "code",
   "execution_count": 2,
   "metadata": {},
   "outputs": [],
   "source": [
    "//Defina uma estrutura para o ponto\n",
    "struct tPonto{\n",
    "    float x;\n",
    "    float y;\n",
    "};\n",
    "\n",
    "//Defina um tipo para renomear a estrutura\n",
    "typedef struct tPonto tPonto;"
   ]
  },
  {
   "cell_type": "code",
   "execution_count": 4,
   "metadata": {},
   "outputs": [],
   "source": [
    "//Defina uma função para cálculo da distância\n",
    "float distancia(const tPonto &A, const tPonto &B){\n",
    "    float dx = A.x - B.x;\n",
    "    float dy = A.y - B.y;\n",
    "    return sqrt(dx*dx + dy*dy);\n",
    "}"
   ]
  },
  {
   "cell_type": "code",
   "execution_count": 5,
   "metadata": {},
   "outputs": [
    {
     "data": {
      "text/plain": [
       "1.00000f"
      ]
     },
     "execution_count": 5,
     "metadata": {},
     "output_type": "execute_result"
    }
   ],
   "source": [
    "//Use a função para cálculo da distancia\n",
    "tPonto P, Q;\n",
    "P.x = 0;\n",
    "P.y = 1;\n",
    "Q.x = 0;\n",
    "Q.y = 2;\n",
    "//Imprima o resultado na tela\n",
    "distancia(P, Q)"
   ]
  },
  {
   "cell_type": "markdown",
   "metadata": {},
   "source": [
    "## Tipos Abstratos de Dados (TAD)\n",
    "\n",
    "São novos tipos de dados implementados pelo programador,  nos quais ele define tanto as estruturas de dados quanto as operações a elas aplicáveis\n",
    "\n",
    "Exemplo: suponha que desejamos definir um tipo abstrato de dados para data.\n"
   ]
  },
  {
   "cell_type": "code",
   "execution_count": 6,
   "metadata": {},
   "outputs": [],
   "source": [
    "typedef struct{\n",
    "    int dia;\n",
    "    int mes;\n",
    "    int ano;\n",
    "}tData;"
   ]
  },
  {
   "cell_type": "markdown",
   "metadata": {},
   "source": [
    "Podemos imaginar várias operações que desejaríamos realizar com instâncias deste tipo de dado\n",
    "\n",
    "- Inicializar data \n",
    "    - a partir de valores passados como parâmetro.\n",
    "    - a partir de valores lidos do teclado.\n",
    "\n",
    "- Altera data \n",
    "    - a partir de valores passados como parâmetro.\n",
    "    - para dia seguinte\n",
    "\n",
    "- Verificar se uma data está num ano bissexto\n",
    "\n",
    "- Indicar a quantidade de dias do mês em questão.\n",
    "\n",
    "Exercicio: Implementar as funções abaixo do exemplo 4.8 (tData) da apostila de C, página 117."
   ]
  },
  {
   "cell_type": "code",
   "execution_count": 7,
   "metadata": {},
   "outputs": [],
   "source": [
    "// inicializaData : função que inicializa uma data a partir de valores passados como parametro. \n",
    "tData inicializaData(int d, int m, int a){ \n",
    "    tData dt;\n",
    "    dt.dia=d; \n",
    "    dt.mes=m; \n",
    "    dt.ano=a; \n",
    "    return dt;\n",
    "}"
   ]
  },
  {
   "cell_type": "code",
   "execution_count": 8,
   "metadata": {},
   "outputs": [],
   "source": [
    "// alteraData: função que altera uma data a partir de valores passados como parametro.\n",
    "void alteraData(tData & dt, int d, int m, int a){ \n",
    "    dt.dia=d; \n",
    "    dt.mes=m; \n",
    "    dt.ano=a; \n",
    "}"
   ]
  },
  {
   "cell_type": "code",
   "execution_count": 9,
   "metadata": {},
   "outputs": [],
   "source": [
    "// eBissexto: função que indica se um ano é bissexto ou não.\n",
    "bool eBissexto(const tData &d){ \n",
    "    if(d.ano%400==0){\n",
    "        return true;\n",
    "    }else if(d.ano%100==0){\n",
    "        return false;\n",
    "    }else if(d.ano%4==0){\n",
    "        return true; \n",
    "    }else{\n",
    "        return false; \n",
    "    }\n",
    "}"
   ]
  },
  {
   "cell_type": "code",
   "execution_count": 11,
   "metadata": {},
   "outputs": [],
   "source": [
    "// diasNoMes: função que indica a quantidade de dias do mês em questão.\n",
    "int diasNoMes(const tData &d){ \n",
    "    if(d.mes==4||d.mes==6||d.mes==9||d.mes==11){\n",
    "        return 30; \n",
    "    }else{\n",
    "        if(d.mes==2){ \n",
    "            if(eBissexto(d)){\n",
    "                return 29; \n",
    "            }else{\n",
    "                return 28; \n",
    "            }\n",
    "        }else{\n",
    "            return 31;\n",
    "        } \n",
    "    }\n",
    "}"
   ]
  },
  {
   "cell_type": "code",
   "execution_count": 12,
   "metadata": {},
   "outputs": [],
   "source": [
    "// diaSeguinte: função que altera a data para o dia seguinte.\n",
    "tData diaSeguinte(tData d){ \n",
    "    if(d.dia<diasNoMes(d)){\n",
    "        d.dia++; \n",
    "    }else{\n",
    "        d.dia=1;\n",
    "        if (d.mes <12){\n",
    "            d.mes++; \n",
    "        }else{\n",
    "            d.mes=1;\n",
    "            d.ano++; \n",
    "        }\n",
    "    }\n",
    "    return d; \n",
    "}"
   ]
  },
  {
   "cell_type": "markdown",
   "metadata": {},
   "source": [
    "O Exemplo abaixo determina se uma data digitada é de um ano bissexto e a quantidade de dias no mês da data digitada. Pode-se afirmar que o programa manipula o TAD somente atraves das operações pré-definidas pelo implementador, assim o codigo usuario fica mais legıvel. Pode-se observar que as operações separam o codigo usuario do codigo de implementação do TAD. A redigibilidade tambem aumenta, visto que o acesso aos dados é realizado apenas por simples operações. O codigo tambem fica mais confiavel, pois o usuario não altera livremente os dados, isso só pode ser feito através das operações do TAD. E, por fim, caso a implementação do TAD precise ser alterada, o código usuário não sofrerá mudanças, a menos que os cabeçalhos das funções sejam alterados."
   ]
  },
  {
   "cell_type": "code",
   "execution_count": 14,
   "metadata": {},
   "outputs": [
    {
     "name": "stdout",
     "output_type": "stream",
     "text": [
      "Ano não Bissexto\n",
      "Número de dias no mês:31"
     ]
    }
   ],
   "source": [
    "#include<iostream>\n",
    "\n",
    "tData data;\n",
    "bool anoBissexto; \n",
    "int nDias;\n",
    "\n",
    "data=inicializaData(3,7,2018);\n",
    "anoBissexto=eBissexto(data);\n",
    "\n",
    "if(anoBissexto)\n",
    "    std::cout << \"Ano Bissexto\\n\";\n",
    "else\n",
    "    std::cout << \"Ano não Bissexto\\n\";\n",
    "\n",
    "nDias=diasNoMes(data);\n",
    "\n",
    "std::cout << \"Número de dias no mês:\" << nDias;"
   ]
  },
  {
   "cell_type": "markdown",
   "metadata": {},
   "source": [
    "Assim, temos \n",
    "- um tipo composto, ou seja, uma estrutura que agrupa variáveis correspondente a dia mês e ano \n",
    "- uma série de operações pré-definidas para tal tipo\n",
    "\n",
    "Vantagens\n",
    "- Manutenibilidade: Pode-se alterar o tipo usado sem alterar o programa principal.\n",
    "- Reusabilidade: Pode ser utilizado em diversas aplicações.\n",
    "- Abstração: permite a melhor compreensão dos algoritmos e maior facilidade de programação\n",
    "- Ocultamento: Separa o codigo de implementação do codigo de uso\n",
    "- Integridade: A manipulação dos atribuitos por operações definidas sobre o tipo impedem a ocorrência de inconsistências\n",
    "\n",
    "Problema do uso de TAD em C:\n",
    "- A linguagem C não implementa de fato TAD, apenas simula\n",
    "- O programador-usuário do TAD tem acesso livre para alterar diretamente os valores sem usar as operações pré-definidas.\n",
    "\n",
    "## Tipos de Operação de TAD\n",
    "\n",
    "### Construtoras\n",
    "São operações que realizam a inicialização dos valores\n"
   ]
  },
  {
   "cell_type": "code",
   "execution_count": 5,
   "metadata": {},
   "outputs": [],
   "source": [
    "tEstudante inicializar(){ \n",
    "    tEstudante novo;\n",
    "    novo.idade=0; \n",
    "    novo.matricula=0; \n",
    "    novo.coeficiente=0; \n",
    "    novo.periodo=0; \n",
    "    return novo;\n",
    "}"
   ]
  },
  {
   "cell_type": "code",
   "execution_count": 6,
   "metadata": {},
   "outputs": [],
   "source": [
    "tEstudante inicializarValores(int idade, int matricula, float coeficiente, int periodo){\n",
    "    tEstudante novo;\n",
    "    novo.idade=idade; \n",
    "    novo.matricula=matricula; \n",
    "    novo.coeficiente=coeficiente; \n",
    "    novo.periodo=periodo;\n",
    "    return novo; \n",
    "}"
   ]
  },
  {
   "cell_type": "markdown",
   "metadata": {},
   "source": [
    "### Analisadoras ou consultoras\n",
    "Analisam o conteúdo de um TAD e retornam uma propriedade"
   ]
  },
  {
   "cell_type": "code",
   "execution_count": 7,
   "metadata": {},
   "outputs": [],
   "source": [
    "bool bomAluno(tEstudante aluno){\n",
    "    if (aluno.coeficiente >7.0)\n",
    "        return true;\n",
    "    else\n",
    "        return false;\n",
    "}"
   ]
  },
  {
   "cell_type": "markdown",
   "metadata": {},
   "source": [
    "### Modificadoras ou atualizadoras\n",
    "Realizam a alteração de atributos de um TAD\n"
   ]
  },
  {
   "cell_type": "code",
   "execution_count": 8,
   "metadata": {},
   "outputs": [],
   "source": [
    "tEstudante alteraIdade(tEstudante aluno,int novaIdade){ \n",
    "    aluno.idade=novaIdade;\n",
    "    return aluno;\n",
    "}"
   ]
  },
  {
   "cell_type": "markdown",
   "metadata": {},
   "source": [
    "### Produtoras\n",
    "Comparam dados de um TAD e produzem nova informação.\n"
   ]
  },
  {
   "cell_type": "code",
   "execution_count": 9,
   "metadata": {},
   "outputs": [],
   "source": [
    "int maiorIdade(tEstudante est1, tEstudante est2){ \n",
    "    if (est1.idade > est2.idade)\n",
    "        return est1.idade;\n",
    "    return est2.idade;\n",
    "}"
   ]
  },
  {
   "cell_type": "markdown",
   "metadata": {},
   "source": [
    "### Destrutoras\n",
    "São utilizadas para liberar recurso de memória ocupados por um TAD.\n",
    "\n",
    "Serão vistas mais adiante neste curso quando falarmos sobre Ponteiros.\n",
    "\n",
    "## Tipos de TAD\n",
    "\n",
    "### TADs de domínio:\n",
    "- Definem tipos de dados diretamente relacionados ao domínio do problema\n",
    "\n",
    "### TADs implementacionais\n",
    "- Tem relação direta com questões implementacionais, como listas, árvores, grafos e filas. Estes também serão vistos mais adiante neste curso.\n",
    "\n",
    "## Exercício Proposto\n",
    "\n",
    "1. Escrever um programa em C/C++ que leia 10 conjuntos de pontos do plano,  x1,y1,  x2,y2 e  x3,y3 e determine as áreas dos triângulos formados por estes pontos. Imprimir, para cada conjunto de pontos, as coordenadas lidas e a sua área.\n",
    "2. Transforme o tipo de dados composto construído para um ponto no plano cartesiano em um TAD. Do que precisamos?\n",
    "    - Uma estrutura que agrupa as variáveis (Exercício Resolvido 4.4)\n",
    "    - Uma série de operações pré-definidas\n",
    "        - Construtoras (exercício 4.5)\n",
    "        - Analisadoras (exercício 4.6)\n",
    "        - Modificadoras\n",
    "        - Produtoras (exercício 4.8)"
   ]
  },
  {
   "cell_type": "code",
   "execution_count": null,
   "metadata": {},
   "outputs": [],
   "source": []
  }
 ],
 "metadata": {
  "kernelspec": {
   "display_name": "C++14",
   "language": "C++14",
   "name": "xcpp14"
  },
  "language_info": {
   "codemirror_mode": "text/x-c++src",
   "file_extension": ".cpp",
   "mimetype": "text/x-c++src",
   "name": "c++",
   "version": "14"
  }
 },
 "nbformat": 4,
 "nbformat_minor": 4
}
